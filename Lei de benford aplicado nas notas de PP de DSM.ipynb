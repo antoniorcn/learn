{
 "cells": [
  {
   "cell_type": "code",
   "execution_count": 1,
   "id": "1191c1e9",
   "metadata": {},
   "outputs": [],
   "source": [
    "import numpy as np"
   ]
  },
  {
   "cell_type": "code",
   "execution_count": 2,
   "id": "37039f58",
   "metadata": {},
   "outputs": [],
   "source": [
    "import matplotlib.pyplot as plt"
   ]
  },
  {
   "cell_type": "code",
   "execution_count": 3,
   "id": "b9aacf6f",
   "metadata": {},
   "outputs": [],
   "source": [
    "algarismos = {}"
   ]
  },
  {
   "cell_type": "code",
   "execution_count": 4,
   "id": "275b6243",
   "metadata": {},
   "outputs": [],
   "source": [
    "arq1 = open(\"../dados/alunos-pp.csv\", \"r\")"
   ]
  },
  {
   "cell_type": "code",
   "execution_count": 5,
   "id": "ce4e4627",
   "metadata": {},
   "outputs": [],
   "source": [
    "linha = \"-\"\n",
    "while linha != \"\":\n",
    "    linha = arq1.readline()\n",
    "    if linha != \"\":\n",
    "        linha = linha.replace('\"', '').replace('\\n', '')\n",
    "        colunas = linha.split(\";\")\n",
    "        # print(colunas[1:])\n",
    "\n",
    "        for alg in colunas[1:2]:\n",
    "            if alg not in ['', ',']:\n",
    "                if alg in algarismos:\n",
    "                    algarismos[alg] = algarismos[alg] + 1\n",
    "                else: \n",
    "                    algarismos[alg] = 1\n",
    "        "
   ]
  },
  {
   "cell_type": "code",
   "execution_count": 6,
   "id": "61783f52",
   "metadata": {},
   "outputs": [
    {
     "data": {
      "text/plain": [
       "{'4': 12, '9': 3, '8': 12, '2': 9, '3': 12, '6': 60, '1': 12, '7': 30}"
      ]
     },
     "execution_count": 6,
     "metadata": {},
     "output_type": "execute_result"
    }
   ],
   "source": [
    "algarismos"
   ]
  },
  {
   "cell_type": "code",
   "execution_count": 7,
   "id": "f59050e6",
   "metadata": {},
   "outputs": [],
   "source": [
    "arq1.close()"
   ]
  },
  {
   "cell_type": "code",
   "execution_count": 8,
   "id": "e00e38cf",
   "metadata": {},
   "outputs": [],
   "source": [
    "x = np.array(list(algarismos.keys()))"
   ]
  },
  {
   "cell_type": "code",
   "execution_count": 9,
   "id": "9d56030f",
   "metadata": {},
   "outputs": [],
   "source": [
    "x = x.astype(int) "
   ]
  },
  {
   "cell_type": "code",
   "execution_count": 10,
   "id": "5e922ff2",
   "metadata": {},
   "outputs": [],
   "source": [
    "y = list(algarismos.values())"
   ]
  },
  {
   "cell_type": "code",
   "execution_count": 11,
   "id": "61462307",
   "metadata": {},
   "outputs": [],
   "source": [
    "soma = np.sum(y)"
   ]
  },
  {
   "cell_type": "code",
   "execution_count": 12,
   "id": "b9d47916",
   "metadata": {},
   "outputs": [],
   "source": [
    "y = np.array([i / soma * 100 for i in y])"
   ]
  },
  {
   "cell_type": "code",
   "execution_count": 13,
   "id": "0139b898",
   "metadata": {},
   "outputs": [],
   "source": [
    "porcentagem = np.sum(y)"
   ]
  },
  {
   "cell_type": "code",
   "execution_count": 14,
   "id": "2df528d3",
   "metadata": {},
   "outputs": [
    {
     "data": {
      "text/plain": [
       "100.0"
      ]
     },
     "execution_count": 14,
     "metadata": {},
     "output_type": "execute_result"
    }
   ],
   "source": [
    "porcentagem"
   ]
  },
  {
   "cell_type": "code",
   "execution_count": 15,
   "id": "8485b64b",
   "metadata": {},
   "outputs": [
    {
     "data": {
      "text/plain": [
       "<BarContainer object of 8 artists>"
      ]
     },
     "execution_count": 15,
     "metadata": {},
     "output_type": "execute_result"
    },
    {
     "data": {
      "image/png": "[encoded data removed]",
      "text/plain": [
       "<Figure size 640x480 with 1 Axes>"
      ]
     },
     "metadata": {},
     "output_type": "display_data"
    }
   ],
   "source": [
    "plt.barh(x, y)"
   ]
  },
  {
   "cell_type": "code",
   "execution_count": null,
   "id": "80c1a685",
   "metadata": {},
   "outputs": [],
   "source": []
  }
 ],
 "metadata": {
  "kernelspec": {
   "display_name": "Python 3 (ipykernel)",
   "language": "python",
   "name": "python3"
  },
  "language_info": {
   "codemirror_mode": {
    "name": "ipython",
    "version": 3
   },
   "file_extension": ".py",
   "mimetype": "text/x-python",
   "name": "python",
   "nbconvert_exporter": "python",
   "pygments_lexer": "ipython3",
   "version": "3.11.4"
  }
 },
 "nbformat": 4,
 "nbformat_minor": 5
}
