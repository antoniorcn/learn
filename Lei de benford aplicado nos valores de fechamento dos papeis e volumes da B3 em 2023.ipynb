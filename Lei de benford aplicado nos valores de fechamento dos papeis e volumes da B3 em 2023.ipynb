{
 "cells": [
  {
   "cell_type": "code",
   "execution_count": 1,
   "id": "1191c1e9",
   "metadata": {},
   "outputs": [],
   "source": [
    "import numpy as np"
   ]
  },
  {
   "cell_type": "code",
   "execution_count": 2,
   "id": "37039f58",
   "metadata": {},
   "outputs": [],
   "source": [
    "import matplotlib.pyplot as plt"
   ]
  },
  {
   "cell_type": "code",
   "execution_count": 3,
   "id": "b9aacf6f",
   "metadata": {},
   "outputs": [],
   "source": [
    "algarismos_preco = {}"
   ]
  },
  {
   "cell_type": "code",
   "execution_count": 4,
   "id": "f9bc3e84",
   "metadata": {},
   "outputs": [],
   "source": [
    "algarismos_volume = {}"
   ]
  },
  {
   "cell_type": "code",
   "execution_count": 5,
   "id": "275b6243",
   "metadata": {},
   "outputs": [],
   "source": [
    "arq1 = open(\"../dados/COTAHIST_A2023.TXT\", \"r\")"
   ]
  },
  {
   "cell_type": "code",
   "execution_count": 6,
   "id": "aa7b0501",
   "metadata": {},
   "outputs": [],
   "source": [
    "def populate_algarismos(texto, algarismos):\n",
    "    for digito in texto:\n",
    "        if digito in ['0', '1', '2', '3', '4', '5', '6', '7', '8', '9']:\n",
    "            if digito in algarismos:\n",
    "                algarismos[digito] = algarismos[digito] + 1\n",
    "            else: \n",
    "                algarismos[digito] = 1"
   ]
  },
  {
   "cell_type": "code",
   "execution_count": 7,
   "id": "ce4e4627",
   "metadata": {},
   "outputs": [],
   "source": [
    "linha = \"-\"\n",
    "while linha != \"\":\n",
    "    linha = arq1.readline()\n",
    "    if linha != \"\" and len(linha) > 50:\n",
    "        str_preco_abertura = linha[56:69].lstrip(\"0\")\n",
    "        str_volume_total = linha[170:188].lstrip(\"0\")\n",
    "        populate_algarismos(str_preco_abertura, algarismos_preco)\n",
    "        populate_algarismos(str_volume_total, algarismos_volume)"
   ]
  },
  {
   "cell_type": "code",
   "execution_count": 8,
   "id": "f59050e6",
   "metadata": {},
   "outputs": [],
   "source": [
    "arq1.close()"
   ]
  },
  {
   "cell_type": "code",
   "execution_count": 81,
   "id": "61783f52",
   "metadata": {
    "scrolled": true
   },
   "outputs": [],
   "source": [
    "algarismos_preco = dict(sorted(algarismos_preco.items()))"
   ]
  },
  {
   "cell_type": "code",
   "execution_count": 82,
   "id": "5c0c9c71",
   "metadata": {},
   "outputs": [],
   "source": [
    "algarismos_volume = dict(sorted(algarismos_volume.items()))"
   ]
  },
  {
   "cell_type": "code",
   "execution_count": 83,
   "id": "ef0bc944",
   "metadata": {},
   "outputs": [
    {
     "ename": "KeyError",
     "evalue": "'0'",
     "output_type": "error",
     "traceback": [
      "\u001b[1;31m---------------------------------------------------------------------------\u001b[0m",
      "\u001b[1;31mKeyError\u001b[0m                                  Traceback (most recent call last)",
      "Cell \u001b[1;32mIn[83], line 2\u001b[0m\n\u001b[0;32m      1\u001b[0m \u001b[38;5;66;03m# Removendo algarismo 0\u001b[39;00m\n\u001b[1;32m----> 2\u001b[0m \u001b[38;5;28;01mdel\u001b[39;00m algarismos_preco[\u001b[38;5;124m'\u001b[39m\u001b[38;5;124m0\u001b[39m\u001b[38;5;124m'\u001b[39m]\n\u001b[0;32m      3\u001b[0m \u001b[38;5;28;01mdel\u001b[39;00m algarismos_volume[\u001b[38;5;124m'\u001b[39m\u001b[38;5;124m0\u001b[39m\u001b[38;5;124m'\u001b[39m]\n",
      "\u001b[1;31mKeyError\u001b[0m: '0'"
     ]
    }
   ],
   "source": [
    "# Removendo algarismo 0\n",
    "del algarismos_preco['0']\n",
    "del algarismos_volume['0']"
   ]
  },
  {
   "cell_type": "code",
   "execution_count": 84,
   "id": "e00e38cf",
   "metadata": {},
   "outputs": [],
   "source": [
    "x_alg_preco = np.array(list(algarismos_preco.keys())).astype(int)"
   ]
  },
  {
   "cell_type": "code",
   "execution_count": 86,
   "id": "3ccf3a0f",
   "metadata": {},
   "outputs": [],
   "source": [
    "x_alg_volume = np.array(list(algarismos_volume.keys())).astype(int)"
   ]
  },
  {
   "cell_type": "code",
   "execution_count": 87,
   "id": "41f0148b",
   "metadata": {},
   "outputs": [],
   "source": [
    "x_bedford = np.arange(1, 9)"
   ]
  },
  {
   "cell_type": "code",
   "execution_count": 88,
   "id": "5e922ff2",
   "metadata": {},
   "outputs": [],
   "source": [
    "y_alg_preco = np.array(list(algarismos_preco.values()))"
   ]
  },
  {
   "cell_type": "code",
   "execution_count": 89,
   "id": "7af51a39",
   "metadata": {},
   "outputs": [],
   "source": [
    "y_alg_preco_norm = y_alg_preco / np.linalg.norm(y_alg_preco)"
   ]
  },
  {
   "cell_type": "code",
   "execution_count": 90,
   "id": "7df6fbe2",
   "metadata": {},
   "outputs": [],
   "source": [
    "y_alg_volume = np.array(list(algarismos_volume.values()))"
   ]
  },
  {
   "cell_type": "code",
   "execution_count": 91,
   "id": "aff36de9",
   "metadata": {},
   "outputs": [],
   "source": [
    "y_alg_volume_norm = y_alg_volume / np.linalg.norm(y_alg_volume)"
   ]
  },
  {
   "cell_type": "code",
   "execution_count": 92,
   "id": "46cc3b70",
   "metadata": {},
   "outputs": [],
   "source": [
    "y_bedford = np.log10( 1 + 1 / x_bedford)"
   ]
  },
  {
   "cell_type": "code",
   "execution_count": 93,
   "id": "65b9271f",
   "metadata": {},
   "outputs": [],
   "source": [
    "y_bedford_norm = y_bedford / np.linalg.norm(y_bedford)"
   ]
  },
  {
   "cell_type": "code",
   "execution_count": 94,
   "id": "8485b64b",
   "metadata": {},
   "outputs": [
    {
     "data": {
      "image/png": "[encoded data removed]",
      "text/plain": [
       "<Figure size 640x480 with 1 Axes>"
      ]
     },
     "metadata": {},
     "output_type": "display_data"
    }
   ],
   "source": [
    "plt.plot(x_bedford, y_bedford_norm, color=\"blue\")\n",
    "plt.plot(x_alg_preco, y_alg_preco_norm, color=\"red\")\n",
    "plt.plot(x_alg_volume, y_alg_volume_norm, color=\"green\")\n",
    "plt.show()"
   ]
  },
  {
   "cell_type": "code",
   "execution_count": null,
   "id": "ccc2f8e0",
   "metadata": {},
   "outputs": [],
   "source": []
  }
 ],
 "metadata": {
  "kernelspec": {
   "display_name": "Python 3 (ipykernel)",
   "language": "python",
   "name": "python3"
  },
  "language_info": {
   "codemirror_mode": {
    "name": "ipython",
    "version": 3
   },
   "file_extension": ".py",
   "mimetype": "text/x-python",
   "name": "python",
   "nbconvert_exporter": "python",
   "pygments_lexer": "ipython3",
   "version": "3.11.4"
  }
 },
 "nbformat": 4,
 "nbformat_minor": 5
}
