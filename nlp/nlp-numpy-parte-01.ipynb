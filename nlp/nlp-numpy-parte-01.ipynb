{
 "cells": [
  {
   "cell_type": "code",
   "execution_count": 2,
   "id": "48762be8",
   "metadata": {},
   "outputs": [],
   "source": [
    "from random import randint"
   ]
  },
  {
   "cell_type": "code",
   "execution_count": 6,
   "id": "447ad87d",
   "metadata": {},
   "outputs": [],
   "source": [
    "v1 = [i for i in range(100000)]\n",
    "v2 = [randint(100, 200) for _ in range(100000)]"
   ]
  },
  {
   "cell_type": "code",
   "execution_count": 12,
   "id": "6515c570",
   "metadata": {},
   "outputs": [],
   "source": [
    "def dot_product(vector1, vector2):\n",
    "    # Ensure the two vectors are of the same length\n",
    "    if len(vector1) != len(vector2):\n",
    "        raise ValueError(\"Vectors must have the same length\")\n",
    "\n",
    "    # Initialize the dot product to zero\n",
    "    dot_product = 0\n",
    "\n",
    "    # Calculate the dot product\n",
    "    for i in range(len(vector1)):\n",
    "        dot_product += vector1[i] * vector2[i]\n",
    "\n",
    "    return dot_product"
   ]
  },
  {
   "cell_type": "code",
   "execution_count": 13,
   "id": "b7779cd9",
   "metadata": {},
   "outputs": [],
   "source": [
    "dp1 = dot_product(v1, v2)"
   ]
  },
  {
   "cell_type": "code",
   "execution_count": 14,
   "id": "a888e2fc",
   "metadata": {},
   "outputs": [
    {
     "data": {
      "text/plain": [
       "750435218206"
      ]
     },
     "execution_count": 14,
     "metadata": {},
     "output_type": "execute_result"
    }
   ],
   "source": [
    "dp1"
   ]
  },
  {
   "cell_type": "code",
   "execution_count": 15,
   "id": "3ec2c3b5",
   "metadata": {},
   "outputs": [
    {
     "name": "stdout",
     "output_type": "stream",
     "text": [
      "-1184058594\n",
      "-1184058594\n"
     ]
    }
   ],
   "source": [
    "import numpy as np\n",
    "\n",
    "#define two arrays\n",
    "a = np.array(v1)\n",
    "b = np.array(v2)\n",
    "\n",
    "#calculate the dot product using numpy.dot()\n",
    "dot_product = np.dot(a, b)\n",
    "\n",
    "#calculate the dot product using the @ operator\n",
    "dot_product2 = a @ b\n",
    "\n",
    "print(dot_product)   # output: 32\n",
    "print(dot_product2)  # output: 32"
   ]
  },
  {
   "cell_type": "code",
   "execution_count": null,
   "id": "68c9ca25",
   "metadata": {},
   "outputs": [],
   "source": []
  },
  {
   "cell_type": "code",
   "execution_count": null,
   "id": "fa5fa452",
   "metadata": {},
   "outputs": [],
   "source": []
  }
 ],
 "metadata": {
  "kernelspec": {
   "display_name": "Python 3 (ipykernel)",
   "language": "python",
   "name": "python3"
  },
  "language_info": {
   "codemirror_mode": {
    "name": "ipython",
    "version": 3
   },
   "file_extension": ".py",
   "mimetype": "text/x-python",
   "name": "python",
   "nbconvert_exporter": "python",
   "pygments_lexer": "ipython3",
   "version": "3.11.4"
  }
 },
 "nbformat": 4,
 "nbformat_minor": 5
}
