{
 "cells": [
  {
   "cell_type": "code",
   "execution_count": 1,
   "id": "8f35bd7d",
   "metadata": {},
   "outputs": [],
   "source": [
    "import pandas as pd\n",
    "import nltk\n",
    "import json\n",
    "import string\n",
    "from matplotlib import pyplot as plt\n",
    "from sklearn.feature_extraction.text import CountVectorizer\n",
    "from sklearn.feature_extraction.text import TfidfVectorizer\n",
    "from sklearn.model_selection import train_test_split\n",
    "from sklearn.svm import LinearSVC\n",
    "from sklearn.ensemble import RandomForestClassifier\n",
    "from sklearn.naive_bayes import MultinomialNB\n",
    "from sklearn.linear_model import LogisticRegression\n",
    "from sklearn.model_selection import cross_val_score"
   ]
  },
  {
   "cell_type": "code",
   "execution_count": 2,
   "id": "a73b02c6",
   "metadata": {
    "scrolled": true
   },
   "outputs": [
    {
     "name": "stderr",
     "output_type": "stream",
     "text": [
      "[nltk_data] Downloading package stopwords to\n",
      "[nltk_data]     C:\\Users\\Antonio\\AppData\\Roaming\\nltk_data...\n",
      "[nltk_data]   Package stopwords is already up-to-date!\n"
     ]
    },
    {
     "data": {
      "text/plain": [
       "True"
      ]
     },
     "execution_count": 2,
     "metadata": {},
     "output_type": "execute_result"
    }
   ],
   "source": [
    "nltk.download('stopwords')"
   ]
  },
  {
   "cell_type": "code",
   "execution_count": 3,
   "id": "7963614f",
   "metadata": {},
   "outputs": [],
   "source": [
    "pd.set_option('mode.chained_assignment',None)"
   ]
  },
  {
   "cell_type": "code",
   "execution_count": 4,
   "id": "66b9e35d",
   "metadata": {},
   "outputs": [
    {
     "name": "stderr",
     "output_type": "stream",
     "text": [
      "C:\\Users\\Antonio\\AppData\\Local\\Temp\\ipykernel_11352\\2794354376.py:1: DtypeWarning: Columns (16) have mixed types. Specify dtype option on import or set low_memory=False.\n",
      "  data_set = pd.read_csv(\"../../dados/complaints.csv\")\n"
     ]
    }
   ],
   "source": [
    "data_set = pd.read_csv(\"../../dados/complaints.csv\")"
   ]
  },
  {
   "cell_type": "code",
   "execution_count": 9,
   "id": "268d0fb3",
   "metadata": {},
   "outputs": [],
   "source": [
    "database = data_set[[\"Product\", \"Consumer complaint narrative\"]]. dropna()"
   ]
  },
  {
   "cell_type": "code",
   "execution_count": 11,
   "id": "e6bc12df",
   "metadata": {},
   "outputs": [
    {
     "data": {
      "text/html": [
       "<div>\n",
       "<style scoped>\n",
       "    .dataframe tbody tr th:only-of-type {\n",
       "        vertical-align: middle;\n",
       "    }\n",
       "\n",
       "    .dataframe tbody tr th {\n",
       "        vertical-align: top;\n",
       "    }\n",
       "\n",
       "    .dataframe thead th {\n",
       "        text-align: right;\n",
       "    }\n",
       "</style>\n",
       "<table border=\"1\" class=\"dataframe\">\n",
       "  <thead>\n",
       "    <tr style=\"text-align: right;\">\n",
       "      <th></th>\n",
       "      <th>Product</th>\n",
       "      <th>Consumer complaint narrative</th>\n",
       "    </tr>\n",
       "  </thead>\n",
       "  <tbody>\n",
       "    <tr>\n",
       "      <th>11</th>\n",
       "      <td>Credit card or prepaid card</td>\n",
       "      <td>I filed Identity theft and told chime to mail ...</td>\n",
       "    </tr>\n",
       "    <tr>\n",
       "      <th>14</th>\n",
       "      <td>Mortgage</td>\n",
       "      <td>I have filed several complaints against this c...</td>\n",
       "    </tr>\n",
       "    <tr>\n",
       "      <th>34</th>\n",
       "      <td>Credit reporting, credit repair services, or o...</td>\n",
       "      <td>In accordance with the Fair Credit Reporting a...</td>\n",
       "    </tr>\n",
       "    <tr>\n",
       "      <th>44</th>\n",
       "      <td>Vehicle loan or lease</td>\n",
       "      <td>My spouse filed XXXX XXXX bankruptcy without m...</td>\n",
       "    </tr>\n",
       "    <tr>\n",
       "      <th>48</th>\n",
       "      <td>Checking or savings account</td>\n",
       "      <td>I tried to transfer funds and use my debit car...</td>\n",
       "    </tr>\n",
       "    <tr>\n",
       "      <th>...</th>\n",
       "      <td>...</td>\n",
       "      <td>...</td>\n",
       "    </tr>\n",
       "    <tr>\n",
       "      <th>4227366</th>\n",
       "      <td>Credit reporting, credit repair services, or o...</td>\n",
       "      <td>To Equifax This letter is a formal complaint t...</td>\n",
       "    </tr>\n",
       "    <tr>\n",
       "      <th>4227367</th>\n",
       "      <td>Credit reporting, credit repair services, or o...</td>\n",
       "      <td>The credit reporting agency is XXXX. \\n\\nCredi...</td>\n",
       "    </tr>\n",
       "    <tr>\n",
       "      <th>4227370</th>\n",
       "      <td>Credit card or prepaid card</td>\n",
       "      <td>After wasting hours politely talking with seve...</td>\n",
       "    </tr>\n",
       "    <tr>\n",
       "      <th>4227371</th>\n",
       "      <td>Credit reporting, credit repair services, or o...</td>\n",
       "      <td>I am submitting this complaint on my own behal...</td>\n",
       "    </tr>\n",
       "    <tr>\n",
       "      <th>4227373</th>\n",
       "      <td>Credit reporting, credit repair services, or o...</td>\n",
       "      <td>This is my 17th endeavor to tell you that I am...</td>\n",
       "    </tr>\n",
       "  </tbody>\n",
       "</table>\n",
       "<p>1535846 rows × 2 columns</p>\n",
       "</div>"
      ],
      "text/plain": [
       "                                                   Product  \\\n",
       "11                             Credit card or prepaid card   \n",
       "14                                                Mortgage   \n",
       "34       Credit reporting, credit repair services, or o...   \n",
       "44                                   Vehicle loan or lease   \n",
       "48                             Checking or savings account   \n",
       "...                                                    ...   \n",
       "4227366  Credit reporting, credit repair services, or o...   \n",
       "4227367  Credit reporting, credit repair services, or o...   \n",
       "4227370                        Credit card or prepaid card   \n",
       "4227371  Credit reporting, credit repair services, or o...   \n",
       "4227373  Credit reporting, credit repair services, or o...   \n",
       "\n",
       "                              Consumer complaint narrative  \n",
       "11       I filed Identity theft and told chime to mail ...  \n",
       "14       I have filed several complaints against this c...  \n",
       "34       In accordance with the Fair Credit Reporting a...  \n",
       "44       My spouse filed XXXX XXXX bankruptcy without m...  \n",
       "48       I tried to transfer funds and use my debit car...  \n",
       "...                                                    ...  \n",
       "4227366  To Equifax This letter is a formal complaint t...  \n",
       "4227367  The credit reporting agency is XXXX. \\n\\nCredi...  \n",
       "4227370  After wasting hours politely talking with seve...  \n",
       "4227371  I am submitting this complaint on my own behal...  \n",
       "4227373  This is my 17th endeavor to tell you that I am...  \n",
       "\n",
       "[1535846 rows x 2 columns]"
      ]
     },
     "execution_count": 11,
     "metadata": {},
     "output_type": "execute_result"
    }
   ],
   "source": [
    "database"
   ]
  },
  {
   "cell_type": "code",
   "execution_count": null,
   "id": "a015f4b5",
   "metadata": {},
   "outputs": [],
   "source": []
  }
 ],
 "metadata": {
  "kernelspec": {
   "display_name": "Python 3 (ipykernel)",
   "language": "python",
   "name": "python3"
  },
  "language_info": {
   "codemirror_mode": {
    "name": "ipython",
    "version": 3
   },
   "file_extension": ".py",
   "mimetype": "text/x-python",
   "name": "python",
   "nbconvert_exporter": "python",
   "pygments_lexer": "ipython3",
   "version": "3.11.4"
  }
 },
 "nbformat": 4,
 "nbformat_minor": 5
}
