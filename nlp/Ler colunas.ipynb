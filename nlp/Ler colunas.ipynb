{
 "cells": [
  {
   "cell_type": "code",
   "execution_count": 1,
   "id": "509d4ba2",
   "metadata": {},
   "outputs": [],
   "source": [
    "import matplotlib.pyplot as plt"
   ]
  },
  {
   "cell_type": "code",
   "execution_count": 2,
   "id": "d0b89c98",
   "metadata": {},
   "outputs": [],
   "source": [
    "arquivo = open(\"./valores.csv\", \"r\", encoding=\"utf-8\")"
   ]
  },
  {
   "cell_type": "code",
   "execution_count": 3,
   "id": "4800bc10",
   "metadata": {},
   "outputs": [
    {
     "name": "stdout",
     "output_type": "stream",
     "text": [
      "Linha lida:  X,Y\n",
      "Linha lida:  73,48\n",
      "Colunas:  ['73', '48']\n",
      "Linha lida:  91,15\n",
      "Colunas:  ['91', '15']\n",
      "Linha lida:  27,62\n",
      "Colunas:  ['27', '62']\n",
      "Linha lida:  55,84\n",
      "Colunas:  ['55', '84']\n",
      "Linha lida:  36,10\n",
      "Colunas:  ['36', '10']\n",
      "Linha lida:  68,79\n",
      "Colunas:  ['68', '79']\n",
      "Linha lida:  42,33\n",
      "Colunas:  ['42', '33']\n",
      "Linha lida:  17,97\n",
      "Colunas:  ['17', '97']\n",
      "Linha lida:  50,23\n",
      "Colunas:  ['50', '23']\n",
      "Linha lida:  82,71\n",
      "Colunas:  ['82', '71']\n",
      "Linha lida:  \n"
     ]
    },
    {
     "data": {
      "image/png": "[encoded data removed]",
      "text/plain": [
       "<Figure size 640x480 with 1 Axes>"
      ]
     },
     "metadata": {},
     "output_type": "display_data"
    }
   ],
   "source": [
    "linha = \"A\"\n",
    "indice = 0\n",
    "X = []\n",
    "Y = []\n",
    "while linha != \"\":\n",
    "    linha = arquivo.readline().replace(\"\\n\", \"\").replace(\" \", \"\")\n",
    "    print(\"Linha lida: \", linha)\n",
    "    if indice != 0 and linha != \"\":\n",
    "        colunas = linha.split(\",\")\n",
    "        print(\"Colunas: \", colunas)\n",
    "        X.append(int(colunas[0]))\n",
    "        Y.append(int(colunas[1]))\n",
    "    indice += 1\n",
    "plt.scatter(X, Y)\n",
    "arquivo.close()"
   ]
  },
  {
   "cell_type": "code",
   "execution_count": 4,
   "id": "88ec7fb1",
   "metadata": {},
   "outputs": [
    {
     "data": {
      "text/plain": [
       "[73, 91, 27, 55, 36, 68, 42, 17, 50, 82]"
      ]
     },
     "execution_count": 4,
     "metadata": {},
     "output_type": "execute_result"
    }
   ],
   "source": [
    "X"
   ]
  },
  {
   "cell_type": "code",
   "execution_count": 5,
   "id": "3021853d",
   "metadata": {},
   "outputs": [
    {
     "data": {
      "text/plain": [
       "[48, 15, 62, 84, 10, 79, 33, 97, 23, 71]"
      ]
     },
     "execution_count": 5,
     "metadata": {},
     "output_type": "execute_result"
    }
   ],
   "source": [
    "Y"
   ]
  },
  {
   "cell_type": "code",
   "execution_count": null,
   "id": "37bd63bb",
   "metadata": {},
   "outputs": [],
   "source": []
  }
 ],
 "metadata": {
  "kernelspec": {
   "display_name": "Python 3 (ipykernel)",
   "language": "python",
   "name": "python3"
  },
  "language_info": {
   "codemirror_mode": {
    "name": "ipython",
    "version": 3
   },
   "file_extension": ".py",
   "mimetype": "text/x-python",
   "name": "python",
   "nbconvert_exporter": "python",
   "pygments_lexer": "ipython3",
   "version": "3.10.9"
  }
 },
 "nbformat": 4,
 "nbformat_minor": 5
}
