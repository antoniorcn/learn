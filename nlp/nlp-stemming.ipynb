{
 "cells": [
  {
   "cell_type": "code",
   "execution_count": 40,
   "id": "1471fcfe",
   "metadata": {},
   "outputs": [
    {
     "name": "stderr",
     "output_type": "stream",
     "text": [
      "[nltk_data] Downloading package rslp to\n",
      "[nltk_data]     C:\\Users\\a.neto\\AppData\\Roaming\\nltk_data...\n",
      "[nltk_data]   Package rslp is already up-to-date!\n",
      "[nltk_data] Downloading package wordnet to\n",
      "[nltk_data]     C:\\Users\\a.neto\\AppData\\Roaming\\nltk_data...\n"
     ]
    },
    {
     "data": {
      "text/plain": [
       "True"
      ]
     },
     "execution_count": 40,
     "metadata": {},
     "output_type": "execute_result"
    }
   ],
   "source": [
    "import re\n",
    "import nltk\n",
    "from nltk.stem import RSLPStemmer\n",
    "nltk.download('rslp')\n",
    "nltk.download('wordnet')"
   ]
  },
  {
   "cell_type": "code",
   "execution_count": 41,
   "id": "a4debe60",
   "metadata": {},
   "outputs": [],
   "source": [
    " from nltk.stem import WordNetLemmatizer\n",
    " wnl = WordNetLemmatizer()"
   ]
  },
  {
   "cell_type": "code",
   "execution_count": 32,
   "id": "705dd1d0",
   "metadata": {},
   "outputs": [],
   "source": [
    "texto = \"\"\"rato roeu a roupa do rei de Roma,\n",
    "O rato roeu a roupa do rei da Rússia,\n",
    "O rato roeu a roupa do RodovaIho...\n",
    "O rato a roer roía\n",
    "E a rosa Rita Ramalho do rato a roer se ria.\n",
    "O rato roeu a roupa do rei de roma\n",
    "a rainha com raiva roeu o resto.\"\"\""
   ]
  },
  {
   "cell_type": "code",
   "execution_count": 36,
   "id": "6c5a9f1e",
   "metadata": {},
   "outputs": [],
   "source": [
    "def stem_regex( textos ):\n",
    "    padrao = r'(?:lhos|lhas|lho|lha|de|os|as|o|a|eu|s|ar|er|ir|or|ur|ia)\\b'\n",
    "    palavras = textos.lower().split()\n",
    "    nova_lista = []\n",
    "    for palavra in palavras:\n",
    "        # resultado = re.findall('^(.*ss|.*?)(s)?$', palavra)[0][0]\n",
    "        # resultado = re.findall('^(.*ss|.*?)(s)?|ing$|s$|e$|able$', palavra)\n",
    "        # Substituir os sufixos pela string vazia\n",
    "        resultado = re.sub(padrao, '', palavra)\n",
    "        nova_lista.append(resultado)\n",
    "    return \" \".join(nova_lista)"
   ]
  },
  {
   "cell_type": "code",
   "execution_count": 37,
   "id": "43bc72c1",
   "metadata": {},
   "outputs": [],
   "source": [
    "def stem_rslp( textos ):\n",
    "    stemmer = RSLPStemmer()\n",
    "    nova_lista = []\n",
    "    for palavra in texto.split(\" \"):\n",
    "        nova_lista.append(stemmer.stem(palavra))\n",
    "    return \" \".join(nova_lista)"
   ]
  },
  {
   "cell_type": "code",
   "execution_count": 38,
   "id": "306dd0df",
   "metadata": {},
   "outputs": [
    {
     "data": {
      "text/plain": [
       "'rat ro  roup d rei  rom,  rat ro  roup d rei d rúss,  rat ro  roup d rodovaih...  rat  ro roí e  ros rit rama d rat  ro se r.  rat ro  roup d rei  rom  rainh com raiv ro  rest.'"
      ]
     },
     "execution_count": 38,
     "metadata": {},
     "output_type": "execute_result"
    }
   ],
   "source": [
    "stem_regex(texto)"
   ]
  },
  {
   "cell_type": "code",
   "execution_count": 39,
   "id": "6387d881",
   "metadata": {},
   "outputs": [
    {
     "data": {
      "text/plain": [
       "'rat roeu a roup do rei de roma,\\n rat roeu a roup do rei da rússia,\\n rat roeu a roup do rodovaiho...\\n rat a ro roía\\n a ros rit ramalh do rat a ro se ria.\\n rat roeu a roup do rei de roma\\n rainh com raiv roeu o resto.'"
      ]
     },
     "execution_count": 39,
     "metadata": {},
     "output_type": "execute_result"
    }
   ],
   "source": [
    "stem_rslp(texto)"
   ]
  },
  {
   "cell_type": "code",
   "execution_count": 43,
   "id": "4915bb5d",
   "metadata": {},
   "outputs": [
    {
     "data": {
      "text/plain": [
       "'carroceria'"
      ]
     },
     "execution_count": 43,
     "metadata": {},
     "output_type": "execute_result"
    }
   ],
   "source": [
    "wnl.lemmatize('carroceria')"
   ]
  },
  {
   "cell_type": "code",
   "execution_count": null,
   "id": "0c20bb92",
   "metadata": {},
   "outputs": [],
   "source": []
  }
 ],
 "metadata": {
  "kernelspec": {
   "display_name": "Python 3 (ipykernel)",
   "language": "python",
   "name": "python3"
  },
  "language_info": {
   "codemirror_mode": {
    "name": "ipython",
    "version": 3
   },
   "file_extension": ".py",
   "mimetype": "text/x-python",
   "name": "python",
   "nbconvert_exporter": "python",
   "pygments_lexer": "ipython3",
   "version": "3.11.4"
  }
 },
 "nbformat": 4,
 "nbformat_minor": 5
}
