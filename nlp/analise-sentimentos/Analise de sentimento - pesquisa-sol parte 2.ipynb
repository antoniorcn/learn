{
 "cells": [
  {
   "cell_type": "code",
   "execution_count": 1,
   "id": "84233a61",
   "metadata": {},
   "outputs": [],
   "source": [
    "# !pip install pycryptodome==3.15.0\n",
    "# !pip install PyPDF2"
   ]
  },
  {
   "cell_type": "code",
   "execution_count": 2,
   "id": "ded25352",
   "metadata": {},
   "outputs": [],
   "source": [
    "# !python -m pip install spacy\n",
    "# !python -m spacy download pt"
   ]
  },
  {
   "cell_type": "code",
   "execution_count": 1,
   "id": "685c015a",
   "metadata": {},
   "outputs": [],
   "source": [
    "import nltk"
   ]
  },
  {
   "cell_type": "code",
   "execution_count": 2,
   "id": "53b8e5c2",
   "metadata": {},
   "outputs": [],
   "source": [
    "import numpy as np"
   ]
  },
  {
   "cell_type": "code",
   "execution_count": 3,
   "id": "c98281d2",
   "metadata": {},
   "outputs": [],
   "source": [
    "from nltk.util import ngrams"
   ]
  },
  {
   "cell_type": "code",
   "execution_count": 4,
   "id": "f0dbee2e",
   "metadata": {},
   "outputs": [],
   "source": [
    "import pandas as pd"
   ]
  },
  {
   "cell_type": "code",
   "execution_count": 5,
   "id": "e249a385",
   "metadata": {},
   "outputs": [],
   "source": [
    "from sklearn.model_selection import train_test_split"
   ]
  },
  {
   "cell_type": "code",
   "execution_count": 6,
   "id": "6ef46f83",
   "metadata": {},
   "outputs": [],
   "source": [
    "from sklearn.feature_extraction.text import CountVectorizer"
   ]
  },
  {
   "cell_type": "code",
   "execution_count": 7,
   "id": "d47a9886",
   "metadata": {},
   "outputs": [],
   "source": [
    "from sklearn import linear_model"
   ]
  },
  {
   "cell_type": "code",
   "execution_count": 8,
   "id": "97ec6a03",
   "metadata": {},
   "outputs": [],
   "source": [
    "import string"
   ]
  },
  {
   "cell_type": "code",
   "execution_count": 9,
   "id": "2f151208",
   "metadata": {},
   "outputs": [],
   "source": [
    "from sklearn.linear_model import LogisticRegression"
   ]
  },
  {
   "cell_type": "code",
   "execution_count": 10,
   "id": "93c47e70",
   "metadata": {},
   "outputs": [],
   "source": [
    "from unidecode import unidecode"
   ]
  },
  {
   "cell_type": "code",
   "execution_count": 11,
   "id": "c556b625",
   "metadata": {},
   "outputs": [],
   "source": [
    "from sklearn.feature_extraction.text import TfidfVectorizer"
   ]
  },
  {
   "cell_type": "code",
   "execution_count": 93,
   "id": "daaff6b7",
   "metadata": {},
   "outputs": [],
   "source": [
    "import matplotlib.pyplot as plt"
   ]
  },
  {
   "cell_type": "code",
   "execution_count": 12,
   "id": "aea35b93",
   "metadata": {},
   "outputs": [],
   "source": [
    "perguntas = [\n",
    "    'Como esse COIL afetou sua consciência global?',\n",
    "    'Que novas perspectivas você descobriu durante sua experiência no COIL?',\n",
    "    'Que pontos em comum você notou durante sua experiência com o COIL?',\n",
    "    'Você recomendaria uma experiência COIL a um amigo? Por que sim ou por que não?',\n",
    "    'O que você diria que os alunos precisam fazer se quiserem ter uma experiência COIL bem-sucedida?',\n",
    "    'Se você fosse fazer o COIL com colegas internacionais novamente, o que faria de diferente?',\n",
    "    'O que tornou a experiência COIL única ou especial?',\n",
    "    'O que você aprendeu sobre seus colegas internacionais? O que você aprendeu sobre si mesmo?',\n",
    "    'De modo geral, qual foi o momento de aprendizado mais interessante e útil para você em suas atividades de colaboração com colegas internacionais?',\n",
    "    'O que você aprendeu com o COIL que pode ajudá-lo em outras áreas de sua vida?',\n",
    "    'O que você aprendeu com a apresentação dos seus colegas de equipe do Brasil no Padlet?',\n",
    "    'Seus aprendizados do'\n",
    "]"
   ]
  },
  {
   "cell_type": "code",
   "execution_count": 14,
   "id": "58ac2569",
   "metadata": {},
   "outputs": [
    {
     "name": "stdout",
     "output_type": "stream",
     "text": [
      "Tamanho Perguntas: 12\n"
     ]
    }
   ],
   "source": [
    "print(f\"Tamanho Perguntas: {len(perguntas)}\")"
   ]
  },
  {
   "cell_type": "code",
   "execution_count": 29,
   "id": "1e2556d1",
   "metadata": {
    "scrolled": true
   },
   "outputs": [
    {
     "data": {
      "text/html": [
       "<div>\n",
       "<style scoped>\n",
       "    .dataframe tbody tr th:only-of-type {\n",
       "        vertical-align: middle;\n",
       "    }\n",
       "\n",
       "    .dataframe tbody tr th {\n",
       "        vertical-align: top;\n",
       "    }\n",
       "\n",
       "    .dataframe thead th {\n",
       "        text-align: right;\n",
       "    }\n",
       "</style>\n",
       "<table border=\"1\" class=\"dataframe\">\n",
       "  <thead>\n",
       "    <tr style=\"text-align: right;\">\n",
       "      <th></th>\n",
       "      <th>id</th>\n",
       "      <th>ult_mod</th>\n",
       "    </tr>\n",
       "  </thead>\n",
       "  <tbody>\n",
       "    <tr>\n",
       "      <th>count</th>\n",
       "      <td>14.0000</td>\n",
       "      <td>0.0</td>\n",
       "    </tr>\n",
       "    <tr>\n",
       "      <th>mean</th>\n",
       "      <td>8.5000</td>\n",
       "      <td>NaN</td>\n",
       "    </tr>\n",
       "    <tr>\n",
       "      <th>std</th>\n",
       "      <td>4.1833</td>\n",
       "      <td>NaN</td>\n",
       "    </tr>\n",
       "    <tr>\n",
       "      <th>min</th>\n",
       "      <td>2.0000</td>\n",
       "      <td>NaN</td>\n",
       "    </tr>\n",
       "    <tr>\n",
       "      <th>25%</th>\n",
       "      <td>5.2500</td>\n",
       "      <td>NaN</td>\n",
       "    </tr>\n",
       "    <tr>\n",
       "      <th>50%</th>\n",
       "      <td>8.5000</td>\n",
       "      <td>NaN</td>\n",
       "    </tr>\n",
       "    <tr>\n",
       "      <th>75%</th>\n",
       "      <td>11.7500</td>\n",
       "      <td>NaN</td>\n",
       "    </tr>\n",
       "    <tr>\n",
       "      <th>max</th>\n",
       "      <td>15.0000</td>\n",
       "      <td>NaN</td>\n",
       "    </tr>\n",
       "  </tbody>\n",
       "</table>\n",
       "</div>"
      ],
      "text/plain": [
       "            id  ult_mod\n",
       "count  14.0000      0.0\n",
       "mean    8.5000      NaN\n",
       "std     4.1833      NaN\n",
       "min     2.0000      NaN\n",
       "25%     5.2500      NaN\n",
       "50%     8.5000      NaN\n",
       "75%    11.7500      NaN\n",
       "max    15.0000      NaN"
      ]
     },
     "execution_count": 29,
     "metadata": {},
     "output_type": "execute_result"
    }
   ],
   "source": [
    "# Carregar a base de dados com perguntas e respostas\n",
    "df = pd.read_csv(\"../../../dados/pesquisa-sol/reflexoes-coil.csv\", encoding='utf8', delimiter=\";\", quotechar='\"', \n",
    "    names=['id', 'hora_inicio', 'hora_conclusao', 'email', 'nome', 'ult_mod', 'nome_entrevistado', 'q1', 'q2', 'q3', 'q4', \n",
    "           'q5', 'q6', 'q7', 'q8', 'q9', 'q10'], header=1)\n",
    "df.describe()"
   ]
  },
  {
   "cell_type": "code",
   "execution_count": 33,
   "id": "297a19cf",
   "metadata": {},
   "outputs": [
    {
     "data": {
      "text/html": [
       "<div>\n",
       "<style scoped>\n",
       "    .dataframe tbody tr th:only-of-type {\n",
       "        vertical-align: middle;\n",
       "    }\n",
       "\n",
       "    .dataframe tbody tr th {\n",
       "        vertical-align: top;\n",
       "    }\n",
       "\n",
       "    .dataframe thead th {\n",
       "        text-align: right;\n",
       "    }\n",
       "</style>\n",
       "<table border=\"1\" class=\"dataframe\">\n",
       "  <thead>\n",
       "    <tr style=\"text-align: right;\">\n",
       "      <th></th>\n",
       "      <th>id</th>\n",
       "      <th>nome_entrevistado</th>\n",
       "      <th>q1</th>\n",
       "      <th>q2</th>\n",
       "      <th>q3</th>\n",
       "      <th>q4</th>\n",
       "      <th>q5</th>\n",
       "      <th>q6</th>\n",
       "      <th>q7</th>\n",
       "      <th>q8</th>\n",
       "      <th>q9</th>\n",
       "      <th>q10</th>\n",
       "    </tr>\n",
       "  </thead>\n",
       "  <tbody>\n",
       "    <tr>\n",
       "      <th>0</th>\n",
       "      <td>2</td>\n",
       "      <td>AUGUSTIN WONG</td>\n",
       "      <td>O Coil influenciou a minha consciência global ...</td>\n",
       "      <td>Uma nova perspectiva que descobri durante a mi...</td>\n",
       "      <td>Os pontos comuns que notei durante a minha exp...</td>\n",
       "      <td>Eu recomendaria a experiência COIL a um amigo ...</td>\n",
       "      <td>Os alunos precisam de fazer algumas coisas se ...</td>\n",
       "      <td>Se eu fosse usar o COIL novamente, o que eu fa...</td>\n",
       "      <td>A experiência no COIL foi única porque pude ap...</td>\n",
       "      <td>Aprendi muito sobre mim mesmo e sobre meus col...</td>\n",
       "      <td>De modo geral, o momento de aprendizado mais i...</td>\n",
       "      <td>Posso tirar muitas lições do COIL, como, por e...</td>\n",
       "    </tr>\n",
       "    <tr>\n",
       "      <th>1</th>\n",
       "      <td>3</td>\n",
       "      <td>HARMANPREET KAUR</td>\n",
       "      <td>A Coil ajudou-me a aumentar a consciência glob...</td>\n",
       "      <td>O COIL introduziu-me a uma nova perspectiva so...</td>\n",
       "      <td>Apesar das nossas diferenças culturais, reconh...</td>\n",
       "      <td>Recomendo vivamente a experiência do COIL a um...</td>\n",
       "      <td>Para ter uma boa experiência COIL, os alunos d...</td>\n",
       "      <td>Se eu fosse ao COIL com colegas internacionais...</td>\n",
       "      <td>A experiência do COIL foi única porque possibi...</td>\n",
       "      <td>O COIL me proporcionou insights inestimáveis s...</td>\n",
       "      <td>O módulo nos ajudou a compartilhar o valor do ...</td>\n",
       "      <td>A experiência do COIL aumentou a minha consciê...</td>\n",
       "    </tr>\n",
       "    <tr>\n",
       "      <th>2</th>\n",
       "      <td>4</td>\n",
       "      <td>ISAYA LORJITSAARD</td>\n",
       "      <td>Durante um semestre, fiz parte do COIL e isso ...</td>\n",
       "      <td>Aprendi novos pontos de vista com a minha expe...</td>\n",
       "      <td>Através do trabalho de grupo, reparei em algun...</td>\n",
       "      <td>Absolutamente recomendável. Do meu ponto de vi...</td>\n",
       "      <td>Ter uma mente aberta. O conhecimento está em t...</td>\n",
       "      <td>Eu aprenderia o idioma deles, provavelmente ap...</td>\n",
       "      <td>Do meu ponto de vista, acho que a experiência ...</td>\n",
       "      <td>Logo no início do curso, com a introdução do C...</td>\n",
       "      <td>Como mencionei na resposta anterior, um dos mo...</td>\n",
       "      <td>O COIL melhorou significativamente minha habil...</td>\n",
       "    </tr>\n",
       "    <tr>\n",
       "      <th>3</th>\n",
       "      <td>5</td>\n",
       "      <td>JAMA MAHAMUD</td>\n",
       "      <td>Como aluno, antes desse curso, eu nunca tinha ...</td>\n",
       "      <td>Essa foi uma experiência excelente e produtiva...</td>\n",
       "      <td>A partir das postagens no Padlet e de outras c...</td>\n",
       "      <td>Desde o início da história da humanidade, a gl...</td>\n",
       "      <td>Colaborar com seus colegas de classe e profess...</td>\n",
       "      <td>A maneira como os professores e ambas as insti...</td>\n",
       "      <td>Acredito que nosso curso se baseou nas asas im...</td>\n",
       "      <td>Aprendi muitos conceitos sobre comportamentos ...</td>\n",
       "      <td>Estar fora de sua cultura e pensamentos e apre...</td>\n",
       "      <td>Entendo os conceitos de organizações e como eu...</td>\n",
       "    </tr>\n",
       "    <tr>\n",
       "      <th>4</th>\n",
       "      <td>6</td>\n",
       "      <td>JAMES KAWAN</td>\n",
       "      <td>Neste semestre, participar do COIL com meus am...</td>\n",
       "      <td>Participar do COIL com colegas de classe brasi...</td>\n",
       "      <td>Consegui encontrar pontos em comum com meus co...</td>\n",
       "      <td>Além de estar alinhado academicamente, o progr...</td>\n",
       "      <td>Os alunos devem cooperar e ter habilidades de ...</td>\n",
       "      <td>Se a oportunidade de colaborar com colegas glo...</td>\n",
       "      <td>Estávamos separados geograficamente, mas a exp...</td>\n",
       "      <td>As conversas que tivemos durante o COIL fluíra...</td>\n",
       "      <td>Perceber que a diversidade abrange uma série d...</td>\n",
       "      <td>Minha experiência no COIL me proporcionou habi...</td>\n",
       "    </tr>\n",
       "    <tr>\n",
       "      <th>5</th>\n",
       "      <td>7</td>\n",
       "      <td>JOLINA CLARIDAD</td>\n",
       "      <td>Participar da experiência do COIL me ajudou a ...</td>\n",
       "      <td>A experiência no COIL abriu meus olhos, aprese...</td>\n",
       "      <td>Ao longo da minha experiência no COIL, surgira...</td>\n",
       "      <td>Sem dúvida, eu recomendaria uma experiência CO...</td>\n",
       "      <td>Para que a experiência COIL seja bem-sucedida,...</td>\n",
       "      <td>Refletindo sobre minha experiência anterior no...</td>\n",
       "      <td>A singularidade da experiência COIL decorre da...</td>\n",
       "      <td>O envolvimento com meus colegas internacionais...</td>\n",
       "      <td>A experiência de aprendizado mais interessante...</td>\n",
       "      <td>A experiência no COIL destacou áreas da minha ...</td>\n",
       "    </tr>\n",
       "    <tr>\n",
       "      <th>6</th>\n",
       "      <td>8</td>\n",
       "      <td>JOSHUA ROBINSON</td>\n",
       "      <td>Na minha vida, eu nasci e cresci no Canadá, o ...</td>\n",
       "      <td>Tenho novas perspectivas a partir da minha exp...</td>\n",
       "      <td>Com a minha falta de conhecimento de Pessoas a...</td>\n",
       "      <td>Eu tive uma grande experiência com a equipe de...</td>\n",
       "      <td>A partir da minha experiência com o Coil, foi ...</td>\n",
       "      <td>Uma vez que esta foi a minha primeira experiên...</td>\n",
       "      <td>A experiência da bobina foi única para mim, eu...</td>\n",
       "      <td>Eu aprendi muitas coisas com esta experiência ...</td>\n",
       "      <td>O momento de aprendizagem mais interessante e ...</td>\n",
       "      <td>A maior tirar da minha experiência de bobina s...</td>\n",
       "    </tr>\n",
       "    <tr>\n",
       "      <th>7</th>\n",
       "      <td>9</td>\n",
       "      <td>JUGAADH SINGH MANOCHA</td>\n",
       "      <td>A participação no COIL aumentou significativam...</td>\n",
       "      <td>O COIL tem sido uma jornada de descobertas, re...</td>\n",
       "      <td>Apesar de nossas diversas origens culturais, o...</td>\n",
       "      <td>Sem hesitar, eu recomendaria de todo o coração...</td>\n",
       "      <td>O sucesso em uma experiência COIL depende de c...</td>\n",
       "      <td>Refletindo sobre essa experiência COIL, eu abo...</td>\n",
       "      <td>O que torna a experiência do COIL realmente ún...</td>\n",
       "      <td>O que você aprendeu sobre si mesmo? O envolvim...</td>\n",
       "      <td>O momento de aprendizado mais interessante e ú...</td>\n",
       "      <td>As lições do COIL vão muito além das conquista...</td>\n",
       "    </tr>\n",
       "    <tr>\n",
       "      <th>8</th>\n",
       "      <td>10</td>\n",
       "      <td>LOK TIN SIU TIMOTH</td>\n",
       "      <td>Como participante do COIL, a experiência ampli...</td>\n",
       "      <td>Trabalhar com eles me proporcionou insights s...</td>\n",
       "      <td>Os alunos do Sêneca e da Fatec se apresentam n...</td>\n",
       "      <td>Por que sim ou por que não? Com certeza recome...</td>\n",
       "      <td>Os alunos que desejam ter uma experiência COIL...</td>\n",
       "      <td>Se eu tiver outra oportunidade de trabalhar co...</td>\n",
       "      <td>A parte mais especial do COIL é a cooperação g...</td>\n",
       "      <td>Trabalhar com membros internacionais me propor...</td>\n",
       "      <td>É interessante conhecer um grupo de alunos do...</td>\n",
       "      <td>Durante o COIL, apliquei o conhecimento que ap...</td>\n",
       "    </tr>\n",
       "    <tr>\n",
       "      <th>10</th>\n",
       "      <td>12</td>\n",
       "      <td>REETIKA</td>\n",
       "      <td>Online International Learning (COIL), que foi ...</td>\n",
       "      <td>Embarcar na jornada do Collaborative Online In...</td>\n",
       "      <td>O Collaborative Online International Learning ...</td>\n",
       "      <td>Embarcar em uma jornada de Aprendizagem Intern...</td>\n",
       "      <td>Compreensão mais abrangente do mundo. Eu suger...</td>\n",
       "      <td>A noção de minha experiência com o Collaborati...</td>\n",
       "      <td>O programa Collaborative Online International ...</td>\n",
       "      <td>O Collaborative Online Foreign Learning (COIL)...</td>\n",
       "      <td>(COIL), me ocorre um exemplo específico que ca...</td>\n",
       "      <td>O Collaborative Online International Learning ...</td>\n",
       "    </tr>\n",
       "    <tr>\n",
       "      <th>11</th>\n",
       "      <td>13</td>\n",
       "      <td>SANVIR TOOR</td>\n",
       "      <td>Estar envolvido no COIL, ou aprendizagem inter...</td>\n",
       "      <td>O COIL em si tem sido uma nova perspectiva sob...</td>\n",
       "      <td>Com a experiência do COIL, há absolutamente se...</td>\n",
       "      <td>Eu recomendaria a experiência COIL a um amigo ...</td>\n",
       "      <td>Para uma experiência COIL bem sucedida, os alu...</td>\n",
       "      <td>Sim, eu atribuiria mais importância à comunica...</td>\n",
       "      <td>\\n</td>\n",
       "      <td>Neste aprendizado internacional colaborativo o...</td>\n",
       "      <td>O momento de aprendizagem mais interessante e ...</td>\n",
       "      <td>A participação no Collaborative Online Interna...</td>\n",
       "    </tr>\n",
       "    <tr>\n",
       "      <th>12</th>\n",
       "      <td>14</td>\n",
       "      <td>SEHAJPREET KAUR</td>\n",
       "      <td>COIL significa (Collaborative Online Internati...</td>\n",
       "      <td>A participação em uma aprendizagem internacion...</td>\n",
       "      <td>Durante a experiência do COIL, foi natural enc...</td>\n",
       "      <td>Uma experiência como a COIL que abre as portas...</td>\n",
       "      <td>Perceber o valor de cada oportunidade que vem ...</td>\n",
       "      <td>Embora eu tentei a melhor tentativa e maneira ...</td>\n",
       "      <td>De acordo com a minha experiência, eu consider...</td>\n",
       "      <td>A experiência do COIL foi preenchida com taref...</td>\n",
       "      <td>Enquanto as outras tarefas desta iniciativa co...</td>\n",
       "      <td>A jornada do COIL foi repleta de novas experiê...</td>\n",
       "    </tr>\n",
       "    <tr>\n",
       "      <th>13</th>\n",
       "      <td>15</td>\n",
       "      <td>SYED RAZI</td>\n",
       "      <td>Esse COIL realmente abriu meus olhos para o qu...</td>\n",
       "      <td>Agora, embora sejamos humanos e inatamente sem...</td>\n",
       "      <td>Até este ponto, muitos pontos em comum já fora...</td>\n",
       "      <td>Sim, com certeza! A experiência do COIL tem si...</td>\n",
       "      <td>O segredo para ter sucesso no programa COIL é ...</td>\n",
       "      <td>Com o passar do tempo e com mais COILs, presum...</td>\n",
       "      <td>A experiência do COIL é distinta e especial de...</td>\n",
       "      <td>Aprendi muito sobre os colegas internacionais ...</td>\n",
       "      <td>Houve muitas oportunidades de aprendizado e au...</td>\n",
       "      <td>a participação no programa COIL me proporciono...</td>\n",
       "    </tr>\n",
       "  </tbody>\n",
       "</table>\n",
       "</div>"
      ],
      "text/plain": [
       "    id      nome_entrevistado  \\\n",
       "0    2          AUGUSTIN WONG   \n",
       "1    3       HARMANPREET KAUR   \n",
       "2    4      ISAYA LORJITSAARD   \n",
       "3    5           JAMA MAHAMUD   \n",
       "4    6            JAMES KAWAN   \n",
       "5    7        JOLINA CLARIDAD   \n",
       "6    8        JOSHUA ROBINSON   \n",
       "7    9  JUGAADH SINGH MANOCHA   \n",
       "8   10     LOK TIN SIU TIMOTH   \n",
       "10  12                REETIKA   \n",
       "11  13            SANVIR TOOR   \n",
       "12  14        SEHAJPREET KAUR   \n",
       "13  15              SYED RAZI   \n",
       "\n",
       "                                                   q1  \\\n",
       "0   O Coil influenciou a minha consciência global ...   \n",
       "1   A Coil ajudou-me a aumentar a consciência glob...   \n",
       "2   Durante um semestre, fiz parte do COIL e isso ...   \n",
       "3   Como aluno, antes desse curso, eu nunca tinha ...   \n",
       "4   Neste semestre, participar do COIL com meus am...   \n",
       "5   Participar da experiência do COIL me ajudou a ...   \n",
       "6   Na minha vida, eu nasci e cresci no Canadá, o ...   \n",
       "7   A participação no COIL aumentou significativam...   \n",
       "8   Como participante do COIL, a experiência ampli...   \n",
       "10  Online International Learning (COIL), que foi ...   \n",
       "11  Estar envolvido no COIL, ou aprendizagem inter...   \n",
       "12  COIL significa (Collaborative Online Internati...   \n",
       "13  Esse COIL realmente abriu meus olhos para o qu...   \n",
       "\n",
       "                                                   q2  \\\n",
       "0   Uma nova perspectiva que descobri durante a mi...   \n",
       "1   O COIL introduziu-me a uma nova perspectiva so...   \n",
       "2   Aprendi novos pontos de vista com a minha expe...   \n",
       "3   Essa foi uma experiência excelente e produtiva...   \n",
       "4   Participar do COIL com colegas de classe brasi...   \n",
       "5   A experiência no COIL abriu meus olhos, aprese...   \n",
       "6   Tenho novas perspectivas a partir da minha exp...   \n",
       "7   O COIL tem sido uma jornada de descobertas, re...   \n",
       "8    Trabalhar com eles me proporcionou insights s...   \n",
       "10  Embarcar na jornada do Collaborative Online In...   \n",
       "11  O COIL em si tem sido uma nova perspectiva sob...   \n",
       "12  A participação em uma aprendizagem internacion...   \n",
       "13  Agora, embora sejamos humanos e inatamente sem...   \n",
       "\n",
       "                                                   q3  \\\n",
       "0   Os pontos comuns que notei durante a minha exp...   \n",
       "1   Apesar das nossas diferenças culturais, reconh...   \n",
       "2   Através do trabalho de grupo, reparei em algun...   \n",
       "3   A partir das postagens no Padlet e de outras c...   \n",
       "4   Consegui encontrar pontos em comum com meus co...   \n",
       "5   Ao longo da minha experiência no COIL, surgira...   \n",
       "6   Com a minha falta de conhecimento de Pessoas a...   \n",
       "7   Apesar de nossas diversas origens culturais, o...   \n",
       "8   Os alunos do Sêneca e da Fatec se apresentam n...   \n",
       "10  O Collaborative Online International Learning ...   \n",
       "11  Com a experiência do COIL, há absolutamente se...   \n",
       "12  Durante a experiência do COIL, foi natural enc...   \n",
       "13  Até este ponto, muitos pontos em comum já fora...   \n",
       "\n",
       "                                                   q4  \\\n",
       "0   Eu recomendaria a experiência COIL a um amigo ...   \n",
       "1   Recomendo vivamente a experiência do COIL a um...   \n",
       "2   Absolutamente recomendável. Do meu ponto de vi...   \n",
       "3   Desde o início da história da humanidade, a gl...   \n",
       "4   Além de estar alinhado academicamente, o progr...   \n",
       "5   Sem dúvida, eu recomendaria uma experiência CO...   \n",
       "6   Eu tive uma grande experiência com a equipe de...   \n",
       "7   Sem hesitar, eu recomendaria de todo o coração...   \n",
       "8   Por que sim ou por que não? Com certeza recome...   \n",
       "10  Embarcar em uma jornada de Aprendizagem Intern...   \n",
       "11  Eu recomendaria a experiência COIL a um amigo ...   \n",
       "12  Uma experiência como a COIL que abre as portas...   \n",
       "13  Sim, com certeza! A experiência do COIL tem si...   \n",
       "\n",
       "                                                   q5  \\\n",
       "0   Os alunos precisam de fazer algumas coisas se ...   \n",
       "1   Para ter uma boa experiência COIL, os alunos d...   \n",
       "2   Ter uma mente aberta. O conhecimento está em t...   \n",
       "3   Colaborar com seus colegas de classe e profess...   \n",
       "4   Os alunos devem cooperar e ter habilidades de ...   \n",
       "5   Para que a experiência COIL seja bem-sucedida,...   \n",
       "6   A partir da minha experiência com o Coil, foi ...   \n",
       "7   O sucesso em uma experiência COIL depende de c...   \n",
       "8   Os alunos que desejam ter uma experiência COIL...   \n",
       "10  Compreensão mais abrangente do mundo. Eu suger...   \n",
       "11  Para uma experiência COIL bem sucedida, os alu...   \n",
       "12  Perceber o valor de cada oportunidade que vem ...   \n",
       "13  O segredo para ter sucesso no programa COIL é ...   \n",
       "\n",
       "                                                   q6  \\\n",
       "0   Se eu fosse usar o COIL novamente, o que eu fa...   \n",
       "1   Se eu fosse ao COIL com colegas internacionais...   \n",
       "2   Eu aprenderia o idioma deles, provavelmente ap...   \n",
       "3   A maneira como os professores e ambas as insti...   \n",
       "4   Se a oportunidade de colaborar com colegas glo...   \n",
       "5   Refletindo sobre minha experiência anterior no...   \n",
       "6   Uma vez que esta foi a minha primeira experiên...   \n",
       "7   Refletindo sobre essa experiência COIL, eu abo...   \n",
       "8   Se eu tiver outra oportunidade de trabalhar co...   \n",
       "10  A noção de minha experiência com o Collaborati...   \n",
       "11  Sim, eu atribuiria mais importância à comunica...   \n",
       "12  Embora eu tentei a melhor tentativa e maneira ...   \n",
       "13  Com o passar do tempo e com mais COILs, presum...   \n",
       "\n",
       "                                                   q7  \\\n",
       "0   A experiência no COIL foi única porque pude ap...   \n",
       "1   A experiência do COIL foi única porque possibi...   \n",
       "2   Do meu ponto de vista, acho que a experiência ...   \n",
       "3   Acredito que nosso curso se baseou nas asas im...   \n",
       "4   Estávamos separados geograficamente, mas a exp...   \n",
       "5   A singularidade da experiência COIL decorre da...   \n",
       "6   A experiência da bobina foi única para mim, eu...   \n",
       "7   O que torna a experiência do COIL realmente ún...   \n",
       "8   A parte mais especial do COIL é a cooperação g...   \n",
       "10  O programa Collaborative Online International ...   \n",
       "11                                                 \\n   \n",
       "12  De acordo com a minha experiência, eu consider...   \n",
       "13  A experiência do COIL é distinta e especial de...   \n",
       "\n",
       "                                                   q8  \\\n",
       "0   Aprendi muito sobre mim mesmo e sobre meus col...   \n",
       "1   O COIL me proporcionou insights inestimáveis s...   \n",
       "2   Logo no início do curso, com a introdução do C...   \n",
       "3   Aprendi muitos conceitos sobre comportamentos ...   \n",
       "4   As conversas que tivemos durante o COIL fluíra...   \n",
       "5   O envolvimento com meus colegas internacionais...   \n",
       "6   Eu aprendi muitas coisas com esta experiência ...   \n",
       "7   O que você aprendeu sobre si mesmo? O envolvim...   \n",
       "8   Trabalhar com membros internacionais me propor...   \n",
       "10  O Collaborative Online Foreign Learning (COIL)...   \n",
       "11  Neste aprendizado internacional colaborativo o...   \n",
       "12  A experiência do COIL foi preenchida com taref...   \n",
       "13  Aprendi muito sobre os colegas internacionais ...   \n",
       "\n",
       "                                                   q9  \\\n",
       "0   De modo geral, o momento de aprendizado mais i...   \n",
       "1   O módulo nos ajudou a compartilhar o valor do ...   \n",
       "2   Como mencionei na resposta anterior, um dos mo...   \n",
       "3   Estar fora de sua cultura e pensamentos e apre...   \n",
       "4   Perceber que a diversidade abrange uma série d...   \n",
       "5   A experiência de aprendizado mais interessante...   \n",
       "6   O momento de aprendizagem mais interessante e ...   \n",
       "7   O momento de aprendizado mais interessante e ú...   \n",
       "8    É interessante conhecer um grupo de alunos do...   \n",
       "10  (COIL), me ocorre um exemplo específico que ca...   \n",
       "11  O momento de aprendizagem mais interessante e ...   \n",
       "12  Enquanto as outras tarefas desta iniciativa co...   \n",
       "13  Houve muitas oportunidades de aprendizado e au...   \n",
       "\n",
       "                                                  q10  \n",
       "0   Posso tirar muitas lições do COIL, como, por e...  \n",
       "1   A experiência do COIL aumentou a minha consciê...  \n",
       "2   O COIL melhorou significativamente minha habil...  \n",
       "3   Entendo os conceitos de organizações e como eu...  \n",
       "4   Minha experiência no COIL me proporcionou habi...  \n",
       "5   A experiência no COIL destacou áreas da minha ...  \n",
       "6   A maior tirar da minha experiência de bobina s...  \n",
       "7   As lições do COIL vão muito além das conquista...  \n",
       "8   Durante o COIL, apliquei o conhecimento que ap...  \n",
       "10  O Collaborative Online International Learning ...  \n",
       "11  A participação no Collaborative Online Interna...  \n",
       "12  A jornada do COIL foi repleta de novas experiê...  \n",
       "13  a participação no programa COIL me proporciono...  "
      ]
     },
     "execution_count": 33,
     "metadata": {},
     "output_type": "execute_result"
    }
   ],
   "source": [
    "df"
   ]
  },
  {
   "cell_type": "markdown",
   "id": "070a3dd6",
   "metadata": {},
   "source": [
    "## Preparo do data set"
   ]
  },
  {
   "cell_type": "code",
   "execution_count": 31,
   "id": "b07c18c3",
   "metadata": {},
   "outputs": [],
   "source": [
    "# Remover colunas inúteis\n",
    "df.drop(\n",
    "    columns = ['hora_inicio', 'hora_conclusao', 'email', 'nome', 'ult_mod'],\n",
    "    inplace = True\n",
    ")"
   ]
  },
  {
   "cell_type": "code",
   "execution_count": 32,
   "id": "473ed9fe",
   "metadata": {},
   "outputs": [],
   "source": [
    "# Remover linhas com conteudo N/A\n",
    "df.dropna(inplace = True)"
   ]
  },
  {
   "cell_type": "markdown",
   "id": "2083197a",
   "metadata": {},
   "source": [
    "### Carregar dicionario de palavras positivas e negativas"
   ]
  },
  {
   "cell_type": "code",
   "execution_count": 37,
   "id": "4fd60336",
   "metadata": {},
   "outputs": [],
   "source": [
    "df_words = pd.read_csv(\"../../../dados/pesquisa-sol/lexico_v3.0.txt\", encoding='utf8', delimiter=\",\", \n",
    "                       header=0, names=['symbol', 'morfologia', 'polaridade', 'fator'])"
   ]
  },
  {
   "cell_type": "code",
   "execution_count": 59,
   "id": "131549d9",
   "metadata": {},
   "outputs": [],
   "source": [
    "item = df_words.loc[df_words['symbol'] == 'feio']"
   ]
  },
  {
   "cell_type": "code",
   "execution_count": 71,
   "id": "130d530a",
   "metadata": {
    "scrolled": true
   },
   "outputs": [],
   "source": [
    "def polaridade_palavra( palavra ):\n",
    "    global df_words\n",
    "    item = df_words.loc[df_words['symbol'] == palavra]\n",
    "    if len(item) == 0:\n",
    "        return 0\n",
    "    else:\n",
    "        return item['polaridade'].values[0]\n",
    "    "
   ]
  },
  {
   "cell_type": "code",
   "execution_count": 77,
   "id": "f41d51c9",
   "metadata": {},
   "outputs": [
    {
     "name": "stdout",
     "output_type": "stream",
     "text": [
      "Legal:  1\n",
      "Chata:  -1\n",
      "Neutro:  0\n"
     ]
    }
   ],
   "source": [
    "print(\"Legal: \", polaridade_palavra('legal'))\n",
    "print(\"Chata: \", polaridade_palavra('chata'))\n",
    "print(\"Neutro: \", polaridade_palavra('neutro'))"
   ]
  },
  {
   "cell_type": "markdown",
   "id": "2d5afda3",
   "metadata": {},
   "source": [
    "### Preparo do texto text_pt"
   ]
  },
  {
   "cell_type": "markdown",
   "id": "422586a5",
   "metadata": {},
   "source": [
    "#### Funções para o tratamento de texto"
   ]
  },
  {
   "cell_type": "code",
   "execution_count": 78,
   "id": "9a59745a",
   "metadata": {},
   "outputs": [],
   "source": [
    "# Função para preparar as palavras do texto\n",
    "def preparar_texto( texto ):\n",
    "    # Converter em minusculo\n",
    "    texto_limpo = texto.lower()\n",
    "    # Remover pontuação e caracteres especiais\n",
    "    translator = str.maketrans('\\n\\r\\t', '   ', string.punctuation)\n",
    "    texto_limpo = texto_limpo.translate(translator)\n",
    "    # Remover os acentos\n",
    "    texto_limpo = unidecode(texto_limpo)\n",
    "    return texto_limpo"
   ]
  },
  {
   "cell_type": "code",
   "execution_count": 79,
   "id": "5de21a24",
   "metadata": {},
   "outputs": [],
   "source": [
    "# Remover Stopwords\n",
    "stopwords = nltk.corpus.stopwords.words('portuguese')\n",
    "def remove_stopwords( texto ):\n",
    "    tokens = []\n",
    "    for token in nltk.tokenize.word_tokenize(texto, language='portuguese'):\n",
    "        if token not in stopwords:\n",
    "            tokens.append(token)\n",
    "    return \" \".join(tokens)"
   ]
  },
  {
   "cell_type": "code",
   "execution_count": 80,
   "id": "2617eb85",
   "metadata": {},
   "outputs": [
    {
     "data": {
      "text/plain": [
       "207"
      ]
     },
     "execution_count": 80,
     "metadata": {},
     "output_type": "execute_result"
    }
   ],
   "source": [
    "len(stopwords)"
   ]
  },
  {
   "cell_type": "code",
   "execution_count": 81,
   "id": "2ca41632",
   "metadata": {},
   "outputs": [],
   "source": [
    "# Lematização\n",
    "def lematizar( texto ): \n",
    "    doc = nlp(texto)\n",
    "    doc_lemma = [token.lemma_ for token in doc if token.pos_ == 'NOUN']\n",
    "    return \" \".join(doc_lemma)"
   ]
  },
  {
   "cell_type": "code",
   "execution_count": 82,
   "id": "247869a3",
   "metadata": {},
   "outputs": [],
   "source": [
    "# Stemming\n",
    "stemmer = nltk.RSLPStemmer()\n",
    "def stemmer_text( texto ):\n",
    "    if isinstance(texto, str):\n",
    "        lista_palavras = texto.split(\" \")\n",
    "        nova_lista = []\n",
    "        for palavra in lista_palavras:\n",
    "            stemmed = stemmer.stem( palavra )\n",
    "            nova_lista.append(stemmed)\n",
    "        return \" \".join(nova_lista)\n",
    "    else:\n",
    "        return texto"
   ]
  },
  {
   "cell_type": "code",
   "execution_count": 83,
   "id": "ae13befd",
   "metadata": {},
   "outputs": [],
   "source": [
    "def transformar_texto( texto ):\n",
    "    texto_limpo = preparar_texto( texto )\n",
    "    return texto_limpo\n",
    "    # texto_sem_stopwords = remove_stopwords(texto_limpo)\n",
    "    # texto_stemmed = stemmer_text(texto_sem_stopwords)\n",
    "    # return texto_stemmed"
   ]
  },
  {
   "cell_type": "markdown",
   "id": "679213c6",
   "metadata": {},
   "source": [
    "#### Prepara o texto e coloca em uma variavel separada"
   ]
  },
  {
   "cell_type": "code",
   "execution_count": 84,
   "id": "2071f1ae",
   "metadata": {},
   "outputs": [],
   "source": [
    "count = 0\n",
    "def invocar_transformar_texto( texto ):\n",
    "    global count\n",
    "    count += 1\n",
    "    if count % 1000 == 0:\n",
    "        print(f\"Analisando linha: {count}\")\n",
    "    return transformar_texto( texto )\n",
    "\n",
    "texto_preparado = df['q1'].apply(invocar_transformar_texto)"
   ]
  },
  {
   "cell_type": "code",
   "execution_count": 88,
   "id": "10db7b71",
   "metadata": {},
   "outputs": [],
   "source": [
    "def polaridade_texto( texto ):\n",
    "    polaridade = 0\n",
    "    tokens = texto.split(\" \")\n",
    "    for token in tokens:\n",
    "        polaridade += polaridade_palavra( token )\n",
    "    return polaridade"
   ]
  },
  {
   "cell_type": "code",
   "execution_count": 90,
   "id": "54bed79f",
   "metadata": {},
   "outputs": [],
   "source": [
    "df['q1_sentiment'] = texto_preparado.apply(polaridade_texto)"
   ]
  },
  {
   "cell_type": "code",
   "execution_count": 91,
   "id": "0f11fac3",
   "metadata": {},
   "outputs": [
    {
     "data": {
      "text/plain": [
       "0     10\n",
       "1      3\n",
       "2      1\n",
       "3      3\n",
       "4     12\n",
       "5      6\n",
       "6      5\n",
       "7      5\n",
       "8      7\n",
       "10    16\n",
       "11     8\n",
       "12     6\n",
       "13     6\n",
       "Name: q1_sentiment, dtype: int64"
      ]
     },
     "execution_count": 91,
     "metadata": {},
     "output_type": "execute_result"
    }
   ],
   "source": [
    "df['q1_sentiment']"
   ]
  },
  {
   "cell_type": "code",
   "execution_count": 94,
   "id": "86e4fa99",
   "metadata": {},
   "outputs": [
    {
     "data": {
      "text/plain": [
       "[<matplotlib.lines.Line2D at 0x263662e0bb0>]"
      ]
     },
     "execution_count": 94,
     "metadata": {},
     "output_type": "execute_result"
    },
    {
     "data": {
      "image/png": "[encoded data removed]",
      "text/plain": [
       "<Figure size 640x480 with 1 Axes>"
      ]
     },
     "metadata": {},
     "output_type": "display_data"
    }
   ],
   "source": [
    "plt.plot( df['q1_sentiment'])"
   ]
  },
  {
   "cell_type": "code",
   "execution_count": 86,
   "id": "856bdf22",
   "metadata": {},
   "outputs": [
    {
     "data": {
      "text/plain": [
       "0     o coil influenciou a minha consciencia global ...\n",
       "1     a coil ajudoume a aumentar a consciencia globa...\n",
       "2     durante um semestre fiz parte do coil e isso a...\n",
       "3     como aluno antes desse curso eu nunca tinha ti...\n",
       "4     neste semestre participar do coil com meus ami...\n",
       "5     participar da experiencia do coil me ajudou a ...\n",
       "6     na minha vida eu nasci e cresci no canada o ma...\n",
       "7     a participacao no coil aumentou significativam...\n",
       "8     como participante do coil a experiencia amplio...\n",
       "10    online international learning coil que foi uma...\n",
       "11    estar envolvido no coil ou aprendizagem intern...\n",
       "12    coil significa collaborative online internatio...\n",
       "13    esse coil realmente abriu meus olhos para o qu...\n",
       "Name: q1, dtype: object"
      ]
     },
     "execution_count": 86,
     "metadata": {},
     "output_type": "execute_result"
    }
   ],
   "source": [
    "texto_preparado"
   ]
  },
  {
   "cell_type": "markdown",
   "id": "eee8cf95",
   "metadata": {},
   "source": [
    "### Criar o dicionario e o Bag of Words"
   ]
  },
  {
   "cell_type": "code",
   "execution_count": 98,
   "id": "6debd6c4",
   "metadata": {},
   "outputs": [
    {
     "data": {
      "text/plain": [
       "0"
      ]
     },
     "execution_count": 98,
     "metadata": {},
     "output_type": "execute_result"
    }
   ],
   "source": [
    "polaridade_texto(\"tive a experiência mais horrível da minha excelente vida\")"
   ]
  },
  {
   "cell_type": "code",
   "execution_count": 29,
   "id": "38d01271",
   "metadata": {},
   "outputs": [],
   "source": [
    "# # Criar o bag_of_words com base no CountVectorizer\n",
    "# vetorizador = CountVectorizer(max_features=100, lowercase=False)\n",
    "# bag_of_words = vetorizador.fit_transform(texto_preparado)\n",
    "# bag_of_words.shape    # Verifica o formato da Matriz"
   ]
  },
  {
   "cell_type": "code",
   "execution_count": 30,
   "id": "251e2d62",
   "metadata": {},
   "outputs": [],
   "source": [
    "# # Criar o bag_of_words com base no TfidfVectorizer usando NGram 3\n",
    "# vetorizador = TfidfVectorizer(lowercase=False, max_features=100, ngram_range=(1, 3))\n",
    "# bag_of_words = vetorizador.fit_transform(texto_preparado)\n",
    "# bag_of_words.shape"
   ]
  },
  {
   "cell_type": "code",
   "execution_count": 31,
   "id": "dd943485",
   "metadata": {
    "scrolled": true
   },
   "outputs": [
    {
     "data": {
      "text/plain": [
       "(49459, 2000)"
      ]
     },
     "execution_count": 31,
     "metadata": {},
     "output_type": "execute_result"
    }
   ],
   "source": [
    "# Criar o bag_of_words com base no TfidfVectorizer\n",
    "vetorizador = TfidfVectorizer(lowercase=False, max_features=2000)\n",
    "bag_of_words = vetorizador.fit_transform(texto_preparado)\n",
    "bag_of_words.shape"
   ]
  },
  {
   "cell_type": "code",
   "execution_count": 32,
   "id": "87f096d2",
   "metadata": {},
   "outputs": [],
   "source": [
    "dicionario = vetorizador.get_feature_names_out()"
   ]
  },
  {
   "cell_type": "code",
   "execution_count": 33,
   "id": "5de05fbc",
   "metadata": {},
   "outputs": [],
   "source": [
    "bow = pd.DataFrame.sparse.from_spmatrix(bag_of_words, columns=dicionario)"
   ]
  },
  {
   "cell_type": "code",
   "execution_count": 34,
   "id": "8c66505d",
   "metadata": {},
   "outputs": [],
   "source": [
    "train, test, train_class, test_class = train_test_split(bow, \n",
    "                                                        df[\"sentiment_value\"], \n",
    "                                                        random_state = 100)"
   ]
  },
  {
   "cell_type": "code",
   "execution_count": 35,
   "id": "4845f82f",
   "metadata": {},
   "outputs": [],
   "source": [
    "reg_logistica = LogisticRegression()\n",
    "reg_logistica.fit(train, train_class)\n",
    "acuracia = reg_logistica.score(test, test_class)"
   ]
  },
  {
   "cell_type": "code",
   "execution_count": 36,
   "id": "c77b0860",
   "metadata": {
    "scrolled": true
   },
   "outputs": [
    {
     "data": {
      "text/plain": [
       "0.874646178730287"
      ]
     },
     "execution_count": 36,
     "metadata": {},
     "output_type": "execute_result"
    }
   ],
   "source": [
    "acuracia"
   ]
  },
  {
   "cell_type": "markdown",
   "id": "118b9a05",
   "metadata": {},
   "source": [
    "# Acuracias\n",
    "#### Sem tratamento do texto ==> 0.7013344116457744\n",
    "#### Colocando as palavras em minusculo ==> 0.7107966033158107\n",
    "#### Remover os caracteres especiais ==> 0.7273756570966438\n",
    "#### Remover os acentos ==> 0.7272139102304893\n",
    "#### Remover as stopwords ==> 0.7199353012535382\n",
    "#### Remover stopwords e aplicar raiz do texto (stemm) ==> 0.7532551556813587\n",
    "#### Aplicando o TF_ID ao inves da contagem de palavras ==> 0.7553578649413668\n",
    "#### Aplicando NGRAM (1,3) ==> 0.7553578649413668\n",
    "#### Aplicando TF_ID e MAX_Features = 200 ==> 0.7955519611807521\n",
    "#### Aplicando TF_ID e MAX_Features = 300 ==> 0.8188435099069955 \n",
    "#### Aplicando TF_ID e MAX_Features = 500 ==> 0.8418924383340073\n",
    "#### Aplicando TF_ID e MAX_Features = 1000 ==> 0.8639708855640922\n",
    "#### Aplicando TF_ID e MAX_Features = 2000 ==> 0.8760210270926001\n"
   ]
  },
  {
   "cell_type": "code",
   "execution_count": 37,
   "id": "82b47cf5",
   "metadata": {},
   "outputs": [],
   "source": [
    "# Tratar as respostas\n",
    "respostas_preparadas = np.array([invocar_transformar_texto(r) for r in respostas])"
   ]
  },
  {
   "cell_type": "code",
   "execution_count": 38,
   "id": "cc5bad3b",
   "metadata": {},
   "outputs": [
    {
     "data": {
      "text/plain": [
       "array([' o coil abriu meus olhos para o quanto os alunos brasileiros sao otimos desde o inicio fiquei agradavelmente surpreso com a qualidade do ingles de todos porque eu estava prevendo que haveria um desafio na comunicacao supondo que os brasileiros geralmente usam o portugues como idioma principal eles me provaram que seu nivel de ingles e tao bom quanto o de qualquer falante nativo de ingles',\n",
       "       ' depois de conhecer todos por meio do padlet adoro o fato de que muitos de nos viemos de diferentes partes do mundo passando por diferentes fases da vida com nossos proprios objetivos e sonhos e ainda assim nos cruzamos embora eu nao conheca todos pessoalmente e bom conhecer as pessoas nas fotos por meio de suas palavras ate mesmo os detalhes mais simples como seus programasfilmes favoritos despertaram meu interesse em pesquisalos',\n",
       "       ' os pontos em comum que notei sao que todos nos gostamos de sair e compartilhamos hobbies semelhantes como assistir a programas da netflix dancar nossas musicas favoritas ler livros etc  percebi que uma aluna da fatec leticia mencionou que seu artista favorito e bruno mars e que ele tambem e um dos principais artistas da minha lista de reproducao do spotify outra aluna kamila mencionou que gosta de assistir a dramas coreanos como um de seus passatempos eu assisto a dramas coreanos ha muito tempo e e bom ver o reconhecimento internacional que eles estao recebendo em suma se kamilla e eu fossemos colegas de classe eu com certeza pediria a ela que compartilhasse seus dramas coreanos favoritos',\n",
       "       ' eu recomendaria a um amigo pois e uma atividade empolgante em comparacao com os trabalhos normais em grupo vejo isso como uma oportunidade de se expor a colegas de outro pais e conhecer sua cultura nao pode ser comparado ao trabalho com nossos proprios alunos estrangeiros pois eles estao adaptados ao funcionamento do nosso sistema escolar a experiencia do coil tambem nos permite aprender com perspectivas diferentes e adquirir conhecimentos que nao sao comuns no canada',\n",
       "       ' comunicacao e manter a responsabilidade mutua pessoalmente nao sou fa de trabalho em grupo pois a carga de trabalho nunca e distribuida de forma homogenea no entanto meus colegas de equipe nesse projeto foram otimos todos contribuiram para o projeto o que significa que nenhuma pessoa ficou carregando um peso maior sobre os ombros meus colegas de equipe tambem apoiaram muito uns aos outros e proporcionaram um espaco confortavel para perguntas e ajuda adicional',\n",
       "       ' gostaria de trabalhar com eles em uma tarefa em vez de compartilhar nossas proprias respostas no slack o fato de os dois paises trabalharem separadamente no mesmo exercicio anulou o objetivo da colaboracao alem disso eu gostaria de trabalhar em um tipo diferente de projeto que incentivasse mais a comunicacao como uma apresentacao em powerpoint',\n",
       "       ' o que tornou a experiencia do coil especial foi a oportunidade de colaborar com outra escola com desafios como diferenca de fuso horario e barreiras linguisticas nao tivemos problemas principalmente por causa da incrivel capacidade de nossos colegas internacionais alem disso a tecnologia moderna ajuda a todos com uma comunicacao tranquila que nos permite conectar por meio do slack e do whatsapp',\n",
       "       ' foi incrivel trabalhar com nossa colega internacional valerie por ser a unica pessoa internacional ela trabalhava com mais frequencia em nosso horario seu ingles tambem era excelente portanto nao havia barreira de idioma entre nos quando se tratava de comunicacao embora nao fossemos do mesmo pais eu nao conseguia perceber a diferenca pois ela era muito boa em suas respostas  algo que aprendi sobre mim mesmo e que estou ansioso para conhecer e trabalhar com novas pessoas quando nosso professor nos apresentou o projeto eu estava bastante ansioso por causa de coisas como diferenca de fuso horario barreiras linguisticas etc no entanto uma parte de mim tambem estava muito animada para conhecer alunos de outros paises para saber mais sobre o que eles aprendem na escola ou como e o programa de rh deles aprendi que as politicas de rh deles nao sao muito diferentes das nossas',\n",
       "       ' o momento mais interessante para mim ao trabalhar com valerie e que verificavamos o processo uma da outra apesar de nao estarmos trabalhando no mesmo trabalho isso mostrou que ainda estavamos fazendo pequenas coisas como uma equipe eu nao esperava por isso mas ela foi a primeira a tomar a iniciativa nao posso elogiar valerie o suficiente pois ela deixou uma otima impressao eu teria adorado conhecela melhor mas nos duas estavamos ocupadas com nossas agendas',\n",
       "       ' minha maior licao disso tudo e tentar ser mais aberto e aceitar novos desafios como sou introvertido fico muito ansioso ao conhecer novas pessoas e normalmente mantenho os colegas de escola a distancia estar no rh significa que trabalharei com pessoas em um nivel pessoal e isso e algo que ainda estou aprendendo a ajustar',\n",
       "       ' fiquei sabendo que minha colega de equipe valerie e uma mulher casada que esta matriculada em um programa de rh no brasil ela tem um marido amoroso e uma cachorra chamada tiffany ela e fa de whitney houston e ate tocou i will always love you em seu casamento ela tambem mencionou que adora frutas e legumes o que me sugere que ela tem um estilo de vida bastante saudavel',\n",
       "       ' o que aprendi no modulo 4 de valerie e que ela trabalha em casa o que torna sua experiencia um pouco diferente da minha no que diz respeito a comunicacao e mais dificil pois voce nao tem tempo para se relacionar com seus colegas de trabalho individualmente em termos de fatores de estresse compartilhamos muitos fatores semelhantes como longas horas de trabalho e lideranca deficiente em geral compartilhamos experiencias semelhantes apesar de virmos de diferentes partes do mundo quando se trata de locais de trabalho os poucos motivos que diferenciam nossas experiencias sao coisas como nossa cultura ou leis de trabalho diferentes'],\n",
       "      dtype='<U880')"
      ]
     },
     "execution_count": 38,
     "metadata": {},
     "output_type": "execute_result"
    }
   ],
   "source": [
    "respostas_preparadas"
   ]
  },
  {
   "cell_type": "code",
   "execution_count": 39,
   "id": "42a75b8f",
   "metadata": {},
   "outputs": [
    {
     "data": {
      "text/plain": [
       "(12, 2000)"
      ]
     },
     "execution_count": 39,
     "metadata": {},
     "output_type": "execute_result"
    }
   ],
   "source": [
    "vetorizador = TfidfVectorizer(lowercase=False, max_features=2000, vocabulary=dicionario)\n",
    "bag_of_words_respostas = vetorizador.fit_transform(respostas_preparadas)\n",
    "bag_of_words_respostas.shape"
   ]
  },
  {
   "cell_type": "code",
   "execution_count": 40,
   "id": "c9a20084",
   "metadata": {},
   "outputs": [
    {
     "name": "stderr",
     "output_type": "stream",
     "text": [
      "D:\\usr\\anaconda3\\lib\\site-packages\\sklearn\\base.py:420: UserWarning: X does not have valid feature names, but LogisticRegression was fitted with feature names\n",
      "  warnings.warn(\n"
     ]
    },
    {
     "data": {
      "text/plain": [
       "array([1, 1, 1, 1, 1, 1, 1, 1, 1, 0, 1, 1], dtype=int64)"
      ]
     },
     "execution_count": 40,
     "metadata": {},
     "output_type": "execute_result"
    }
   ],
   "source": [
    "reg_logistica.predict(bag_of_words_respostas)"
   ]
  },
  {
   "cell_type": "code",
   "execution_count": 41,
   "id": "44886449",
   "metadata": {},
   "outputs": [],
   "source": [
    "# i = 0\n",
    "# print(\"Linhas size: \", len(linhas))\n",
    "# while i < len(linhas):\n",
    "#     linha = linhas[i].lower()\n",
    "#     linha_tokens = nltk.tokenize.word_tokenize(linha, language='portuguese')\n",
    "#     linha_tokens_limpos = remove_stop_words(linha_tokens)\n",
    "#     i += 1\n",
    "#     if linha_tokens_limpos is None or len(linha_tokens_limpos) < 3:\n",
    "#         continue\n",
    "#     linha_ngrams = ngrams(linha_tokens_limpos, 3)\n",
    "#     linha_points = 0\n",
    "#     for pergunta in perguntas:\n",
    "#         pergunta_tokens = nltk.tokenize.word_tokenize(pergunta, language='portuguese')\n",
    "#         pergunta_no_stopwords = remove_stop_words(pergunta_tokens)\n",
    "#         for ngram_tuple in linha_ngrams: \n",
    "#             ngram_tupla_texto = \" \".join(ngram_tuple)\n",
    "#             if ngram_tupla_texto in pergunta.lower():\n",
    "#                 linha_points += 1\n",
    "# #                 print(\"Pontos: \", linha_points)\n",
    "# #                 print(\"Pergunta: \", pergunta)\n",
    "# #                 print(\"Linha: \", linha)\n",
    "# #                 print(\"NGram_Tupla: \", ngram_tupla_texto)\n",
    "#         if linha_points > 3: \n",
    "#             print(\"Linha: \", linha)\n",
    "#             print(\"Corresponde a pergunta: \", pergunta.lower())\n",
    "\n",
    "    "
   ]
  }
 ],
 "metadata": {
  "kernelspec": {
   "display_name": "Python 3 (ipykernel)",
   "language": "python",
   "name": "python3"
  },
  "language_info": {
   "codemirror_mode": {
    "name": "ipython",
    "version": 3
   },
   "file_extension": ".py",
   "mimetype": "text/x-python",
   "name": "python",
   "nbconvert_exporter": "python",
   "pygments_lexer": "ipython3",
   "version": "3.10.9"
  }
 },
 "nbformat": 4,
 "nbformat_minor": 5
}
