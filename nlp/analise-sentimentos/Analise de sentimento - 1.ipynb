{
 "cells": [
  {
   "cell_type": "code",
   "execution_count": 1,
   "id": "84233a61",
   "metadata": {},
   "outputs": [],
   "source": [
    "# !pip install pycryptodome==3.15.0\n",
    "# !pip install PyPDF2"
   ]
  },
  {
   "cell_type": "code",
   "execution_count": 2,
   "id": "ded25352",
   "metadata": {},
   "outputs": [],
   "source": [
    "# !python -m pip install spacy\n",
    "# !python -m spacy download pt"
   ]
  },
  {
   "cell_type": "code",
   "execution_count": 3,
   "id": "685c015a",
   "metadata": {},
   "outputs": [],
   "source": [
    "import nltk"
   ]
  },
  {
   "cell_type": "code",
   "execution_count": 4,
   "id": "53b8e5c2",
   "metadata": {},
   "outputs": [],
   "source": [
    "import numpy as np"
   ]
  },
  {
   "cell_type": "code",
   "execution_count": 5,
   "id": "c98281d2",
   "metadata": {},
   "outputs": [],
   "source": [
    "from nltk.util import ngrams"
   ]
  },
  {
   "cell_type": "code",
   "execution_count": 6,
   "id": "f0dbee2e",
   "metadata": {},
   "outputs": [],
   "source": [
    "import pandas as pd"
   ]
  },
  {
   "cell_type": "code",
   "execution_count": 7,
   "id": "e249a385",
   "metadata": {},
   "outputs": [],
   "source": [
    "from sklearn.model_selection import train_test_split"
   ]
  },
  {
   "cell_type": "code",
   "execution_count": 8,
   "id": "6ef46f83",
   "metadata": {},
   "outputs": [],
   "source": [
    "from sklearn.feature_extraction.text import CountVectorizer"
   ]
  },
  {
   "cell_type": "code",
   "execution_count": 9,
   "id": "d47a9886",
   "metadata": {},
   "outputs": [],
   "source": [
    "from sklearn import linear_model"
   ]
  },
  {
   "cell_type": "code",
   "execution_count": 10,
   "id": "97ec6a03",
   "metadata": {},
   "outputs": [],
   "source": [
    "import string"
   ]
  },
  {
   "cell_type": "code",
   "execution_count": 11,
   "id": "2f151208",
   "metadata": {},
   "outputs": [],
   "source": [
    "from sklearn.linear_model import LogisticRegression"
   ]
  },
  {
   "cell_type": "code",
   "execution_count": 12,
   "id": "93c47e70",
   "metadata": {},
   "outputs": [],
   "source": [
    "from unidecode import unidecode"
   ]
  },
  {
   "cell_type": "code",
   "execution_count": 13,
   "id": "c556b625",
   "metadata": {},
   "outputs": [],
   "source": [
    "from sklearn.feature_extraction.text import TfidfVectorizer"
   ]
  },
  {
   "cell_type": "code",
   "execution_count": 14,
   "id": "aea35b93",
   "metadata": {},
   "outputs": [],
   "source": [
    "perguntas = [\n",
    "    'Como esse COIL afetou sua consciência global?',\n",
    "    'Que novas perspectivas você descobriu durante sua experiência no COIL?',\n",
    "    'Que pontos em comum você notou durante sua experiência com o COIL?',\n",
    "    'Você recomendaria uma experiência COIL a um amigo? Por que sim ou por que não?',\n",
    "    'O que você diria que os alunos precisam fazer se quiserem ter uma experiência COIL bem-sucedida?',\n",
    "    'Se você fosse fazer o COIL com colegas internacionais novamente, o que faria de diferente?',\n",
    "    'O que tornou a experiência COIL única ou especial?',\n",
    "    'O que você aprendeu sobre seus colegas internacionais? O que você aprendeu sobre si mesmo?',\n",
    "    'De modo geral, qual foi o momento de aprendizado mais interessante e útil para você em suas atividades de colaboração com colegas internacionais?',\n",
    "    'O que você aprendeu com o COIL que pode ajudá-lo em outras áreas de sua vida?',\n",
    "    'O que você aprendeu com a apresentação dos seus colegas de equipe do Brasil no Padlet?',\n",
    "    'Seus aprendizados do'\n",
    "]"
   ]
  },
  {
   "cell_type": "code",
   "execution_count": 15,
   "id": "9ef1cc58",
   "metadata": {},
   "outputs": [],
   "source": [
    "respostas = [\n",
    "    '''- O COIL abriu meus olhos para o quanto os alunos brasileiros são ótimos. Desde o\n",
    "início, fiquei agradavelmente surpreso com a qualidade do inglês de todos, porque\n",
    "eu estava prevendo que haveria um desafio na comunicação. Supondo que os\n",
    "brasileiros geralmente usam o português como idioma principal. Eles me provaram\n",
    "que seu nível de inglês é tão bom quanto o de qualquer falante nativo de inglês.''',\n",
    "    '''- Depois de conhecer todos por meio do Padlet, adoro o fato de que muitos de nós\n",
    "viemos de diferentes partes do mundo, passando por diferentes fases da vida, com\n",
    "nossos próprios objetivos e sonhos, e ainda assim nos cruzamos. Embora eu não\n",
    "conheça todos pessoalmente, é bom conhecer as pessoas nas fotos por meio de\n",
    "suas palavras. Até mesmo os detalhes mais simples, como seus programas/filmes\n",
    "favoritos, despertaram meu interesse em pesquisá-los.''',\n",
    "    '''- Os pontos em comum que notei são que todos nós gostamos de sair e\n",
    "compartilhamos hobbies semelhantes. Como assistir a programas da Netflix, dançar\n",
    "nossas músicas favoritas, ler livros, etc. .... Percebi que uma aluna da FATEC, Letícia,\n",
    "mencionou que seu artista favorito é Bruno Mars e que ele também é um dos\n",
    "principais artistas da minha lista de reprodução do Spotify. Outra aluna, Kamila,\n",
    "mencionou que gosta de assistir a dramas coreanos como um de seus passatempos.\n",
    "Eu assisto a dramas coreanos há muito tempo e é bom ver o reconhecimento\n",
    "internacional que eles estão recebendo. Em suma, se Kamilla e eu fôssemos colegas\n",
    "de classe, eu com certeza pediria a ela que compartilhasse seus dramas coreanos\n",
    "favoritos.''',\n",
    "    '''- Eu recomendaria a um amigo, pois é uma atividade empolgante em comparação\n",
    "com os trabalhos normais em grupo. Vejo isso como uma oportunidade de se expor\n",
    "a colegas de outro país e conhecer sua cultura. Não pode ser comparado ao\n",
    "trabalho com nossos próprios alunos estrangeiros, pois eles estão adaptados ao\n",
    "funcionamento do nosso sistema escolar. A experiência do COIL também nos\n",
    "permite aprender com perspectivas diferentes e adquirir conhecimentos que não\n",
    "são comuns no Canadá.''',\n",
    "    '''- Comunicação e manter a responsabilidade mútua. Pessoalmente, não sou fã de\n",
    "trabalho em grupo, pois a carga de trabalho nunca é distribuída de forma\n",
    "homogênea. No entanto, meus colegas de equipe nesse projeto foram ótimos.\n",
    "Todos contribuíram para o projeto, o que significa que nenhuma pessoa ficou\n",
    "carregando um peso maior sobre os ombros. Meus colegas de equipe também\n",
    "apoiaram muito uns aos outros e proporcionaram um espaço confortável para\n",
    "perguntas e ajuda adicional.''',\n",
    "    '''- Gostaria de trabalhar com eles em uma tarefa em vez de compartilhar nossas\n",
    "próprias respostas no SLACK. O fato de os dois países trabalharem separadamente\n",
    "no mesmo exercício anulou o objetivo da colaboração. Além disso, eu gostaria de\n",
    "trabalhar em um tipo diferente de projeto que incentivasse mais a comunicação,\n",
    "como uma apresentação em PowerPoint.''',\n",
    "    '''- O que tornou a experiência do COIL especial foi a oportunidade de colaborar com\n",
    "outra escola. Com desafios como diferença de fuso horário e barreiras linguísticas,\n",
    "não tivemos problemas, principalmente por causa da incrível capacidade de nossos\n",
    "colegas internacionais. Além disso, a tecnologia moderna ajuda a todos com uma\n",
    "comunicação tranquila que nos permite conectar por meio do SLACK e do\n",
    "WhatsApp.''',\n",
    "    '''- Foi incrível trabalhar com nossa colega internacional, Valerie. Por ser a única\n",
    "pessoa internacional, ela trabalhava com mais frequência em nosso horário. Seu\n",
    "inglês também era excelente, portanto não havia barreira de idioma entre nós\n",
    "quando se tratava de comunicação. Embora não fôssemos do mesmo país, eu não\n",
    "conseguia perceber a diferença, pois ela era muito boa em suas respostas.\n",
    "- Algo que aprendi sobre mim mesmo é que estou ansioso para conhecer e\n",
    "trabalhar com novas pessoas. Quando nosso professor nos apresentou o projeto,\n",
    "eu estava bastante ansioso por causa de coisas como diferença de fuso horário,\n",
    "barreiras linguísticas, etc. No entanto, uma parte de mim também estava muito\n",
    "animada para conhecer alunos de outros países. Para saber mais sobre o que eles\n",
    "aprendem na escola ou como é o programa de RH deles. Aprendi que as políticas\n",
    "de RH deles não são muito diferentes das nossas.''',\n",
    "    '''- O momento mais interessante para mim ao trabalhar com Valerie é que\n",
    "verificávamos o processo uma da outra, apesar de não estarmos trabalhando no\n",
    "mesmo trabalho. Isso mostrou que ainda estávamos fazendo pequenas coisas como\n",
    "uma equipe. Eu não esperava por isso, mas ela foi a primeira a tomar a iniciativa.\n",
    "Não posso elogiar Valerie o suficiente, pois ela deixou uma ótima impressão. Eu\n",
    "teria adorado conhecê-la melhor, mas nós duas estávamos ocupadas com nossas\n",
    "agendas.''',\n",
    "    '''- Minha maior lição disso tudo é tentar ser mais aberto e aceitar novos desafios.\n",
    "Como sou introvertido, fico muito ansioso ao conhecer novas pessoas e\n",
    "normalmente mantenho os colegas de escola à distância. Estar no RH significa que trabalharei com pessoas em um nível pessoal e isso é algo que ainda estou\n",
    "aprendendo a ajustar.''',\n",
    "    '''- Fiquei sabendo que minha colega de equipe, Valerie, é uma mulher casada que está\n",
    "matriculada em um programa de RH no Brasil. Ela tem um marido amoroso e uma\n",
    "cachorra chamada Tiffany. Ela é fã de Whitney Houston e até tocou \"I Will Always\n",
    "Love You\" em seu casamento. Ela também mencionou que adora frutas e legumes,\n",
    "o que me sugere que ela tem um estilo de vida bastante saudável.''',\n",
    "    '''- O que aprendi no Módulo 4 de Valerie é que ela trabalha em casa, o que torna sua\n",
    "experiência um pouco diferente da minha. No que diz respeito à comunicação, é\n",
    "mais difícil, pois você não tem tempo para se relacionar com seus colegas de\n",
    "trabalho individualmente. Em termos de fatores de estresse, compartilhamos\n",
    "muitos fatores semelhantes, como longas horas de trabalho e liderança deficiente.\n",
    "Em geral, compartilhamos experiências semelhantes, apesar de virmos de\n",
    "diferentes partes do mundo, quando se trata de locais de trabalho. Os poucos\n",
    "motivos que diferenciam nossas experiências são coisas como nossa cultura ou leis\n",
    "de trabalho diferentes.'''\n",
    "]"
   ]
  },
  {
   "cell_type": "code",
   "execution_count": 16,
   "id": "58ac2569",
   "metadata": {},
   "outputs": [
    {
     "name": "stdout",
     "output_type": "stream",
     "text": [
      "Tamanho Perguntas: 12   Respostas: 12\n"
     ]
    }
   ],
   "source": [
    "print(f\"Tamanho Perguntas: {len(perguntas)}   Respostas: {len(respostas)}\")"
   ]
  },
  {
   "cell_type": "code",
   "execution_count": 17,
   "id": "1e2556d1",
   "metadata": {},
   "outputs": [
    {
     "data": {
      "text/html": [
       "<div>\n",
       "<style scoped>\n",
       "    .dataframe tbody tr th:only-of-type {\n",
       "        vertical-align: middle;\n",
       "    }\n",
       "\n",
       "    .dataframe tbody tr th {\n",
       "        vertical-align: top;\n",
       "    }\n",
       "\n",
       "    .dataframe thead th {\n",
       "        text-align: right;\n",
       "    }\n",
       "</style>\n",
       "<table border=\"1\" class=\"dataframe\">\n",
       "  <thead>\n",
       "    <tr style=\"text-align: right;\">\n",
       "      <th></th>\n",
       "      <th>id</th>\n",
       "    </tr>\n",
       "  </thead>\n",
       "  <tbody>\n",
       "    <tr>\n",
       "      <th>count</th>\n",
       "      <td>49459.000000</td>\n",
       "    </tr>\n",
       "    <tr>\n",
       "      <th>mean</th>\n",
       "      <td>24730.960917</td>\n",
       "    </tr>\n",
       "    <tr>\n",
       "      <th>std</th>\n",
       "      <td>14277.792868</td>\n",
       "    </tr>\n",
       "    <tr>\n",
       "      <th>min</th>\n",
       "      <td>1.000000</td>\n",
       "    </tr>\n",
       "    <tr>\n",
       "      <th>25%</th>\n",
       "      <td>12366.500000</td>\n",
       "    </tr>\n",
       "    <tr>\n",
       "      <th>50%</th>\n",
       "      <td>24731.000000</td>\n",
       "    </tr>\n",
       "    <tr>\n",
       "      <th>75%</th>\n",
       "      <td>37095.500000</td>\n",
       "    </tr>\n",
       "    <tr>\n",
       "      <th>max</th>\n",
       "      <td>49460.000000</td>\n",
       "    </tr>\n",
       "  </tbody>\n",
       "</table>\n",
       "</div>"
      ],
      "text/plain": [
       "                 id\n",
       "count  49459.000000\n",
       "mean   24730.960917\n",
       "std    14277.792868\n",
       "min        1.000000\n",
       "25%    12366.500000\n",
       "50%    24731.000000\n",
       "75%    37095.500000\n",
       "max    49460.000000"
      ]
     },
     "execution_count": 17,
     "metadata": {},
     "output_type": "execute_result"
    }
   ],
   "source": [
    "# Carregar a base de dados para treino\n",
    "df = pd.read_csv(\"../../../dados/imdb-reviews-pt-br.csv\")\n",
    "df.describe()"
   ]
  },
  {
   "cell_type": "markdown",
   "id": "070a3dd6",
   "metadata": {},
   "source": [
    "## Preparo do data set"
   ]
  },
  {
   "cell_type": "code",
   "execution_count": 18,
   "id": "b07c18c3",
   "metadata": {},
   "outputs": [],
   "source": [
    "# Remover colunas inúteis\n",
    "df.drop(\n",
    "    columns = [\"text_en\"],\n",
    "    inplace = True\n",
    ")"
   ]
  },
  {
   "cell_type": "code",
   "execution_count": 19,
   "id": "473ed9fe",
   "metadata": {},
   "outputs": [],
   "source": [
    "# Remover linhas com conteudo N/A\n",
    "df.dropna(inplace = True)"
   ]
  },
  {
   "cell_type": "markdown",
   "id": "4ab3fcdd",
   "metadata": {},
   "source": [
    "### Criar a coluna numerica para representar o 'pos' e 'neg'"
   ]
  },
  {
   "cell_type": "code",
   "execution_count": 20,
   "id": "c8a73ac4",
   "metadata": {
    "scrolled": true
   },
   "outputs": [],
   "source": [
    "df = df.assign(sentiment_value = [1 if i == 'pos' else 0  for i in df[\"sentiment\"]])"
   ]
  },
  {
   "cell_type": "code",
   "execution_count": 21,
   "id": "4fd6e146",
   "metadata": {},
   "outputs": [
    {
     "data": {
      "text/html": [
       "<div>\n",
       "<style scoped>\n",
       "    .dataframe tbody tr th:only-of-type {\n",
       "        vertical-align: middle;\n",
       "    }\n",
       "\n",
       "    .dataframe tbody tr th {\n",
       "        vertical-align: top;\n",
       "    }\n",
       "\n",
       "    .dataframe thead th {\n",
       "        text-align: right;\n",
       "    }\n",
       "</style>\n",
       "<table border=\"1\" class=\"dataframe\">\n",
       "  <thead>\n",
       "    <tr style=\"text-align: right;\">\n",
       "      <th></th>\n",
       "      <th>id</th>\n",
       "      <th>text_pt</th>\n",
       "      <th>sentiment</th>\n",
       "      <th>sentiment_value</th>\n",
       "    </tr>\n",
       "  </thead>\n",
       "  <tbody>\n",
       "    <tr>\n",
       "      <th>0</th>\n",
       "      <td>1</td>\n",
       "      <td>Mais uma vez, o Sr. Costner arrumou um filme p...</td>\n",
       "      <td>neg</td>\n",
       "      <td>0</td>\n",
       "    </tr>\n",
       "    <tr>\n",
       "      <th>1</th>\n",
       "      <td>2</td>\n",
       "      <td>Este é um exemplo do motivo pelo qual a maiori...</td>\n",
       "      <td>neg</td>\n",
       "      <td>0</td>\n",
       "    </tr>\n",
       "    <tr>\n",
       "      <th>2</th>\n",
       "      <td>3</td>\n",
       "      <td>Primeiro de tudo eu odeio esses raps imbecis, ...</td>\n",
       "      <td>neg</td>\n",
       "      <td>0</td>\n",
       "    </tr>\n",
       "    <tr>\n",
       "      <th>3</th>\n",
       "      <td>4</td>\n",
       "      <td>Nem mesmo os Beatles puderam escrever músicas ...</td>\n",
       "      <td>neg</td>\n",
       "      <td>0</td>\n",
       "    </tr>\n",
       "    <tr>\n",
       "      <th>4</th>\n",
       "      <td>5</td>\n",
       "      <td>Filmes de fotos de latão não é uma palavra apr...</td>\n",
       "      <td>neg</td>\n",
       "      <td>0</td>\n",
       "    </tr>\n",
       "    <tr>\n",
       "      <th>...</th>\n",
       "      <td>...</td>\n",
       "      <td>...</td>\n",
       "      <td>...</td>\n",
       "      <td>...</td>\n",
       "    </tr>\n",
       "    <tr>\n",
       "      <th>49454</th>\n",
       "      <td>49456</td>\n",
       "      <td>Como a média de votos era muito baixa, e o fat...</td>\n",
       "      <td>pos</td>\n",
       "      <td>1</td>\n",
       "    </tr>\n",
       "    <tr>\n",
       "      <th>49455</th>\n",
       "      <td>49457</td>\n",
       "      <td>O enredo teve algumas reviravoltas infelizes e...</td>\n",
       "      <td>pos</td>\n",
       "      <td>1</td>\n",
       "    </tr>\n",
       "    <tr>\n",
       "      <th>49456</th>\n",
       "      <td>49458</td>\n",
       "      <td>Estou espantado com a forma como este filme e ...</td>\n",
       "      <td>pos</td>\n",
       "      <td>1</td>\n",
       "    </tr>\n",
       "    <tr>\n",
       "      <th>49457</th>\n",
       "      <td>49459</td>\n",
       "      <td>A Christmas Together realmente veio antes do m...</td>\n",
       "      <td>pos</td>\n",
       "      <td>1</td>\n",
       "    </tr>\n",
       "    <tr>\n",
       "      <th>49458</th>\n",
       "      <td>49460</td>\n",
       "      <td>O drama romântico da classe trabalhadora do di...</td>\n",
       "      <td>pos</td>\n",
       "      <td>1</td>\n",
       "    </tr>\n",
       "  </tbody>\n",
       "</table>\n",
       "<p>49459 rows × 4 columns</p>\n",
       "</div>"
      ],
      "text/plain": [
       "          id                                            text_pt sentiment  \\\n",
       "0          1  Mais uma vez, o Sr. Costner arrumou um filme p...       neg   \n",
       "1          2  Este é um exemplo do motivo pelo qual a maiori...       neg   \n",
       "2          3  Primeiro de tudo eu odeio esses raps imbecis, ...       neg   \n",
       "3          4  Nem mesmo os Beatles puderam escrever músicas ...       neg   \n",
       "4          5  Filmes de fotos de latão não é uma palavra apr...       neg   \n",
       "...      ...                                                ...       ...   \n",
       "49454  49456  Como a média de votos era muito baixa, e o fat...       pos   \n",
       "49455  49457  O enredo teve algumas reviravoltas infelizes e...       pos   \n",
       "49456  49458  Estou espantado com a forma como este filme e ...       pos   \n",
       "49457  49459  A Christmas Together realmente veio antes do m...       pos   \n",
       "49458  49460  O drama romântico da classe trabalhadora do di...       pos   \n",
       "\n",
       "       sentiment_value  \n",
       "0                    0  \n",
       "1                    0  \n",
       "2                    0  \n",
       "3                    0  \n",
       "4                    0  \n",
       "...                ...  \n",
       "49454                1  \n",
       "49455                1  \n",
       "49456                1  \n",
       "49457                1  \n",
       "49458                1  \n",
       "\n",
       "[49459 rows x 4 columns]"
      ]
     },
     "execution_count": 21,
     "metadata": {},
     "output_type": "execute_result"
    }
   ],
   "source": [
    "df"
   ]
  },
  {
   "cell_type": "markdown",
   "id": "2d5afda3",
   "metadata": {},
   "source": [
    "### Preparo do texto text_pt"
   ]
  },
  {
   "cell_type": "markdown",
   "id": "422586a5",
   "metadata": {},
   "source": [
    "#### Funções para o tratamento de texto"
   ]
  },
  {
   "cell_type": "code",
   "execution_count": 22,
   "id": "9a59745a",
   "metadata": {},
   "outputs": [],
   "source": [
    "# Função para preparar as palavras do texto\n",
    "def preparar_texto( texto ):\n",
    "    # Converter em minusculo\n",
    "    texto_limpo = texto.lower()\n",
    "    # Remover pontuação e caracteres especiais\n",
    "    translator = str.maketrans('\\n\\r\\t', '   ', string.punctuation)\n",
    "    texto_limpo = texto_limpo.translate(translator)\n",
    "    # Remover os acentos\n",
    "    texto_limpo = unidecode(texto_limpo)\n",
    "    return texto_limpo"
   ]
  },
  {
   "cell_type": "code",
   "execution_count": 23,
   "id": "5de21a24",
   "metadata": {},
   "outputs": [],
   "source": [
    "# Remover Stopwords\n",
    "stopwords = nltk.corpus.stopwords.words('portuguese')\n",
    "def remove_stopwords( texto ):\n",
    "    tokens = []\n",
    "    for token in nltk.tokenize.word_tokenize(texto, language='portuguese'):\n",
    "        if token not in stopwords:\n",
    "            tokens.append(token)\n",
    "    return \" \".join(tokens)"
   ]
  },
  {
   "cell_type": "code",
   "execution_count": 42,
   "id": "2617eb85",
   "metadata": {},
   "outputs": [
    {
     "data": {
      "text/plain": [
       "207"
      ]
     },
     "execution_count": 42,
     "metadata": {},
     "output_type": "execute_result"
    }
   ],
   "source": [
    "len(stopwords)"
   ]
  },
  {
   "cell_type": "code",
   "execution_count": 25,
   "id": "2ca41632",
   "metadata": {},
   "outputs": [],
   "source": [
    "# Lematização\n",
    "def lematizar( texto ): \n",
    "    doc = nlp(texto)\n",
    "    doc_lemma = [token.lemma_ for token in doc if token.pos_ == 'NOUN']\n",
    "    return \" \".join(doc_lemma)"
   ]
  },
  {
   "cell_type": "code",
   "execution_count": 26,
   "id": "247869a3",
   "metadata": {},
   "outputs": [],
   "source": [
    "# Stemming\n",
    "stemmer = nltk.RSLPStemmer()\n",
    "def stemmer_text( texto ):\n",
    "    if isinstance(texto, str):\n",
    "        lista_palavras = texto.split(\" \")\n",
    "        nova_lista = []\n",
    "        for palavra in lista_palavras:\n",
    "            stemmed = stemmer.stem( palavra )\n",
    "            nova_lista.append(stemmed)\n",
    "        return \" \".join(nova_lista)\n",
    "    else:\n",
    "        return texto"
   ]
  },
  {
   "cell_type": "code",
   "execution_count": 27,
   "id": "ae13befd",
   "metadata": {},
   "outputs": [],
   "source": [
    "def transformar_texto( texto ):\n",
    "    texto_limpo = preparar_texto( texto )\n",
    "    return texto_limpo\n",
    "    # texto_sem_stopwords = remove_stopwords(texto_limpo)\n",
    "    # texto_stemmed = stemmer_text(texto_sem_stopwords)\n",
    "    # return texto_stemmed"
   ]
  },
  {
   "cell_type": "markdown",
   "id": "679213c6",
   "metadata": {},
   "source": [
    "#### Prepara o texto e coloca em uma variavel separada"
   ]
  },
  {
   "cell_type": "code",
   "execution_count": 28,
   "id": "2071f1ae",
   "metadata": {},
   "outputs": [
    {
     "name": "stdout",
     "output_type": "stream",
     "text": [
      "Analisando linha: 1000\n",
      "Analisando linha: 2000\n",
      "Analisando linha: 3000\n",
      "Analisando linha: 4000\n",
      "Analisando linha: 5000\n",
      "Analisando linha: 6000\n",
      "Analisando linha: 7000\n",
      "Analisando linha: 8000\n",
      "Analisando linha: 9000\n",
      "Analisando linha: 10000\n",
      "Analisando linha: 11000\n",
      "Analisando linha: 12000\n",
      "Analisando linha: 13000\n",
      "Analisando linha: 14000\n",
      "Analisando linha: 15000\n",
      "Analisando linha: 16000\n",
      "Analisando linha: 17000\n",
      "Analisando linha: 18000\n",
      "Analisando linha: 19000\n",
      "Analisando linha: 20000\n",
      "Analisando linha: 21000\n",
      "Analisando linha: 22000\n",
      "Analisando linha: 23000\n",
      "Analisando linha: 24000\n",
      "Analisando linha: 25000\n",
      "Analisando linha: 26000\n",
      "Analisando linha: 27000\n",
      "Analisando linha: 28000\n",
      "Analisando linha: 29000\n",
      "Analisando linha: 30000\n",
      "Analisando linha: 31000\n",
      "Analisando linha: 32000\n",
      "Analisando linha: 33000\n",
      "Analisando linha: 34000\n",
      "Analisando linha: 35000\n",
      "Analisando linha: 36000\n",
      "Analisando linha: 37000\n",
      "Analisando linha: 38000\n",
      "Analisando linha: 39000\n",
      "Analisando linha: 40000\n",
      "Analisando linha: 41000\n",
      "Analisando linha: 42000\n",
      "Analisando linha: 43000\n",
      "Analisando linha: 44000\n",
      "Analisando linha: 45000\n",
      "Analisando linha: 46000\n",
      "Analisando linha: 47000\n",
      "Analisando linha: 48000\n",
      "Analisando linha: 49000\n"
     ]
    }
   ],
   "source": [
    "count = 0\n",
    "def invocar_transformar_texto( texto ):\n",
    "    global count\n",
    "    count += 1\n",
    "    if count % 1000 == 0:\n",
    "        print(f\"Analisando linha: {count}\")\n",
    "    return transformar_texto( texto )\n",
    "\n",
    "texto_preparado = df[\"text_pt\"].apply(invocar_transformar_texto)"
   ]
  },
  {
   "cell_type": "markdown",
   "id": "eee8cf95",
   "metadata": {},
   "source": [
    "### Criar o dicionario e o Bag of Words"
   ]
  },
  {
   "cell_type": "code",
   "execution_count": 29,
   "id": "38d01271",
   "metadata": {},
   "outputs": [],
   "source": [
    "# # Criar o bag_of_words com base no CountVectorizer\n",
    "# vetorizador = CountVectorizer(max_features=100, lowercase=False)\n",
    "# bag_of_words = vetorizador.fit_transform(texto_preparado)\n",
    "# bag_of_words.shape    # Verifica o formato da Matriz"
   ]
  },
  {
   "cell_type": "code",
   "execution_count": 30,
   "id": "251e2d62",
   "metadata": {},
   "outputs": [],
   "source": [
    "# # Criar o bag_of_words com base no TfidfVectorizer usando NGram 3\n",
    "# vetorizador = TfidfVectorizer(lowercase=False, max_features=100, ngram_range=(1, 3))\n",
    "# bag_of_words = vetorizador.fit_transform(texto_preparado)\n",
    "# bag_of_words.shape"
   ]
  },
  {
   "cell_type": "code",
   "execution_count": 31,
   "id": "dd943485",
   "metadata": {
    "scrolled": true
   },
   "outputs": [
    {
     "data": {
      "text/plain": [
       "(49459, 2000)"
      ]
     },
     "execution_count": 31,
     "metadata": {},
     "output_type": "execute_result"
    }
   ],
   "source": [
    "# Criar o bag_of_words com base no TfidfVectorizer\n",
    "vetorizador = TfidfVectorizer(lowercase=False, max_features=2000)\n",
    "bag_of_words = vetorizador.fit_transform(texto_preparado)\n",
    "bag_of_words.shape"
   ]
  },
  {
   "cell_type": "code",
   "execution_count": 32,
   "id": "87f096d2",
   "metadata": {},
   "outputs": [],
   "source": [
    "dicionario = vetorizador.get_feature_names_out()"
   ]
  },
  {
   "cell_type": "code",
   "execution_count": 33,
   "id": "5de05fbc",
   "metadata": {},
   "outputs": [],
   "source": [
    "bow = pd.DataFrame.sparse.from_spmatrix(bag_of_words, columns=dicionario)"
   ]
  },
  {
   "cell_type": "code",
   "execution_count": 34,
   "id": "8c66505d",
   "metadata": {},
   "outputs": [],
   "source": [
    "train, test, train_class, test_class = train_test_split(bow, \n",
    "                                                        df[\"sentiment_value\"], \n",
    "                                                        random_state = 100)"
   ]
  },
  {
   "cell_type": "code",
   "execution_count": 35,
   "id": "4845f82f",
   "metadata": {},
   "outputs": [],
   "source": [
    "reg_logistica = LogisticRegression()\n",
    "reg_logistica.fit(train, train_class)\n",
    "acuracia = reg_logistica.score(test, test_class)"
   ]
  },
  {
   "cell_type": "code",
   "execution_count": 36,
   "id": "c77b0860",
   "metadata": {
    "scrolled": true
   },
   "outputs": [
    {
     "data": {
      "text/plain": [
       "0.874646178730287"
      ]
     },
     "execution_count": 36,
     "metadata": {},
     "output_type": "execute_result"
    }
   ],
   "source": [
    "acuracia"
   ]
  },
  {
   "cell_type": "markdown",
   "id": "118b9a05",
   "metadata": {},
   "source": [
    "# Acuracias\n",
    "#### Sem tratamento do texto ==> 0.7013344116457744\n",
    "#### Colocando as palavras em minusculo ==> 0.7107966033158107\n",
    "#### Remover os caracteres especiais ==> 0.7273756570966438\n",
    "#### Remover os acentos ==> 0.7272139102304893\n",
    "#### Remover as stopwords ==> 0.7199353012535382\n",
    "#### Remover stopwords e aplicar raiz do texto (stemm) ==> 0.7532551556813587\n",
    "#### Aplicando o TF_ID ao inves da contagem de palavras ==> 0.7553578649413668\n",
    "#### Aplicando NGRAM (1,3) ==> 0.7553578649413668\n",
    "#### Aplicando TF_ID e MAX_Features = 200 ==> 0.7955519611807521\n",
    "#### Aplicando TF_ID e MAX_Features = 300 ==> 0.8188435099069955 \n",
    "#### Aplicando TF_ID e MAX_Features = 500 ==> 0.8418924383340073\n",
    "#### Aplicando TF_ID e MAX_Features = 1000 ==> 0.8639708855640922\n",
    "#### Aplicando TF_ID e MAX_Features = 2000 ==> 0.8760210270926001\n"
   ]
  },
  {
   "cell_type": "code",
   "execution_count": 37,
   "id": "82b47cf5",
   "metadata": {},
   "outputs": [],
   "source": [
    "# Tratar as respostas\n",
    "respostas_preparadas = np.array([invocar_transformar_texto(r) for r in respostas])"
   ]
  },
  {
   "cell_type": "code",
   "execution_count": 38,
   "id": "cc5bad3b",
   "metadata": {},
   "outputs": [
    {
     "data": {
      "text/plain": [
       "array([' o coil abriu meus olhos para o quanto os alunos brasileiros sao otimos desde o inicio fiquei agradavelmente surpreso com a qualidade do ingles de todos porque eu estava prevendo que haveria um desafio na comunicacao supondo que os brasileiros geralmente usam o portugues como idioma principal eles me provaram que seu nivel de ingles e tao bom quanto o de qualquer falante nativo de ingles',\n",
       "       ' depois de conhecer todos por meio do padlet adoro o fato de que muitos de nos viemos de diferentes partes do mundo passando por diferentes fases da vida com nossos proprios objetivos e sonhos e ainda assim nos cruzamos embora eu nao conheca todos pessoalmente e bom conhecer as pessoas nas fotos por meio de suas palavras ate mesmo os detalhes mais simples como seus programasfilmes favoritos despertaram meu interesse em pesquisalos',\n",
       "       ' os pontos em comum que notei sao que todos nos gostamos de sair e compartilhamos hobbies semelhantes como assistir a programas da netflix dancar nossas musicas favoritas ler livros etc  percebi que uma aluna da fatec leticia mencionou que seu artista favorito e bruno mars e que ele tambem e um dos principais artistas da minha lista de reproducao do spotify outra aluna kamila mencionou que gosta de assistir a dramas coreanos como um de seus passatempos eu assisto a dramas coreanos ha muito tempo e e bom ver o reconhecimento internacional que eles estao recebendo em suma se kamilla e eu fossemos colegas de classe eu com certeza pediria a ela que compartilhasse seus dramas coreanos favoritos',\n",
       "       ' eu recomendaria a um amigo pois e uma atividade empolgante em comparacao com os trabalhos normais em grupo vejo isso como uma oportunidade de se expor a colegas de outro pais e conhecer sua cultura nao pode ser comparado ao trabalho com nossos proprios alunos estrangeiros pois eles estao adaptados ao funcionamento do nosso sistema escolar a experiencia do coil tambem nos permite aprender com perspectivas diferentes e adquirir conhecimentos que nao sao comuns no canada',\n",
       "       ' comunicacao e manter a responsabilidade mutua pessoalmente nao sou fa de trabalho em grupo pois a carga de trabalho nunca e distribuida de forma homogenea no entanto meus colegas de equipe nesse projeto foram otimos todos contribuiram para o projeto o que significa que nenhuma pessoa ficou carregando um peso maior sobre os ombros meus colegas de equipe tambem apoiaram muito uns aos outros e proporcionaram um espaco confortavel para perguntas e ajuda adicional',\n",
       "       ' gostaria de trabalhar com eles em uma tarefa em vez de compartilhar nossas proprias respostas no slack o fato de os dois paises trabalharem separadamente no mesmo exercicio anulou o objetivo da colaboracao alem disso eu gostaria de trabalhar em um tipo diferente de projeto que incentivasse mais a comunicacao como uma apresentacao em powerpoint',\n",
       "       ' o que tornou a experiencia do coil especial foi a oportunidade de colaborar com outra escola com desafios como diferenca de fuso horario e barreiras linguisticas nao tivemos problemas principalmente por causa da incrivel capacidade de nossos colegas internacionais alem disso a tecnologia moderna ajuda a todos com uma comunicacao tranquila que nos permite conectar por meio do slack e do whatsapp',\n",
       "       ' foi incrivel trabalhar com nossa colega internacional valerie por ser a unica pessoa internacional ela trabalhava com mais frequencia em nosso horario seu ingles tambem era excelente portanto nao havia barreira de idioma entre nos quando se tratava de comunicacao embora nao fossemos do mesmo pais eu nao conseguia perceber a diferenca pois ela era muito boa em suas respostas  algo que aprendi sobre mim mesmo e que estou ansioso para conhecer e trabalhar com novas pessoas quando nosso professor nos apresentou o projeto eu estava bastante ansioso por causa de coisas como diferenca de fuso horario barreiras linguisticas etc no entanto uma parte de mim tambem estava muito animada para conhecer alunos de outros paises para saber mais sobre o que eles aprendem na escola ou como e o programa de rh deles aprendi que as politicas de rh deles nao sao muito diferentes das nossas',\n",
       "       ' o momento mais interessante para mim ao trabalhar com valerie e que verificavamos o processo uma da outra apesar de nao estarmos trabalhando no mesmo trabalho isso mostrou que ainda estavamos fazendo pequenas coisas como uma equipe eu nao esperava por isso mas ela foi a primeira a tomar a iniciativa nao posso elogiar valerie o suficiente pois ela deixou uma otima impressao eu teria adorado conhecela melhor mas nos duas estavamos ocupadas com nossas agendas',\n",
       "       ' minha maior licao disso tudo e tentar ser mais aberto e aceitar novos desafios como sou introvertido fico muito ansioso ao conhecer novas pessoas e normalmente mantenho os colegas de escola a distancia estar no rh significa que trabalharei com pessoas em um nivel pessoal e isso e algo que ainda estou aprendendo a ajustar',\n",
       "       ' fiquei sabendo que minha colega de equipe valerie e uma mulher casada que esta matriculada em um programa de rh no brasil ela tem um marido amoroso e uma cachorra chamada tiffany ela e fa de whitney houston e ate tocou i will always love you em seu casamento ela tambem mencionou que adora frutas e legumes o que me sugere que ela tem um estilo de vida bastante saudavel',\n",
       "       ' o que aprendi no modulo 4 de valerie e que ela trabalha em casa o que torna sua experiencia um pouco diferente da minha no que diz respeito a comunicacao e mais dificil pois voce nao tem tempo para se relacionar com seus colegas de trabalho individualmente em termos de fatores de estresse compartilhamos muitos fatores semelhantes como longas horas de trabalho e lideranca deficiente em geral compartilhamos experiencias semelhantes apesar de virmos de diferentes partes do mundo quando se trata de locais de trabalho os poucos motivos que diferenciam nossas experiencias sao coisas como nossa cultura ou leis de trabalho diferentes'],\n",
       "      dtype='<U880')"
      ]
     },
     "execution_count": 38,
     "metadata": {},
     "output_type": "execute_result"
    }
   ],
   "source": [
    "respostas_preparadas"
   ]
  },
  {
   "cell_type": "code",
   "execution_count": 39,
   "id": "42a75b8f",
   "metadata": {},
   "outputs": [
    {
     "data": {
      "text/plain": [
       "(12, 2000)"
      ]
     },
     "execution_count": 39,
     "metadata": {},
     "output_type": "execute_result"
    }
   ],
   "source": [
    "vetorizador = TfidfVectorizer(lowercase=False, max_features=2000, vocabulary=dicionario)\n",
    "bag_of_words_respostas = vetorizador.fit_transform(respostas_preparadas)\n",
    "bag_of_words_respostas.shape"
   ]
  },
  {
   "cell_type": "code",
   "execution_count": 40,
   "id": "c9a20084",
   "metadata": {},
   "outputs": [
    {
     "name": "stderr",
     "output_type": "stream",
     "text": [
      "D:\\usr\\anaconda3\\lib\\site-packages\\sklearn\\base.py:420: UserWarning: X does not have valid feature names, but LogisticRegression was fitted with feature names\n",
      "  warnings.warn(\n"
     ]
    },
    {
     "data": {
      "text/plain": [
       "array([1, 1, 1, 1, 1, 1, 1, 1, 1, 0, 1, 1], dtype=int64)"
      ]
     },
     "execution_count": 40,
     "metadata": {},
     "output_type": "execute_result"
    }
   ],
   "source": [
    "reg_logistica.predict(bag_of_words_respostas)"
   ]
  },
  {
   "cell_type": "code",
   "execution_count": 41,
   "id": "44886449",
   "metadata": {},
   "outputs": [],
   "source": [
    "# i = 0\n",
    "# print(\"Linhas size: \", len(linhas))\n",
    "# while i < len(linhas):\n",
    "#     linha = linhas[i].lower()\n",
    "#     linha_tokens = nltk.tokenize.word_tokenize(linha, language='portuguese')\n",
    "#     linha_tokens_limpos = remove_stop_words(linha_tokens)\n",
    "#     i += 1\n",
    "#     if linha_tokens_limpos is None or len(linha_tokens_limpos) < 3:\n",
    "#         continue\n",
    "#     linha_ngrams = ngrams(linha_tokens_limpos, 3)\n",
    "#     linha_points = 0\n",
    "#     for pergunta in perguntas:\n",
    "#         pergunta_tokens = nltk.tokenize.word_tokenize(pergunta, language='portuguese')\n",
    "#         pergunta_no_stopwords = remove_stop_words(pergunta_tokens)\n",
    "#         for ngram_tuple in linha_ngrams: \n",
    "#             ngram_tupla_texto = \" \".join(ngram_tuple)\n",
    "#             if ngram_tupla_texto in pergunta.lower():\n",
    "#                 linha_points += 1\n",
    "# #                 print(\"Pontos: \", linha_points)\n",
    "# #                 print(\"Pergunta: \", pergunta)\n",
    "# #                 print(\"Linha: \", linha)\n",
    "# #                 print(\"NGram_Tupla: \", ngram_tupla_texto)\n",
    "#         if linha_points > 3: \n",
    "#             print(\"Linha: \", linha)\n",
    "#             print(\"Corresponde a pergunta: \", pergunta.lower())\n",
    "\n",
    "    "
   ]
  }
 ],
 "metadata": {
  "kernelspec": {
   "display_name": "Python 3 (ipykernel)",
   "language": "python",
   "name": "python3"
  },
  "language_info": {
   "codemirror_mode": {
    "name": "ipython",
    "version": 3
   },
   "file_extension": ".py",
   "mimetype": "text/x-python",
   "name": "python",
   "nbconvert_exporter": "python",
   "pygments_lexer": "ipython3",
   "version": "3.10.9"
  }
 },
 "nbformat": 4,
 "nbformat_minor": 5
}
