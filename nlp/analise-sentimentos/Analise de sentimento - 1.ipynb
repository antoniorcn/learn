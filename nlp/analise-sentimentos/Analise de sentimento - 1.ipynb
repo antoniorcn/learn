{
 "cells": [
  {
   "cell_type": "code",
   "execution_count": 25,
   "id": "e1251652",
   "metadata": {},
   "outputs": [],
   "source": [
    "# !pip install pycryptodome==3.15.0\n",
    "# !pip install PyPDF2"
   ]
  },
  {
   "cell_type": "code",
   "execution_count": 43,
   "id": "aea35b93",
   "metadata": {},
   "outputs": [],
   "source": [
    "perguntas = [\n",
    "    'Como esse COIL afetou sua consciência global?',\n",
    "    'Que novas perspectivas você descobriu durante sua experiência no COIL?',\n",
    "    'Que pontos em comum você notou durante sua experiência com o COIL?',\n",
    "    'Você recomendaria uma experiência COIL a um amigo? Por que sim ou por que não?',\n",
    "    'O que você diria que os alunos precisam fazer se quiserem ter uma experiência COIL bem-sucedida?',\n",
    "    'Se você fosse fazer o COIL com colegas internacionais novamente, o que faria de diferente?',\n",
    "    'O que tornou a experiência COIL única ou especial?',\n",
    "    'O que você aprendeu sobre seus colegas internacionais? O que você aprendeu sobre si mesmo?',\n",
    "    'De modo geral, qual foi o momento de aprendizado mais interessante e útil para você em suas atividades de colaboração com colegas internacionais?',\n",
    "    'O que você aprendeu com o COIL que pode ajudá-lo em outras áreas de sua vida?',\n",
    "    'O que você aprendeu com a apresentação dos seus colegas de equipe do Brasil no Padlet?',\n",
    "    'Seus aprendizados do'\n",
    "]"
   ]
  },
  {
   "cell_type": "code",
   "execution_count": 44,
   "id": "c77b0860",
   "metadata": {},
   "outputs": [],
   "source": [
    "perguntas_respostas = {}"
   ]
  },
  {
   "cell_type": "code",
   "execution_count": 45,
   "id": "5b2dfb4d",
   "metadata": {},
   "outputs": [],
   "source": [
    "arquivo = open(\"./dados/Angela VU.txt\", \"r\", encoding=\"utf-8\")"
   ]
  },
  {
   "cell_type": "code",
   "execution_count": 46,
   "id": "7a6c961b",
   "metadata": {},
   "outputs": [],
   "source": [
    "texto = \"\"\n",
    "lido = \"A\"\n",
    "while lido != \"\":\n",
    "    lido = arquivo.read()\n",
    "    if lido != \"\":\n",
    "        texto += lido\n",
    "arquivo.close()"
   ]
  },
  {
   "cell_type": "code",
   "execution_count": 47,
   "id": "8e99a19f",
   "metadata": {},
   "outputs": [],
   "source": [
    "linhas = texto.split(\"\\n\")"
   ]
  },
  {
   "cell_type": "code",
   "execution_count": null,
   "id": "44886449",
   "metadata": {},
   "outputs": [],
   "source": [
    "i = 0\n",
    "while i < len(linhas):\n",
    "    linha = linhas[i]\n",
    "    if linha\n",
    "    "
   ]
  },
  {
   "cell_type": "code",
   "execution_count": null,
   "id": "411d0728",
   "metadata": {},
   "outputs": [],
   "source": []
  },
  {
   "cell_type": "code",
   "execution_count": null,
   "id": "f62c63aa",
   "metadata": {},
   "outputs": [],
   "source": []
  },
  {
   "cell_type": "code",
   "execution_count": null,
   "id": "072d1de4",
   "metadata": {},
   "outputs": [],
   "source": []
  },
  {
   "cell_type": "code",
   "execution_count": null,
   "id": "de878f44",
   "metadata": {},
   "outputs": [],
   "source": []
  }
 ],
 "metadata": {
  "kernelspec": {
   "display_name": "Python 3 (ipykernel)",
   "language": "python",
   "name": "python3"
  },
  "language_info": {
   "codemirror_mode": {
    "name": "ipython",
    "version": 3
   },
   "file_extension": ".py",
   "mimetype": "text/x-python",
   "name": "python",
   "nbconvert_exporter": "python",
   "pygments_lexer": "ipython3",
   "version": "3.11.4"
  }
 },
 "nbformat": 4,
 "nbformat_minor": 5
}
