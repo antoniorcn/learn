{
 "cells": [
  {
   "cell_type": "code",
   "execution_count": 1,
   "id": "84233a61",
   "metadata": {},
   "outputs": [],
   "source": [
    "# !pip install pycryptodome==3.15.0\n",
    "# !pip install PyPDF2"
   ]
  },
  {
   "cell_type": "code",
   "execution_count": 2,
   "id": "ded25352",
   "metadata": {},
   "outputs": [],
   "source": [
    "# !python -m pip install spacy\n",
    "# !python -m spacy download pt"
   ]
  },
  {
   "cell_type": "code",
   "execution_count": 3,
   "id": "685c015a",
   "metadata": {},
   "outputs": [],
   "source": [
    "import nltk"
   ]
  },
  {
   "cell_type": "code",
   "execution_count": 4,
   "id": "53b8e5c2",
   "metadata": {},
   "outputs": [],
   "source": [
    "import numpy as np"
   ]
  },
  {
   "cell_type": "code",
   "execution_count": 5,
   "id": "c98281d2",
   "metadata": {},
   "outputs": [],
   "source": [
    "from nltk.util import ngrams"
   ]
  },
  {
   "cell_type": "code",
   "execution_count": 6,
   "id": "f0dbee2e",
   "metadata": {},
   "outputs": [],
   "source": [
    "import pandas as pd"
   ]
  },
  {
   "cell_type": "code",
   "execution_count": 7,
   "id": "e249a385",
   "metadata": {},
   "outputs": [],
   "source": [
    "from sklearn.model_selection import train_test_split"
   ]
  },
  {
   "cell_type": "code",
   "execution_count": 8,
   "id": "6ef46f83",
   "metadata": {},
   "outputs": [],
   "source": [
    "from sklearn.feature_extraction.text import CountVectorizer"
   ]
  },
  {
   "cell_type": "code",
   "execution_count": 9,
   "id": "d47a9886",
   "metadata": {},
   "outputs": [],
   "source": [
    "from sklearn import linear_model"
   ]
  },
  {
   "cell_type": "code",
   "execution_count": 10,
   "id": "97ec6a03",
   "metadata": {},
   "outputs": [],
   "source": [
    "import string"
   ]
  },
  {
   "cell_type": "code",
   "execution_count": 45,
   "id": "2f151208",
   "metadata": {},
   "outputs": [],
   "source": [
    "from sklearn.linear_model import LogisticRegression\n",
    "from sklearn.tree import DecisionTreeClassifier"
   ]
  },
  {
   "cell_type": "code",
   "execution_count": 12,
   "id": "93c47e70",
   "metadata": {},
   "outputs": [],
   "source": [
    "from unidecode import unidecode"
   ]
  },
  {
   "cell_type": "code",
   "execution_count": 13,
   "id": "c556b625",
   "metadata": {},
   "outputs": [],
   "source": [
    "from sklearn.feature_extraction.text import TfidfVectorizer"
   ]
  },
  {
   "cell_type": "code",
   "execution_count": 14,
   "id": "1cc12984",
   "metadata": {},
   "outputs": [],
   "source": [
    "import matplotlib.pyplot as plt"
   ]
  },
  {
   "cell_type": "code",
   "execution_count": 15,
   "id": "aea35b93",
   "metadata": {},
   "outputs": [],
   "source": [
    "perguntas = [\n",
    "    'Como esse COIL afetou sua consciência global?',\n",
    "    'Que novas perspectivas você descobriu durante sua experiência no COIL?',\n",
    "    'Que pontos em comum você notou durante sua experiência com o COIL?',\n",
    "    'Você recomendaria uma experiência COIL a um amigo? Por que sim ou por que não?',\n",
    "    'O que você diria que os alunos precisam fazer se quiserem ter uma experiência COIL bem-sucedida?',\n",
    "    'Se você fosse fazer o COIL com colegas internacionais novamente, o que faria de diferente?',\n",
    "    'O que tornou a experiência COIL única ou especial?',\n",
    "    'O que você aprendeu sobre seus colegas internacionais? O que você aprendeu sobre si mesmo?',\n",
    "    'De modo geral, qual foi o momento de aprendizado mais interessante e útil para você em suas atividades de colaboração com colegas internacionais?',\n",
    "    'O que você aprendeu com o COIL que pode ajudá-lo em outras áreas de sua vida?',\n",
    "    'O que você aprendeu com a apresentação dos seus colegas de equipe do Brasil no Padlet?',\n",
    "    'Seus aprendizados do'\n",
    "]"
   ]
  },
  {
   "cell_type": "code",
   "execution_count": 16,
   "id": "58ac2569",
   "metadata": {},
   "outputs": [],
   "source": [
    "# print(f\"Tamanho Perguntas: {len(perguntas)}   Respostas: {len(respostas)}\")"
   ]
  },
  {
   "cell_type": "code",
   "execution_count": 17,
   "id": "16737243",
   "metadata": {},
   "outputs": [
    {
     "data": {
      "text/html": [
       "<div>\n",
       "<style scoped>\n",
       "    .dataframe tbody tr th:only-of-type {\n",
       "        vertical-align: middle;\n",
       "    }\n",
       "\n",
       "    .dataframe tbody tr th {\n",
       "        vertical-align: top;\n",
       "    }\n",
       "\n",
       "    .dataframe thead th {\n",
       "        text-align: right;\n",
       "    }\n",
       "</style>\n",
       "<table border=\"1\" class=\"dataframe\">\n",
       "  <thead>\n",
       "    <tr style=\"text-align: right;\">\n",
       "      <th></th>\n",
       "      <th>id</th>\n",
       "      <th>ult_mod</th>\n",
       "    </tr>\n",
       "  </thead>\n",
       "  <tbody>\n",
       "    <tr>\n",
       "      <th>count</th>\n",
       "      <td>14.0000</td>\n",
       "      <td>0.0</td>\n",
       "    </tr>\n",
       "    <tr>\n",
       "      <th>mean</th>\n",
       "      <td>8.5000</td>\n",
       "      <td>NaN</td>\n",
       "    </tr>\n",
       "    <tr>\n",
       "      <th>std</th>\n",
       "      <td>4.1833</td>\n",
       "      <td>NaN</td>\n",
       "    </tr>\n",
       "    <tr>\n",
       "      <th>min</th>\n",
       "      <td>2.0000</td>\n",
       "      <td>NaN</td>\n",
       "    </tr>\n",
       "    <tr>\n",
       "      <th>25%</th>\n",
       "      <td>5.2500</td>\n",
       "      <td>NaN</td>\n",
       "    </tr>\n",
       "    <tr>\n",
       "      <th>50%</th>\n",
       "      <td>8.5000</td>\n",
       "      <td>NaN</td>\n",
       "    </tr>\n",
       "    <tr>\n",
       "      <th>75%</th>\n",
       "      <td>11.7500</td>\n",
       "      <td>NaN</td>\n",
       "    </tr>\n",
       "    <tr>\n",
       "      <th>max</th>\n",
       "      <td>15.0000</td>\n",
       "      <td>NaN</td>\n",
       "    </tr>\n",
       "  </tbody>\n",
       "</table>\n",
       "</div>"
      ],
      "text/plain": [
       "            id  ult_mod\n",
       "count  14.0000      0.0\n",
       "mean    8.5000      NaN\n",
       "std     4.1833      NaN\n",
       "min     2.0000      NaN\n",
       "25%     5.2500      NaN\n",
       "50%     8.5000      NaN\n",
       "75%    11.7500      NaN\n",
       "max    15.0000      NaN"
      ]
     },
     "execution_count": 17,
     "metadata": {},
     "output_type": "execute_result"
    }
   ],
   "source": [
    "# Carregar a base de dados de perguntas e respostas\n",
    "df_respostas = pd.read_csv(\"../../../dados/pesquisa-sol/reflexoes-coil.csv\", encoding='utf8', delimiter=\";\", quotechar='\"', \n",
    "    names=['id', 'hora_inicio', 'hora_conclusao', 'email', 'nome', 'ult_mod', 'nome_entrevistado', 'q1', 'q2', 'q3', 'q4', \n",
    "           'q5', 'q6', 'q7', 'q8', 'q9', 'q10'], header=1)\n",
    "df_respostas.describe()"
   ]
  },
  {
   "cell_type": "code",
   "execution_count": 18,
   "id": "ca267b9f",
   "metadata": {},
   "outputs": [],
   "source": [
    "# Remover colunas inúteis da base de respostas\n",
    "df_respostas.drop(\n",
    "    columns = ['hora_inicio', 'hora_conclusao', 'email', 'nome', 'ult_mod'],\n",
    "    inplace = True\n",
    ")"
   ]
  },
  {
   "cell_type": "code",
   "execution_count": 19,
   "id": "e60f4858",
   "metadata": {},
   "outputs": [],
   "source": [
    "# Remover linhas com conteudo N/A\n",
    "df_respostas.dropna(inplace = True)"
   ]
  },
  {
   "cell_type": "code",
   "execution_count": 20,
   "id": "1e2556d1",
   "metadata": {
    "scrolled": true
   },
   "outputs": [
    {
     "data": {
      "text/html": [
       "<div>\n",
       "<style scoped>\n",
       "    .dataframe tbody tr th:only-of-type {\n",
       "        vertical-align: middle;\n",
       "    }\n",
       "\n",
       "    .dataframe tbody tr th {\n",
       "        vertical-align: top;\n",
       "    }\n",
       "\n",
       "    .dataframe thead th {\n",
       "        text-align: right;\n",
       "    }\n",
       "</style>\n",
       "<table border=\"1\" class=\"dataframe\">\n",
       "  <thead>\n",
       "    <tr style=\"text-align: right;\">\n",
       "      <th></th>\n",
       "      <th>id</th>\n",
       "    </tr>\n",
       "  </thead>\n",
       "  <tbody>\n",
       "    <tr>\n",
       "      <th>count</th>\n",
       "      <td>49459.000000</td>\n",
       "    </tr>\n",
       "    <tr>\n",
       "      <th>mean</th>\n",
       "      <td>24730.960917</td>\n",
       "    </tr>\n",
       "    <tr>\n",
       "      <th>std</th>\n",
       "      <td>14277.792868</td>\n",
       "    </tr>\n",
       "    <tr>\n",
       "      <th>min</th>\n",
       "      <td>1.000000</td>\n",
       "    </tr>\n",
       "    <tr>\n",
       "      <th>25%</th>\n",
       "      <td>12366.500000</td>\n",
       "    </tr>\n",
       "    <tr>\n",
       "      <th>50%</th>\n",
       "      <td>24731.000000</td>\n",
       "    </tr>\n",
       "    <tr>\n",
       "      <th>75%</th>\n",
       "      <td>37095.500000</td>\n",
       "    </tr>\n",
       "    <tr>\n",
       "      <th>max</th>\n",
       "      <td>49460.000000</td>\n",
       "    </tr>\n",
       "  </tbody>\n",
       "</table>\n",
       "</div>"
      ],
      "text/plain": [
       "                 id\n",
       "count  49459.000000\n",
       "mean   24730.960917\n",
       "std    14277.792868\n",
       "min        1.000000\n",
       "25%    12366.500000\n",
       "50%    24731.000000\n",
       "75%    37095.500000\n",
       "max    49460.000000"
      ]
     },
     "execution_count": 20,
     "metadata": {},
     "output_type": "execute_result"
    }
   ],
   "source": [
    "# Carregar a base de dados para treino\n",
    "df = pd.read_csv(\"../../../dados/imdb-reviews-pt-br.csv\")\n",
    "df.describe()"
   ]
  },
  {
   "cell_type": "markdown",
   "id": "070a3dd6",
   "metadata": {},
   "source": [
    "## Preparo do data set"
   ]
  },
  {
   "cell_type": "code",
   "execution_count": 21,
   "id": "b07c18c3",
   "metadata": {},
   "outputs": [],
   "source": [
    "# Remover colunas inúteis\n",
    "df.drop(\n",
    "    columns = [\"text_en\"],\n",
    "    inplace = True\n",
    ")"
   ]
  },
  {
   "cell_type": "code",
   "execution_count": 22,
   "id": "473ed9fe",
   "metadata": {},
   "outputs": [],
   "source": [
    "# Remover linhas com conteudo N/A\n",
    "df.dropna(inplace = True)"
   ]
  },
  {
   "cell_type": "markdown",
   "id": "4ab3fcdd",
   "metadata": {},
   "source": [
    "### Criar a coluna numerica para representar o 'pos' e 'neg'"
   ]
  },
  {
   "cell_type": "code",
   "execution_count": 23,
   "id": "c8a73ac4",
   "metadata": {
    "scrolled": true
   },
   "outputs": [],
   "source": [
    "df = df.assign(sentiment_value = [1 if i == 'pos' else 0  for i in df[\"sentiment\"]])"
   ]
  },
  {
   "cell_type": "code",
   "execution_count": 24,
   "id": "4fd6e146",
   "metadata": {},
   "outputs": [
    {
     "data": {
      "text/html": [
       "<div>\n",
       "<style scoped>\n",
       "    .dataframe tbody tr th:only-of-type {\n",
       "        vertical-align: middle;\n",
       "    }\n",
       "\n",
       "    .dataframe tbody tr th {\n",
       "        vertical-align: top;\n",
       "    }\n",
       "\n",
       "    .dataframe thead th {\n",
       "        text-align: right;\n",
       "    }\n",
       "</style>\n",
       "<table border=\"1\" class=\"dataframe\">\n",
       "  <thead>\n",
       "    <tr style=\"text-align: right;\">\n",
       "      <th></th>\n",
       "      <th>id</th>\n",
       "      <th>text_pt</th>\n",
       "      <th>sentiment</th>\n",
       "      <th>sentiment_value</th>\n",
       "    </tr>\n",
       "  </thead>\n",
       "  <tbody>\n",
       "    <tr>\n",
       "      <th>0</th>\n",
       "      <td>1</td>\n",
       "      <td>Mais uma vez, o Sr. Costner arrumou um filme p...</td>\n",
       "      <td>neg</td>\n",
       "      <td>0</td>\n",
       "    </tr>\n",
       "    <tr>\n",
       "      <th>1</th>\n",
       "      <td>2</td>\n",
       "      <td>Este é um exemplo do motivo pelo qual a maiori...</td>\n",
       "      <td>neg</td>\n",
       "      <td>0</td>\n",
       "    </tr>\n",
       "    <tr>\n",
       "      <th>2</th>\n",
       "      <td>3</td>\n",
       "      <td>Primeiro de tudo eu odeio esses raps imbecis, ...</td>\n",
       "      <td>neg</td>\n",
       "      <td>0</td>\n",
       "    </tr>\n",
       "    <tr>\n",
       "      <th>3</th>\n",
       "      <td>4</td>\n",
       "      <td>Nem mesmo os Beatles puderam escrever músicas ...</td>\n",
       "      <td>neg</td>\n",
       "      <td>0</td>\n",
       "    </tr>\n",
       "    <tr>\n",
       "      <th>4</th>\n",
       "      <td>5</td>\n",
       "      <td>Filmes de fotos de latão não é uma palavra apr...</td>\n",
       "      <td>neg</td>\n",
       "      <td>0</td>\n",
       "    </tr>\n",
       "    <tr>\n",
       "      <th>...</th>\n",
       "      <td>...</td>\n",
       "      <td>...</td>\n",
       "      <td>...</td>\n",
       "      <td>...</td>\n",
       "    </tr>\n",
       "    <tr>\n",
       "      <th>49454</th>\n",
       "      <td>49456</td>\n",
       "      <td>Como a média de votos era muito baixa, e o fat...</td>\n",
       "      <td>pos</td>\n",
       "      <td>1</td>\n",
       "    </tr>\n",
       "    <tr>\n",
       "      <th>49455</th>\n",
       "      <td>49457</td>\n",
       "      <td>O enredo teve algumas reviravoltas infelizes e...</td>\n",
       "      <td>pos</td>\n",
       "      <td>1</td>\n",
       "    </tr>\n",
       "    <tr>\n",
       "      <th>49456</th>\n",
       "      <td>49458</td>\n",
       "      <td>Estou espantado com a forma como este filme e ...</td>\n",
       "      <td>pos</td>\n",
       "      <td>1</td>\n",
       "    </tr>\n",
       "    <tr>\n",
       "      <th>49457</th>\n",
       "      <td>49459</td>\n",
       "      <td>A Christmas Together realmente veio antes do m...</td>\n",
       "      <td>pos</td>\n",
       "      <td>1</td>\n",
       "    </tr>\n",
       "    <tr>\n",
       "      <th>49458</th>\n",
       "      <td>49460</td>\n",
       "      <td>O drama romântico da classe trabalhadora do di...</td>\n",
       "      <td>pos</td>\n",
       "      <td>1</td>\n",
       "    </tr>\n",
       "  </tbody>\n",
       "</table>\n",
       "<p>49459 rows × 4 columns</p>\n",
       "</div>"
      ],
      "text/plain": [
       "          id                                            text_pt sentiment  \\\n",
       "0          1  Mais uma vez, o Sr. Costner arrumou um filme p...       neg   \n",
       "1          2  Este é um exemplo do motivo pelo qual a maiori...       neg   \n",
       "2          3  Primeiro de tudo eu odeio esses raps imbecis, ...       neg   \n",
       "3          4  Nem mesmo os Beatles puderam escrever músicas ...       neg   \n",
       "4          5  Filmes de fotos de latão não é uma palavra apr...       neg   \n",
       "...      ...                                                ...       ...   \n",
       "49454  49456  Como a média de votos era muito baixa, e o fat...       pos   \n",
       "49455  49457  O enredo teve algumas reviravoltas infelizes e...       pos   \n",
       "49456  49458  Estou espantado com a forma como este filme e ...       pos   \n",
       "49457  49459  A Christmas Together realmente veio antes do m...       pos   \n",
       "49458  49460  O drama romântico da classe trabalhadora do di...       pos   \n",
       "\n",
       "       sentiment_value  \n",
       "0                    0  \n",
       "1                    0  \n",
       "2                    0  \n",
       "3                    0  \n",
       "4                    0  \n",
       "...                ...  \n",
       "49454                1  \n",
       "49455                1  \n",
       "49456                1  \n",
       "49457                1  \n",
       "49458                1  \n",
       "\n",
       "[49459 rows x 4 columns]"
      ]
     },
     "execution_count": 24,
     "metadata": {},
     "output_type": "execute_result"
    }
   ],
   "source": [
    "df"
   ]
  },
  {
   "cell_type": "markdown",
   "id": "2d5afda3",
   "metadata": {},
   "source": [
    "### Preparo do texto text_pt"
   ]
  },
  {
   "cell_type": "markdown",
   "id": "422586a5",
   "metadata": {},
   "source": [
    "#### Funções para o tratamento de texto"
   ]
  },
  {
   "cell_type": "code",
   "execution_count": 25,
   "id": "9a59745a",
   "metadata": {},
   "outputs": [],
   "source": [
    "# Função para preparar as palavras do texto\n",
    "def preparar_texto( texto ):\n",
    "    # Converter em minusculo\n",
    "    texto_limpo = texto.lower()\n",
    "    # Remover pontuação e caracteres especiais\n",
    "    translator = str.maketrans('\\n\\r\\t', '   ', string.punctuation)\n",
    "    texto_limpo = texto_limpo.translate(translator)\n",
    "    # Remover os acentos\n",
    "    texto_limpo = unidecode(texto_limpo)\n",
    "    return texto_limpo"
   ]
  },
  {
   "cell_type": "code",
   "execution_count": 26,
   "id": "5de21a24",
   "metadata": {},
   "outputs": [],
   "source": [
    "# Remover Stopwords\n",
    "stopwords = nltk.corpus.stopwords.words('portuguese')\n",
    "def remove_stopwords( texto ):\n",
    "    tokens = []\n",
    "    for token in nltk.tokenize.word_tokenize(texto, language='portuguese'):\n",
    "        if token not in stopwords:\n",
    "            tokens.append(token)\n",
    "    return \" \".join(tokens)"
   ]
  },
  {
   "cell_type": "code",
   "execution_count": 27,
   "id": "2617eb85",
   "metadata": {},
   "outputs": [
    {
     "data": {
      "text/plain": [
       "207"
      ]
     },
     "execution_count": 27,
     "metadata": {},
     "output_type": "execute_result"
    }
   ],
   "source": [
    "len(stopwords)"
   ]
  },
  {
   "cell_type": "code",
   "execution_count": 28,
   "id": "2ca41632",
   "metadata": {},
   "outputs": [],
   "source": [
    "# Lematização\n",
    "def lematizar( texto ): \n",
    "    doc = nlp(texto)\n",
    "    doc_lemma = [token.lemma_ for token in doc if token.pos_ == 'NOUN']\n",
    "    return \" \".join(doc_lemma)"
   ]
  },
  {
   "cell_type": "code",
   "execution_count": 29,
   "id": "247869a3",
   "metadata": {},
   "outputs": [],
   "source": [
    "# Stemming\n",
    "stemmer = nltk.RSLPStemmer()\n",
    "def stemmer_text( texto ):\n",
    "    if isinstance(texto, str):\n",
    "        lista_palavras = texto.split(\" \")\n",
    "        nova_lista = []\n",
    "        for palavra in lista_palavras:\n",
    "            stemmed = stemmer.stem( palavra )\n",
    "            nova_lista.append(stemmed)\n",
    "        return \" \".join(nova_lista)\n",
    "    else:\n",
    "        return texto"
   ]
  },
  {
   "cell_type": "code",
   "execution_count": 30,
   "id": "ae13befd",
   "metadata": {},
   "outputs": [],
   "source": [
    "def transformar_texto( texto ):\n",
    "    texto_limpo = preparar_texto( texto )\n",
    "    return texto_limpo\n",
    "    # texto_sem_stopwords = remove_stopwords(texto_limpo)\n",
    "    # texto_stemmed = stemmer_text(texto_sem_stopwords)\n",
    "    # return texto_stemmed"
   ]
  },
  {
   "cell_type": "markdown",
   "id": "679213c6",
   "metadata": {},
   "source": [
    "#### Prepara o texto e coloca em uma variavel separada"
   ]
  },
  {
   "cell_type": "code",
   "execution_count": 31,
   "id": "2071f1ae",
   "metadata": {},
   "outputs": [
    {
     "name": "stdout",
     "output_type": "stream",
     "text": [
      "Analisando linha: 1000\n",
      "Analisando linha: 2000\n",
      "Analisando linha: 3000\n",
      "Analisando linha: 4000\n",
      "Analisando linha: 5000\n",
      "Analisando linha: 6000\n",
      "Analisando linha: 7000\n",
      "Analisando linha: 8000\n",
      "Analisando linha: 9000\n",
      "Analisando linha: 10000\n",
      "Analisando linha: 11000\n",
      "Analisando linha: 12000\n",
      "Analisando linha: 13000\n",
      "Analisando linha: 14000\n",
      "Analisando linha: 15000\n",
      "Analisando linha: 16000\n",
      "Analisando linha: 17000\n",
      "Analisando linha: 18000\n",
      "Analisando linha: 19000\n",
      "Analisando linha: 20000\n",
      "Analisando linha: 21000\n",
      "Analisando linha: 22000\n",
      "Analisando linha: 23000\n",
      "Analisando linha: 24000\n",
      "Analisando linha: 25000\n",
      "Analisando linha: 26000\n",
      "Analisando linha: 27000\n",
      "Analisando linha: 28000\n",
      "Analisando linha: 29000\n",
      "Analisando linha: 30000\n",
      "Analisando linha: 31000\n",
      "Analisando linha: 32000\n",
      "Analisando linha: 33000\n",
      "Analisando linha: 34000\n",
      "Analisando linha: 35000\n",
      "Analisando linha: 36000\n",
      "Analisando linha: 37000\n",
      "Analisando linha: 38000\n",
      "Analisando linha: 39000\n",
      "Analisando linha: 40000\n",
      "Analisando linha: 41000\n",
      "Analisando linha: 42000\n",
      "Analisando linha: 43000\n",
      "Analisando linha: 44000\n",
      "Analisando linha: 45000\n",
      "Analisando linha: 46000\n",
      "Analisando linha: 47000\n",
      "Analisando linha: 48000\n",
      "Analisando linha: 49000\n"
     ]
    }
   ],
   "source": [
    "count = 0\n",
    "def invocar_transformar_texto( texto ):\n",
    "    global count\n",
    "    count += 1\n",
    "    if count % 1000 == 0:\n",
    "        print(f\"Analisando linha: {count}\")\n",
    "    return transformar_texto( texto )\n",
    "\n",
    "texto_preparado = df[\"text_pt\"].apply(invocar_transformar_texto)"
   ]
  },
  {
   "cell_type": "markdown",
   "id": "eee8cf95",
   "metadata": {},
   "source": [
    "### Criar o dicionario e o Bag of Words"
   ]
  },
  {
   "cell_type": "code",
   "execution_count": 32,
   "id": "38d01271",
   "metadata": {},
   "outputs": [],
   "source": [
    "# # Criar o bag_of_words com base no CountVectorizer\n",
    "# vetorizador = CountVectorizer(max_features=100, lowercase=False)\n",
    "# bag_of_words = vetorizador.fit_transform(texto_preparado)\n",
    "# bag_of_words.shape    # Verifica o formato da Matriz"
   ]
  },
  {
   "cell_type": "code",
   "execution_count": 33,
   "id": "251e2d62",
   "metadata": {},
   "outputs": [],
   "source": [
    "# # Criar o bag_of_words com base no TfidfVectorizer usando NGram 3\n",
    "# vetorizador = TfidfVectorizer(lowercase=False, max_features=100, ngram_range=(1, 3))\n",
    "# bag_of_words = vetorizador.fit_transform(texto_preparado)\n",
    "# bag_of_words.shape"
   ]
  },
  {
   "cell_type": "code",
   "execution_count": 34,
   "id": "dd943485",
   "metadata": {
    "scrolled": true
   },
   "outputs": [
    {
     "data": {
      "text/plain": [
       "(49459, 2000)"
      ]
     },
     "execution_count": 34,
     "metadata": {},
     "output_type": "execute_result"
    }
   ],
   "source": [
    "# Criar o bag_of_words com base no TfidfVectorizer\n",
    "vetorizador = TfidfVectorizer(lowercase=False, max_features=2000)\n",
    "bag_of_words = vetorizador.fit_transform(texto_preparado)\n",
    "bag_of_words.shape"
   ]
  },
  {
   "cell_type": "code",
   "execution_count": 35,
   "id": "87f096d2",
   "metadata": {},
   "outputs": [],
   "source": [
    "dicionario = vetorizador.get_feature_names_out()"
   ]
  },
  {
   "cell_type": "code",
   "execution_count": 36,
   "id": "5de05fbc",
   "metadata": {},
   "outputs": [],
   "source": [
    "bow = pd.DataFrame.sparse.from_spmatrix(bag_of_words, columns=dicionario)"
   ]
  },
  {
   "cell_type": "code",
   "execution_count": 37,
   "id": "8c66505d",
   "metadata": {},
   "outputs": [],
   "source": [
    "train, test, train_class, test_class = train_test_split(bow, \n",
    "                                                        df[\"sentiment_value\"], \n",
    "                                                        random_state = 100)"
   ]
  },
  {
   "cell_type": "code",
   "execution_count": 48,
   "id": "4845f82f",
   "metadata": {},
   "outputs": [],
   "source": [
    "reg_logistica = LogisticRegression()\n",
    "reg_logistica.fit(train, train_class)\n",
    "acuracia = reg_logistica.score(test, test_class)"
   ]
  },
  {
   "cell_type": "code",
   "execution_count": 49,
   "id": "c77b0860",
   "metadata": {
    "scrolled": true
   },
   "outputs": [
    {
     "data": {
      "text/plain": [
       "0.874646178730287"
      ]
     },
     "execution_count": 49,
     "metadata": {},
     "output_type": "execute_result"
    }
   ],
   "source": [
    "acuracia"
   ]
  },
  {
   "cell_type": "markdown",
   "id": "118b9a05",
   "metadata": {},
   "source": [
    "# Acuracias\n",
    "#### Sem tratamento do texto ==> 0.7013344116457744\n",
    "#### Colocando as palavras em minusculo ==> 0.7107966033158107\n",
    "#### Remover os caracteres especiais ==> 0.7273756570966438\n",
    "#### Remover os acentos ==> 0.7272139102304893\n",
    "#### Remover as stopwords ==> 0.7199353012535382\n",
    "#### Remover stopwords e aplicar raiz do texto (stemm) ==> 0.7532551556813587\n",
    "#### Aplicando o TF_ID ao inves da contagem de palavras ==> 0.7553578649413668\n",
    "#### Aplicando NGRAM (1,3) ==> 0.7553578649413668\n",
    "#### Aplicando TF_ID e MAX_Features = 200 ==> 0.7955519611807521\n",
    "#### Aplicando TF_ID e MAX_Features = 300 ==> 0.8188435099069955 \n",
    "#### Aplicando TF_ID e MAX_Features = 500 ==> 0.8418924383340073\n",
    "#### Aplicando TF_ID e MAX_Features = 1000 ==> 0.8639708855640922\n",
    "#### Aplicando TF_ID e MAX_Features = 2000 ==> 0.8760210270926001\n"
   ]
  },
  {
   "cell_type": "code",
   "execution_count": 41,
   "id": "82b47cf5",
   "metadata": {},
   "outputs": [],
   "source": [
    "# Tratar as respostas\n",
    "respostas_preparadas = np.array([invocar_transformar_texto(r) for r in df_respostas['q1']])"
   ]
  },
  {
   "cell_type": "code",
   "execution_count": 43,
   "id": "42a75b8f",
   "metadata": {},
   "outputs": [
    {
     "data": {
      "text/plain": [
       "(13, 2000)"
      ]
     },
     "execution_count": 43,
     "metadata": {},
     "output_type": "execute_result"
    }
   ],
   "source": [
    "vetorizador = TfidfVectorizer(lowercase=False, max_features=2000, vocabulary=dicionario)\n",
    "bag_of_words_respostas = vetorizador.fit_transform(respostas_preparadas)\n",
    "bag_of_words_respostas.shape"
   ]
  },
  {
   "cell_type": "code",
   "execution_count": 62,
   "id": "c3cdbf8a",
   "metadata": {},
   "outputs": [
    {
     "data": {
      "text/plain": [
       "array([[0.06796662, 0.93203338],\n",
       "       [0.08197313, 0.91802687],\n",
       "       [0.15435928, 0.84564072],\n",
       "       [0.20621124, 0.79378876],\n",
       "       [0.09202709, 0.90797291],\n",
       "       [0.28476159, 0.71523841],\n",
       "       [0.25508917, 0.74491083],\n",
       "       [0.16008031, 0.83991969],\n",
       "       [0.27746938, 0.72253062],\n",
       "       [0.0972645 , 0.9027355 ],\n",
       "       [0.16169132, 0.83830868],\n",
       "       [0.14678505, 0.85321495],\n",
       "       [0.07616359, 0.92383641]])"
      ]
     },
     "execution_count": 62,
     "metadata": {},
     "output_type": "execute_result"
    }
   ],
   "source": [
    "reg_logistica.predict_proba(bag_of_words_respostas)"
   ]
  },
  {
   "cell_type": "code",
   "execution_count": 61,
   "id": "c9a20084",
   "metadata": {
    "scrolled": true
   },
   "outputs": [
    {
     "data": {
      "text/plain": [
       "array([0.93203338, 0.91802687, 0.84564072, 0.79378876, 0.90797291,\n",
       "       0.71523841, 0.74491083, 0.83991969, 0.72253062, 0.9027355 ,\n",
       "       0.83830868, 0.85321495, 0.92383641])"
      ]
     },
     "execution_count": 61,
     "metadata": {},
     "output_type": "execute_result"
    }
   ],
   "source": [
    "np.max(reg_logistica.predict_proba(bag_of_words_respostas), axis=1)"
   ]
  },
  {
   "cell_type": "code",
   "execution_count": 60,
   "id": "06e66cbe",
   "metadata": {},
   "outputs": [
    {
     "data": {
      "text/plain": [
       "[<matplotlib.lines.Line2D at 0x1b0d7132740>]"
      ]
     },
     "execution_count": 60,
     "metadata": {},
     "output_type": "execute_result"
    },
    {
     "data": {
      "image/png": "[encoded data removed]",
      "text/plain": [
       "<Figure size 640x480 with 1 Axes>"
      ]
     },
     "metadata": {},
     "output_type": "display_data"
    }
   ],
   "source": [
    "plt.plot(reg_logistica.predict_proba(bag_of_words_respostas)[:, 1])"
   ]
  },
  {
   "cell_type": "code",
   "execution_count": 77,
   "id": "1562d2d0",
   "metadata": {},
   "outputs": [],
   "source": [
    "texto = \"tive a experiência mais horrível da minha excelente vida\""
   ]
  },
  {
   "cell_type": "code",
   "execution_count": 78,
   "id": "57551aac",
   "metadata": {},
   "outputs": [],
   "source": [
    "bow = vetorizador.fit_transform([texto])"
   ]
  },
  {
   "cell_type": "code",
   "execution_count": 79,
   "id": "49fbee42",
   "metadata": {},
   "outputs": [
    {
     "data": {
      "text/plain": [
       "array([1], dtype=int64)"
      ]
     },
     "execution_count": 79,
     "metadata": {},
     "output_type": "execute_result"
    }
   ],
   "source": [
    "reg_logistica.predict(bow)"
   ]
  },
  {
   "cell_type": "code",
   "execution_count": null,
   "id": "44886449",
   "metadata": {},
   "outputs": [],
   "source": [
    "# i = 0\n",
    "# print(\"Linhas size: \", len(linhas))\n",
    "# while i < len(linhas):\n",
    "#     linha = linhas[i].lower()\n",
    "#     linha_tokens = nltk.tokenize.word_tokenize(linha, language='portuguese')\n",
    "#     linha_tokens_limpos = remove_stop_words(linha_tokens)\n",
    "#     i += 1\n",
    "#     if linha_tokens_limpos is None or len(linha_tokens_limpos) < 3:\n",
    "#         continue\n",
    "#     linha_ngrams = ngrams(linha_tokens_limpos, 3)\n",
    "#     linha_points = 0\n",
    "#     for pergunta in perguntas:\n",
    "#         pergunta_tokens = nltk.tokenize.word_tokenize(pergunta, language='portuguese')\n",
    "#         pergunta_no_stopwords = remove_stop_words(pergunta_tokens)\n",
    "#         for ngram_tuple in linha_ngrams: \n",
    "#             ngram_tupla_texto = \" \".join(ngram_tuple)\n",
    "#             if ngram_tupla_texto in pergunta.lower():\n",
    "#                 linha_points += 1\n",
    "# #                 print(\"Pontos: \", linha_points)\n",
    "# #                 print(\"Pergunta: \", pergunta)\n",
    "# #                 print(\"Linha: \", linha)\n",
    "# #                 print(\"NGram_Tupla: \", ngram_tupla_texto)\n",
    "#         if linha_points > 3: \n",
    "#             print(\"Linha: \", linha)\n",
    "#             print(\"Corresponde a pergunta: \", pergunta.lower())\n",
    "\n",
    "    "
   ]
  }
 ],
 "metadata": {
  "kernelspec": {
   "display_name": "Python 3 (ipykernel)",
   "language": "python",
   "name": "python3"
  },
  "language_info": {
   "codemirror_mode": {
    "name": "ipython",
    "version": 3
   },
   "file_extension": ".py",
   "mimetype": "text/x-python",
   "name": "python",
   "nbconvert_exporter": "python",
   "pygments_lexer": "ipython3",
   "version": "3.10.9"
  }
 },
 "nbformat": 4,
 "nbformat_minor": 5
}
