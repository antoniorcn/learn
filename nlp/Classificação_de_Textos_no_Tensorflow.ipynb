{
 "cells": [
  {
   "cell_type": "code",
   "execution_count": 1,
   "metadata": {
    "colab": {
     "base_uri": "https://localhost:8080/"
    },
    "id": "mUdFE7pWdVZt",
    "outputId": "df508b61-da1a-49a8-93d1-558b21d25f94"
   },
   "outputs": [],
   "source": [
    "#!pip install unidecode"
   ]
  },
  {
   "cell_type": "code",
   "execution_count": 2,
   "metadata": {
    "id": "4OxyvwibUbT8"
   },
   "outputs": [],
   "source": [
    "import tensorflow as tf"
   ]
  },
  {
   "cell_type": "code",
   "execution_count": 3,
   "metadata": {
    "id": "vrgnoOaMUfSe"
   },
   "outputs": [],
   "source": [
    "import numpy as np"
   ]
  },
  {
   "cell_type": "code",
   "execution_count": 4,
   "metadata": {
    "id": "g02SN5R5UihG"
   },
   "outputs": [],
   "source": [
    "from tensorflow import keras"
   ]
  },
  {
   "cell_type": "code",
   "execution_count": 5,
   "metadata": {
    "id": "L0JCfJ0QZXvj"
   },
   "outputs": [],
   "source": [
    "import pandas as pd"
   ]
  },
  {
   "cell_type": "code",
   "execution_count": 6,
   "metadata": {
    "id": "BUVhKkiedUEN"
   },
   "outputs": [],
   "source": [
    "import string"
   ]
  },
  {
   "cell_type": "code",
   "execution_count": 7,
   "metadata": {
    "id": "6Bw3h94KdRRN"
   },
   "outputs": [],
   "source": [
    "from unidecode import unidecode"
   ]
  },
  {
   "cell_type": "code",
   "execution_count": 8,
   "metadata": {
    "id": "7lrjrnbjeBHL"
   },
   "outputs": [],
   "source": [
    "import nltk"
   ]
  },
  {
   "cell_type": "code",
   "execution_count": 9,
   "metadata": {
    "id": "qSZHE-CCeOv7"
   },
   "outputs": [],
   "source": [
    "from nltk.util import ngrams"
   ]
  },
  {
   "cell_type": "code",
   "execution_count": 10,
   "metadata": {
    "id": "RNPjbAX4ektH"
   },
   "outputs": [],
   "source": [
    "from nltk.corpus import stopwords"
   ]
  },
  {
   "cell_type": "code",
   "execution_count": 11,
   "metadata": {},
   "outputs": [],
   "source": [
    "from sklearn.model_selection import train_test_split"
   ]
  },
  {
   "cell_type": "code",
   "execution_count": 12,
   "metadata": {
    "colab": {
     "base_uri": "https://localhost:8080/"
    },
    "id": "Tj8D9ieqexG6",
    "outputId": "67236ad6-6bb4-4e57-e8c1-02324ae90d93"
   },
   "outputs": [
    {
     "name": "stderr",
     "output_type": "stream",
     "text": [
      "[nltk_data] Downloading package stopwords to\n",
      "[nltk_data]     C:\\Users\\anton\\AppData\\Roaming\\nltk_data...\n",
      "[nltk_data]   Package stopwords is already up-to-date!\n"
     ]
    },
    {
     "data": {
      "text/plain": [
       "True"
      ]
     },
     "execution_count": 12,
     "metadata": {},
     "output_type": "execute_result"
    }
   ],
   "source": [
    "nltk.download('stopwords')"
   ]
  },
  {
   "cell_type": "code",
   "execution_count": 13,
   "metadata": {
    "colab": {
     "base_uri": "https://localhost:8080/"
    },
    "id": "yu0DPDrPe3LO",
    "outputId": "e7e4b90b-27a9-4349-e84b-7f73da9e2167"
   },
   "outputs": [
    {
     "name": "stderr",
     "output_type": "stream",
     "text": [
      "[nltk_data] Downloading package rslp to\n",
      "[nltk_data]     C:\\Users\\anton\\AppData\\Roaming\\nltk_data...\n",
      "[nltk_data]   Package rslp is already up-to-date!\n"
     ]
    },
    {
     "data": {
      "text/plain": [
       "True"
      ]
     },
     "execution_count": 13,
     "metadata": {},
     "output_type": "execute_result"
    }
   ],
   "source": [
    "nltk.download('rslp')"
   ]
  },
  {
   "cell_type": "code",
   "execution_count": 14,
   "metadata": {
    "colab": {
     "base_uri": "https://localhost:8080/"
    },
    "id": "4GRBfb4WfCMI",
    "outputId": "30e6302c-67c4-4984-d168-1b81e16043a4"
   },
   "outputs": [
    {
     "name": "stderr",
     "output_type": "stream",
     "text": [
      "[nltk_data] Downloading package punkt to\n",
      "[nltk_data]     C:\\Users\\anton\\AppData\\Roaming\\nltk_data...\n",
      "[nltk_data]   Package punkt is already up-to-date!\n"
     ]
    },
    {
     "data": {
      "text/plain": [
       "True"
      ]
     },
     "execution_count": 14,
     "metadata": {},
     "output_type": "execute_result"
    }
   ],
   "source": [
    "nltk.download('punkt')"
   ]
  },
  {
   "cell_type": "code",
   "execution_count": 15,
   "metadata": {
    "id": "v-dSfaxjZZmi"
   },
   "outputs": [],
   "source": [
    "filmes = pd.read_csv(\"../../dados/imdb-reviews-pt-br.csv\", encoding=\"utf-8\")"
   ]
  },
  {
   "cell_type": "code",
   "execution_count": 16,
   "metadata": {},
   "outputs": [
    {
     "data": {
      "text/html": [
       "<div>\n",
       "<style scoped>\n",
       "    .dataframe tbody tr th:only-of-type {\n",
       "        vertical-align: middle;\n",
       "    }\n",
       "\n",
       "    .dataframe tbody tr th {\n",
       "        vertical-align: top;\n",
       "    }\n",
       "\n",
       "    .dataframe thead th {\n",
       "        text-align: right;\n",
       "    }\n",
       "</style>\n",
       "<table border=\"1\" class=\"dataframe\">\n",
       "  <thead>\n",
       "    <tr style=\"text-align: right;\">\n",
       "      <th></th>\n",
       "      <th>id</th>\n",
       "      <th>text_en</th>\n",
       "      <th>text_pt</th>\n",
       "      <th>sentiment</th>\n",
       "    </tr>\n",
       "  </thead>\n",
       "  <tbody>\n",
       "    <tr>\n",
       "      <th>0</th>\n",
       "      <td>1</td>\n",
       "      <td>Once again Mr. Costner has dragged out a movie...</td>\n",
       "      <td>Mais uma vez, o Sr. Costner arrumou um filme p...</td>\n",
       "      <td>neg</td>\n",
       "    </tr>\n",
       "    <tr>\n",
       "      <th>1</th>\n",
       "      <td>2</td>\n",
       "      <td>This is an example of why the majority of acti...</td>\n",
       "      <td>Este é um exemplo do motivo pelo qual a maiori...</td>\n",
       "      <td>neg</td>\n",
       "    </tr>\n",
       "    <tr>\n",
       "      <th>2</th>\n",
       "      <td>3</td>\n",
       "      <td>First of all I hate those moronic rappers, who...</td>\n",
       "      <td>Primeiro de tudo eu odeio esses raps imbecis, ...</td>\n",
       "      <td>neg</td>\n",
       "    </tr>\n",
       "    <tr>\n",
       "      <th>3</th>\n",
       "      <td>4</td>\n",
       "      <td>Not even the Beatles could write songs everyon...</td>\n",
       "      <td>Nem mesmo os Beatles puderam escrever músicas ...</td>\n",
       "      <td>neg</td>\n",
       "    </tr>\n",
       "    <tr>\n",
       "      <th>4</th>\n",
       "      <td>5</td>\n",
       "      <td>Brass pictures movies is not a fitting word fo...</td>\n",
       "      <td>Filmes de fotos de latão não é uma palavra apr...</td>\n",
       "      <td>neg</td>\n",
       "    </tr>\n",
       "  </tbody>\n",
       "</table>\n",
       "</div>"
      ],
      "text/plain": [
       "   id                                            text_en  \\\n",
       "0   1  Once again Mr. Costner has dragged out a movie...   \n",
       "1   2  This is an example of why the majority of acti...   \n",
       "2   3  First of all I hate those moronic rappers, who...   \n",
       "3   4  Not even the Beatles could write songs everyon...   \n",
       "4   5  Brass pictures movies is not a fitting word fo...   \n",
       "\n",
       "                                             text_pt sentiment  \n",
       "0  Mais uma vez, o Sr. Costner arrumou um filme p...       neg  \n",
       "1  Este é um exemplo do motivo pelo qual a maiori...       neg  \n",
       "2  Primeiro de tudo eu odeio esses raps imbecis, ...       neg  \n",
       "3  Nem mesmo os Beatles puderam escrever músicas ...       neg  \n",
       "4  Filmes de fotos de latão não é uma palavra apr...       neg  "
      ]
     },
     "execution_count": 16,
     "metadata": {},
     "output_type": "execute_result"
    }
   ],
   "source": [
    "filmes.head()"
   ]
  },
  {
   "cell_type": "code",
   "execution_count": 17,
   "metadata": {
    "id": "Wv0-D-Ktc5V9"
   },
   "outputs": [],
   "source": [
    "# Remover colunas inúteis\n",
    "filmes.drop(\n",
    "    columns = [\"text_en\"],\n",
    "    inplace = True\n",
    ")"
   ]
  },
  {
   "cell_type": "code",
   "execution_count": 18,
   "metadata": {
    "id": "F5H9mxOyc7hT"
   },
   "outputs": [],
   "source": [
    "# Remover linhas com conteudo N/A\n",
    "filmes.dropna(inplace = True)"
   ]
  },
  {
   "cell_type": "code",
   "execution_count": 19,
   "metadata": {
    "id": "2-mHWahedCWT"
   },
   "outputs": [],
   "source": [
    "filmes = filmes.assign(sentiment_value = [1 if i == 'pos' else 0  for i in filmes[\"sentiment\"]])"
   ]
  },
  {
   "cell_type": "code",
   "execution_count": 20,
   "metadata": {
    "id": "dYphznKWdNRu"
   },
   "outputs": [],
   "source": [
    "# Função para preparar as palavras do texto\n",
    "def preparar_texto( texto ):\n",
    "    # Converter em minusculo\n",
    "    texto_limpo = texto.lower()\n",
    "    # Remover pontuação e caracteres especiais\n",
    "    translator = str.maketrans('\\n\\r\\t', '   ', string.punctuation)\n",
    "    texto_limpo = texto_limpo.translate(translator)\n",
    "    # Remover os acentos\n",
    "    texto_limpo = unidecode(texto_limpo)\n",
    "    return texto_limpo"
   ]
  },
  {
   "cell_type": "code",
   "execution_count": 21,
   "metadata": {
    "id": "2NxIoHFJdNFc"
   },
   "outputs": [],
   "source": [
    "# Remover Stopwords\n",
    "stop_words = stopwords.words('portuguese')\n",
    "def remove_stopwords( texto ):\n",
    "    tokens = []\n",
    "    for token in nltk.tokenize.word_tokenize(texto, language='portuguese'):\n",
    "        if token not in stop_words:\n",
    "            tokens.append(token)\n",
    "    return \" \".join(tokens)"
   ]
  },
  {
   "cell_type": "code",
   "execution_count": 22,
   "metadata": {
    "id": "nyMTSNMTdM4L"
   },
   "outputs": [],
   "source": [
    "# Stemming\n",
    "stemmer = nltk.RSLPStemmer()\n",
    "def stemmer_text( texto ):\n",
    "    if isinstance(texto, str):\n",
    "        lista_palavras = texto.split(\" \")\n",
    "        nova_lista = []\n",
    "        for palavra in lista_palavras:\n",
    "            stemmed = stemmer.stem( palavra )\n",
    "            nova_lista.append(stemmed)\n",
    "        return \" \".join(nova_lista)\n",
    "    else:\n",
    "        return texto"
   ]
  },
  {
   "cell_type": "code",
   "execution_count": 23,
   "metadata": {
    "id": "2Hj-rTc_dMmF"
   },
   "outputs": [],
   "source": [
    "def transformar_texto( texto ):\n",
    "    texto_limpo = preparar_texto( texto )\n",
    "    # texto_sem_stopwords = remove_stopwords(texto_limpo)\n",
    "    # texto_stemmed = stemmer_text(texto_sem_stopwords)\n",
    "    # return texto_stemmed\n",
    "    return texto_limpo"
   ]
  },
  {
   "cell_type": "code",
   "execution_count": 24,
   "metadata": {
    "colab": {
     "base_uri": "https://localhost:8080/"
    },
    "id": "llu1bHbOduNA",
    "outputId": "8fd7aef8-9444-42f7-ec82-0d77ae8ffb74"
   },
   "outputs": [
    {
     "name": "stdout",
     "output_type": "stream",
     "text": [
      "Analisando linha: 1000 / 49459\n",
      "Analisando linha: 2000 / 49459\n",
      "Analisando linha: 3000 / 49459\n",
      "Analisando linha: 4000 / 49459\n",
      "Analisando linha: 5000 / 49459\n",
      "Analisando linha: 6000 / 49459\n",
      "Analisando linha: 7000 / 49459\n",
      "Analisando linha: 8000 / 49459\n",
      "Analisando linha: 9000 / 49459\n",
      "Analisando linha: 10000 / 49459\n",
      "Analisando linha: 11000 / 49459\n",
      "Analisando linha: 12000 / 49459\n",
      "Analisando linha: 13000 / 49459\n",
      "Analisando linha: 14000 / 49459\n",
      "Analisando linha: 15000 / 49459\n",
      "Analisando linha: 16000 / 49459\n",
      "Analisando linha: 17000 / 49459\n",
      "Analisando linha: 18000 / 49459\n",
      "Analisando linha: 19000 / 49459\n",
      "Analisando linha: 20000 / 49459\n",
      "Analisando linha: 21000 / 49459\n",
      "Analisando linha: 22000 / 49459\n",
      "Analisando linha: 23000 / 49459\n",
      "Analisando linha: 24000 / 49459\n",
      "Analisando linha: 25000 / 49459\n",
      "Analisando linha: 26000 / 49459\n",
      "Analisando linha: 27000 / 49459\n",
      "Analisando linha: 28000 / 49459\n",
      "Analisando linha: 29000 / 49459\n",
      "Analisando linha: 30000 / 49459\n",
      "Analisando linha: 31000 / 49459\n",
      "Analisando linha: 32000 / 49459\n",
      "Analisando linha: 33000 / 49459\n",
      "Analisando linha: 34000 / 49459\n",
      "Analisando linha: 35000 / 49459\n",
      "Analisando linha: 36000 / 49459\n",
      "Analisando linha: 37000 / 49459\n",
      "Analisando linha: 38000 / 49459\n",
      "Analisando linha: 39000 / 49459\n",
      "Analisando linha: 40000 / 49459\n",
      "Analisando linha: 41000 / 49459\n",
      "Analisando linha: 42000 / 49459\n",
      "Analisando linha: 43000 / 49459\n",
      "Analisando linha: 44000 / 49459\n",
      "Analisando linha: 45000 / 49459\n",
      "Analisando linha: 46000 / 49459\n",
      "Analisando linha: 47000 / 49459\n",
      "Analisando linha: 48000 / 49459\n",
      "Analisando linha: 49000 / 49459\n"
     ]
    }
   ],
   "source": [
    "count = 0\n",
    "def invocar_transformar_texto( texto ):\n",
    "    global count\n",
    "    count += 1\n",
    "    if count % 1000 == 0:\n",
    "        print(f\"Analisando linha: {count} / {filmes.shape[0]}\")\n",
    "    return transformar_texto( texto )\n",
    "\n",
    "texto_preparado = filmes[\"text_pt\"].apply(invocar_transformar_texto)"
   ]
  },
  {
   "cell_type": "code",
   "execution_count": 25,
   "metadata": {
    "id": "YiRmeXwZobsy"
   },
   "outputs": [],
   "source": [
    "def gerar_dicionario( column, dicionario_inicial = {}, initial_counter = 0 ):\n",
    "    new_column = []\n",
    "    word_count = initial_counter\n",
    "    for cell in column:\n",
    "        new_cell = []\n",
    "        for palavra in cell.split(\" \"):\n",
    "            if palavra not in dicionario_inicial:\n",
    "                dicionario_inicial[palavra] = word_count\n",
    "                word_count += 1\n",
    "            new_cell.append(dicionario_inicial[palavra])\n",
    "        new_column.append(new_cell)\n",
    "    return new_column, dicionario_inicial"
   ]
  },
  {
   "cell_type": "code",
   "execution_count": 26,
   "metadata": {
    "id": "mOTF3b5nVNUB"
   },
   "outputs": [],
   "source": [
    "# Um dicionário mapeando palavras em índices inteiros\n",
    "word_indices = {}\n",
    "word_indices[\"<PAD>\"] = 0\n",
    "word_indices[\"<START>\"] = 1\n",
    "word_indices[\"<UNK>\"] = 2  # unknown\n",
    "word_indices[\"<UNUSED>\"] = 3\n",
    "coluna_indices, dicionario = gerar_dicionario(texto_preparado, word_indices, initial_counter=4)"
   ]
  },
  {
   "cell_type": "code",
   "execution_count": 27,
   "metadata": {
    "id": "BzhuocdSp_aG"
   },
   "outputs": [],
   "source": [
    "# Os primeiros índices são reservados\n",
    "reverse_word_index = dict([(value, key) for (key, value) in dicionario.items()])\n",
    "def decode_review(text_indices):\n",
    "    return ' '.join([reverse_word_index.get(i, '?') for i in text_indices])\n",
    "\n",
    "def encode_review(text):\n",
    "    lista = [dicionario.get(i, 2) for i in text.split(\" \")]\n",
    "    lista.insert(0, 1)\n",
    "    return lista"
   ]
  },
  {
   "cell_type": "code",
   "execution_count": 28,
   "metadata": {
    "colab": {
     "base_uri": "https://localhost:8080/",
     "height": 87
    },
    "id": "zs4utCLPqIGk",
    "outputId": "8a7efcdf-42ec-4652-aa67-269766c0e060"
   },
   "outputs": [
    {
     "data": {
      "text/plain": [
       "'mais uma vez o sr costner arrumou um filme por muito mais tempo do que o necessario alem das terriveis sequencias de resgate no mar das quais ha muito poucas eu simplesmente nao me importei com nenhum dos personagens a maioria de nos tem fantasmas no armario e o personagem costers e realizado logo no inicio e depois esquecido ate muito mais tarde quando eu nao me importava o personagem com o qual deveriamos nos importar e muito arrogante e superconfiante ashton kutcher o problema e que ele sai como um garoto que pensa que e melhor do que qualquer outra pessoa ao seu redor e nao mostra sinais de um armario desordenado seu unico obstaculo parece estar vencendo costner finalmente quando estamos bem alem do meio do caminho costner nos conta sobre os fantasmas dos kutchers somos informados de por que kutcher e levado a ser o melhor sem pressentimentos ou pressagios anteriores nenhuma magica aqui era tudo que eu podia fazer para nao desligar uma hora'"
      ]
     },
     "execution_count": 28,
     "metadata": {},
     "output_type": "execute_result"
    }
   ],
   "source": [
    "texto_preparado[0]"
   ]
  },
  {
   "cell_type": "code",
   "execution_count": 29,
   "metadata": {
    "colab": {
     "base_uri": "https://localhost:8080/",
     "height": 141
    },
    "id": "D8q3-s6xtPVx",
    "outputId": "8c46dc96-00aa-42f7-8725-3c43bff60018"
   },
   "outputs": [],
   "source": [
    "list_codes = texto_preparado.apply(encode_review)"
   ]
  },
  {
   "cell_type": "code",
   "execution_count": 30,
   "metadata": {
    "colab": {
     "base_uri": "https://localhost:8080/",
     "height": 87
    },
    "id": "qVuWy_S6VXcp",
    "outputId": "8ea5460e-a71f-4bc1-86e1-2048709937b4"
   },
   "outputs": [
    {
     "data": {
      "text/plain": [
       "'<START> mais uma vez o sr costner arrumou um filme por muito mais tempo do que o necessario alem das terriveis sequencias de resgate no mar das quais ha muito poucas eu simplesmente nao me importei com nenhum dos personagens a maioria de nos tem fantasmas no armario e o personagem costers e realizado logo no inicio e depois esquecido ate muito mais tarde quando eu nao me importava o personagem com o qual deveriamos nos importar e muito arrogante e superconfiante ashton kutcher o problema e que ele sai como um garoto que pensa que e melhor do que qualquer outra pessoa ao seu redor e nao mostra sinais de um armario desordenado seu unico obstaculo parece estar vencendo costner finalmente quando estamos bem alem do meio do caminho costner nos conta sobre os fantasmas dos kutchers somos informados de por que kutcher e levado a ser o melhor sem pressentimentos ou pressagios anteriores nenhuma magica aqui era tudo que eu podia fazer para nao desligar uma hora'"
      ]
     },
     "execution_count": 30,
     "metadata": {},
     "output_type": "execute_result"
    }
   ],
   "source": [
    "decode_review( list_codes[0] )"
   ]
  },
  {
   "cell_type": "code",
   "execution_count": 31,
   "metadata": {
    "id": "l1MDmEV9VZfU"
   },
   "outputs": [],
   "source": [
    "list_codes_pad = keras.preprocessing.sequence.pad_sequences(list_codes,\n",
    "                                                        value=dicionario[\"<PAD>\"],\n",
    "                                                        padding='post',\n",
    "                                                        maxlen=256)"
   ]
  },
  {
   "cell_type": "code",
   "execution_count": 32,
   "metadata": {
    "colab": {
     "base_uri": "https://localhost:8080/"
    },
    "id": "2f-KvtpOVc2k",
    "outputId": "bf552c41-11f4-4090-b200-66d563da8bb5"
   },
   "outputs": [
    {
     "name": "stdout",
     "output_type": "stream",
     "text": [
      "[  1   4   5   6   7   8   9  10  11  12  13  14   4  15  16  17   7  18\n",
      "  19  20  21  22  23  24  25  26  20  27  28  14  29  30  31  32  33  34\n",
      "  35  36  37  38  39  40  23  41  42  43  25  44  45   7  46  47  45  48\n",
      "  49  25  50  45  51  52  53  14   4  54  55  30  32  33  56   7  46  35\n",
      "   7  57  58  41  59  45  14  60  45  61  62  63   7  64  45  17  65  66\n",
      "  67  11  68  17  69  17  45  70  16  17  71  72  73  74  75  76  45  32\n",
      "  77  78  23  11  44  79  75  80  81  82  83  84   9  85  55  86  87  19\n",
      "  16  88  16  89   9  41  90  91  92  43  37  93  94  95  23  13  17  63\n",
      "  45  96  39  97   7  70  98  99 100 101 102 103 104 105 106 107  17  30\n",
      " 108 109 110  32 111   5 112   0   0   0   0   0   0   0   0   0   0   0\n",
      "   0   0   0   0   0   0   0   0   0   0   0   0   0   0   0   0   0   0\n",
      "   0   0   0   0   0   0   0   0   0   0   0   0   0   0   0   0   0   0\n",
      "   0   0   0   0   0   0   0   0   0   0   0   0   0   0   0   0   0   0\n",
      "   0   0   0   0   0   0   0   0   0   0   0   0   0   0   0   0   0   0\n",
      "   0   0   0   0]\n"
     ]
    }
   ],
   "source": [
    "print(list_codes_pad[0])"
   ]
  },
  {
   "cell_type": "code",
   "execution_count": 44,
   "metadata": {
    "colab": {
     "base_uri": "https://localhost:8080/"
    },
    "id": "M3_ZpQMGVgEA",
    "outputId": "bef0cbc4-6aa5-4b13-9d14-c84534b7839b"
   },
   "outputs": [
    {
     "data": {
      "text/html": [
       "<pre style=\"white-space:pre;overflow-x:auto;line-height:normal;font-family:Menlo,'DejaVu Sans Mono',consolas,'Courier New',monospace\"><span style=\"font-weight: bold\">Model: \"sequential_5\"</span>\n",
       "</pre>\n"
      ],
      "text/plain": [
       "\u001b[1mModel: \"sequential_5\"\u001b[0m\n"
      ]
     },
     "metadata": {},
     "output_type": "display_data"
    },
    {
     "data": {
      "text/html": [
       "<pre style=\"white-space:pre;overflow-x:auto;line-height:normal;font-family:Menlo,'DejaVu Sans Mono',consolas,'Courier New',monospace\">┏━━━━━━━━━━━━━━━━━━━━━━━━━━━━━━━━━━━━━━┳━━━━━━━━━━━━━━━━━━━━━━━━━━━━━┳━━━━━━━━━━━━━━━━━┓\n",
       "┃<span style=\"font-weight: bold\"> Layer (type)                         </span>┃<span style=\"font-weight: bold\"> Output Shape                </span>┃<span style=\"font-weight: bold\">         Param # </span>┃\n",
       "┡━━━━━━━━━━━━━━━━━━━━━━━━━━━━━━━━━━━━━━╇━━━━━━━━━━━━━━━━━━━━━━━━━━━━━╇━━━━━━━━━━━━━━━━━┩\n",
       "│ embedding_2 (<span style=\"color: #0087ff; text-decoration-color: #0087ff\">Embedding</span>)              │ ?                           │     <span style=\"color: #00af00; text-decoration-color: #00af00\">0</span> (unbuilt) │\n",
       "├──────────────────────────────────────┼─────────────────────────────┼─────────────────┤\n",
       "│ global_average_pooling1d_1           │ ?                           │     <span style=\"color: #00af00; text-decoration-color: #00af00\">0</span> (unbuilt) │\n",
       "│ (<span style=\"color: #0087ff; text-decoration-color: #0087ff\">GlobalAveragePooling1D</span>)             │                             │                 │\n",
       "├──────────────────────────────────────┼─────────────────────────────┼─────────────────┤\n",
       "│ dense_7 (<span style=\"color: #0087ff; text-decoration-color: #0087ff\">Dense</span>)                      │ ?                           │     <span style=\"color: #00af00; text-decoration-color: #00af00\">0</span> (unbuilt) │\n",
       "├──────────────────────────────────────┼─────────────────────────────┼─────────────────┤\n",
       "│ dense_8 (<span style=\"color: #0087ff; text-decoration-color: #0087ff\">Dense</span>)                      │ ?                           │     <span style=\"color: #00af00; text-decoration-color: #00af00\">0</span> (unbuilt) │\n",
       "└──────────────────────────────────────┴─────────────────────────────┴─────────────────┘\n",
       "</pre>\n"
      ],
      "text/plain": [
       "┏━━━━━━━━━━━━━━━━━━━━━━━━━━━━━━━━━━━━━━┳━━━━━━━━━━━━━━━━━━━━━━━━━━━━━┳━━━━━━━━━━━━━━━━━┓\n",
       "┃\u001b[1m \u001b[0m\u001b[1mLayer (type)                        \u001b[0m\u001b[1m \u001b[0m┃\u001b[1m \u001b[0m\u001b[1mOutput Shape               \u001b[0m\u001b[1m \u001b[0m┃\u001b[1m \u001b[0m\u001b[1m        Param #\u001b[0m\u001b[1m \u001b[0m┃\n",
       "┡━━━━━━━━━━━━━━━━━━━━━━━━━━━━━━━━━━━━━━╇━━━━━━━━━━━━━━━━━━━━━━━━━━━━━╇━━━━━━━━━━━━━━━━━┩\n",
       "│ embedding_2 (\u001b[38;5;33mEmbedding\u001b[0m)              │ ?                           │     \u001b[38;5;34m0\u001b[0m (unbuilt) │\n",
       "├──────────────────────────────────────┼─────────────────────────────┼─────────────────┤\n",
       "│ global_average_pooling1d_1           │ ?                           │     \u001b[38;5;34m0\u001b[0m (unbuilt) │\n",
       "│ (\u001b[38;5;33mGlobalAveragePooling1D\u001b[0m)             │                             │                 │\n",
       "├──────────────────────────────────────┼─────────────────────────────┼─────────────────┤\n",
       "│ dense_7 (\u001b[38;5;33mDense\u001b[0m)                      │ ?                           │     \u001b[38;5;34m0\u001b[0m (unbuilt) │\n",
       "├──────────────────────────────────────┼─────────────────────────────┼─────────────────┤\n",
       "│ dense_8 (\u001b[38;5;33mDense\u001b[0m)                      │ ?                           │     \u001b[38;5;34m0\u001b[0m (unbuilt) │\n",
       "└──────────────────────────────────────┴─────────────────────────────┴─────────────────┘\n"
      ]
     },
     "metadata": {},
     "output_type": "display_data"
    },
    {
     "data": {
      "text/html": [
       "<pre style=\"white-space:pre;overflow-x:auto;line-height:normal;font-family:Menlo,'DejaVu Sans Mono',consolas,'Courier New',monospace\"><span style=\"font-weight: bold\"> Total params: </span><span style=\"color: #00af00; text-decoration-color: #00af00\">0</span> (0.00 B)\n",
       "</pre>\n"
      ],
      "text/plain": [
       "\u001b[1m Total params: \u001b[0m\u001b[38;5;34m0\u001b[0m (0.00 B)\n"
      ]
     },
     "metadata": {},
     "output_type": "display_data"
    },
    {
     "data": {
      "text/html": [
       "<pre style=\"white-space:pre;overflow-x:auto;line-height:normal;font-family:Menlo,'DejaVu Sans Mono',consolas,'Courier New',monospace\"><span style=\"font-weight: bold\"> Trainable params: </span><span style=\"color: #00af00; text-decoration-color: #00af00\">0</span> (0.00 B)\n",
       "</pre>\n"
      ],
      "text/plain": [
       "\u001b[1m Trainable params: \u001b[0m\u001b[38;5;34m0\u001b[0m (0.00 B)\n"
      ]
     },
     "metadata": {},
     "output_type": "display_data"
    },
    {
     "data": {
      "text/html": [
       "<pre style=\"white-space:pre;overflow-x:auto;line-height:normal;font-family:Menlo,'DejaVu Sans Mono',consolas,'Courier New',monospace\"><span style=\"font-weight: bold\"> Non-trainable params: </span><span style=\"color: #00af00; text-decoration-color: #00af00\">0</span> (0.00 B)\n",
       "</pre>\n"
      ],
      "text/plain": [
       "\u001b[1m Non-trainable params: \u001b[0m\u001b[38;5;34m0\u001b[0m (0.00 B)\n"
      ]
     },
     "metadata": {},
     "output_type": "display_data"
    }
   ],
   "source": [
    "# O formato de entrada é a contagem vocabulário usados pelas avaliações dos filmes (10000 palavras)\n",
    "vocab_size = len(dicionario)\n",
    "\n",
    "model1= keras.Sequential()\n",
    "model1.add(keras.layers.Input(shape=(256, ), dtype='int32', name=\"Layer_Input\"))\n",
    "model1.add(keras.layers.Dense(units=64, activation='relu', name=\"Layer_0\"))\n",
    "model1.add(keras.layers.Dense(units=16, activation='relu', name=\"Layer_1\"))\n",
    "model1.add(keras.layers.Dense(1, activation='sigmoid'))\n",
    "\n",
    "model2= keras.Sequential()\n",
    "model2.add(keras.layers.Embedding(input_dim=vocab_size, output_dim=64))\n",
    "model2.add(keras.layers.GlobalAveragePooling1D())\n",
    "model2.add(keras.layers.Dense(64, activation='relu'))\n",
    "model2.add(keras.layers.Dense(1, activation='sigmoid'))\n",
    "\n",
    "model = model2\n",
    "\n",
    "model.summary()\n"
   ]
  },
  {
   "cell_type": "code",
   "execution_count": 45,
   "metadata": {
    "id": "Y7sqI_TIVh_L"
   },
   "outputs": [],
   "source": [
    "model.compile(optimizer='adam',\n",
    "              loss='binary_crossentropy',\n",
    "              metrics=['accuracy'])"
   ]
  },
  {
   "cell_type": "code",
   "execution_count": 46,
   "metadata": {
    "id": "Pt3V38NkVsDZ"
   },
   "outputs": [],
   "source": [
    "train_X, test_X, train_Y, test_Y = train_test_split(list_codes_pad, filmes[\"sentiment_value\"],\n",
    "                                                    test_size=0.25, random_state=50)"
   ]
  },
  {
   "cell_type": "code",
   "execution_count": 58,
   "metadata": {
    "colab": {
     "base_uri": "https://localhost:8080/"
    },
    "id": "oj5bU2a6VyVQ",
    "outputId": "52bee84d-0bd8-44aa-df23-2dfdc060c32d"
   },
   "outputs": [
    {
     "name": "stdout",
     "output_type": "stream",
     "text": [
      "Epoch 1/40\n",
      "\u001b[1m73/73\u001b[0m \u001b[32m━━━━━━━━━━━━━━━━━━━━\u001b[0m\u001b[37m\u001b[0m \u001b[1m6s\u001b[0m 87ms/step - accuracy: 0.9992 - loss: 0.0051\n",
      "Epoch 2/40\n",
      "\u001b[1m73/73\u001b[0m \u001b[32m━━━━━━━━━━━━━━━━━━━━\u001b[0m\u001b[37m\u001b[0m \u001b[1m7s\u001b[0m 89ms/step - accuracy: 0.9995 - loss: 0.0042\n",
      "Epoch 3/40\n",
      "\u001b[1m73/73\u001b[0m \u001b[32m━━━━━━━━━━━━━━━━━━━━\u001b[0m\u001b[37m\u001b[0m \u001b[1m6s\u001b[0m 86ms/step - accuracy: 0.9990 - loss: 0.0051\n",
      "Epoch 4/40\n",
      "\u001b[1m73/73\u001b[0m \u001b[32m━━━━━━━━━━━━━━━━━━━━\u001b[0m\u001b[37m\u001b[0m \u001b[1m6s\u001b[0m 83ms/step - accuracy: 0.9970 - loss: 0.0122\n",
      "Epoch 5/40\n",
      "\u001b[1m73/73\u001b[0m \u001b[32m━━━━━━━━━━━━━━━━━━━━\u001b[0m\u001b[37m\u001b[0m \u001b[1m6s\u001b[0m 84ms/step - accuracy: 0.9977 - loss: 0.0106\n",
      "Epoch 6/40\n",
      "\u001b[1m73/73\u001b[0m \u001b[32m━━━━━━━━━━━━━━━━━━━━\u001b[0m\u001b[37m\u001b[0m \u001b[1m6s\u001b[0m 86ms/step - accuracy: 0.9995 - loss: 0.0043\n",
      "Epoch 7/40\n",
      "\u001b[1m73/73\u001b[0m \u001b[32m━━━━━━━━━━━━━━━━━━━━\u001b[0m\u001b[37m\u001b[0m \u001b[1m6s\u001b[0m 87ms/step - accuracy: 0.9997 - loss: 0.0032\n",
      "Epoch 8/40\n",
      "\u001b[1m73/73\u001b[0m \u001b[32m━━━━━━━━━━━━━━━━━━━━\u001b[0m\u001b[37m\u001b[0m \u001b[1m7s\u001b[0m 101ms/step - accuracy: 0.9998 - loss: 0.0032\n",
      "Epoch 9/40\n",
      "\u001b[1m73/73\u001b[0m \u001b[32m━━━━━━━━━━━━━━━━━━━━\u001b[0m\u001b[37m\u001b[0m \u001b[1m9s\u001b[0m 118ms/step - accuracy: 0.9998 - loss: 0.0028\n",
      "Epoch 10/40\n",
      "\u001b[1m73/73\u001b[0m \u001b[32m━━━━━━━━━━━━━━━━━━━━\u001b[0m\u001b[37m\u001b[0m \u001b[1m8s\u001b[0m 115ms/step - accuracy: 0.9996 - loss: 0.0028\n",
      "Epoch 11/40\n",
      "\u001b[1m73/73\u001b[0m \u001b[32m━━━━━━━━━━━━━━━━━━━━\u001b[0m\u001b[37m\u001b[0m \u001b[1m8s\u001b[0m 108ms/step - accuracy: 0.9993 - loss: 0.0041\n",
      "Epoch 12/40\n",
      "\u001b[1m73/73\u001b[0m \u001b[32m━━━━━━━━━━━━━━━━━━━━\u001b[0m\u001b[37m\u001b[0m \u001b[1m8s\u001b[0m 109ms/step - accuracy: 0.9999 - loss: 0.0017\n",
      "Epoch 13/40\n",
      "\u001b[1m73/73\u001b[0m \u001b[32m━━━━━━━━━━━━━━━━━━━━\u001b[0m\u001b[37m\u001b[0m \u001b[1m8s\u001b[0m 105ms/step - accuracy: 1.0000 - loss: 0.0020\n",
      "Epoch 14/40\n",
      "\u001b[1m73/73\u001b[0m \u001b[32m━━━━━━━━━━━━━━━━━━━━\u001b[0m\u001b[37m\u001b[0m \u001b[1m8s\u001b[0m 114ms/step - accuracy: 0.9994 - loss: 0.0031\n",
      "Epoch 15/40\n",
      "\u001b[1m73/73\u001b[0m \u001b[32m━━━━━━━━━━━━━━━━━━━━\u001b[0m\u001b[37m\u001b[0m \u001b[1m8s\u001b[0m 103ms/step - accuracy: 0.9998 - loss: 0.0021\n",
      "Epoch 16/40\n",
      "\u001b[1m73/73\u001b[0m \u001b[32m━━━━━━━━━━━━━━━━━━━━\u001b[0m\u001b[37m\u001b[0m \u001b[1m7s\u001b[0m 101ms/step - accuracy: 0.9998 - loss: 0.0020\n",
      "Epoch 17/40\n",
      "\u001b[1m73/73\u001b[0m \u001b[32m━━━━━━━━━━━━━━━━━━━━\u001b[0m\u001b[37m\u001b[0m \u001b[1m8s\u001b[0m 112ms/step - accuracy: 0.9999 - loss: 0.0012\n",
      "Epoch 18/40\n",
      "\u001b[1m73/73\u001b[0m \u001b[32m━━━━━━━━━━━━━━━━━━━━\u001b[0m\u001b[37m\u001b[0m \u001b[1m7s\u001b[0m 100ms/step - accuracy: 0.9995 - loss: 0.0025\n",
      "Epoch 19/40\n",
      "\u001b[1m73/73\u001b[0m \u001b[32m━━━━━━━━━━━━━━━━━━━━\u001b[0m\u001b[37m\u001b[0m \u001b[1m7s\u001b[0m 100ms/step - accuracy: 0.9832 - loss: 0.1360\n",
      "Epoch 20/40\n",
      "\u001b[1m73/73\u001b[0m \u001b[32m━━━━━━━━━━━━━━━━━━━━\u001b[0m\u001b[37m\u001b[0m \u001b[1m7s\u001b[0m 99ms/step - accuracy: 0.9266 - loss: 0.2486\n",
      "Epoch 21/40\n",
      "\u001b[1m73/73\u001b[0m \u001b[32m━━━━━━━━━━━━━━━━━━━━\u001b[0m\u001b[37m\u001b[0m \u001b[1m7s\u001b[0m 99ms/step - accuracy: 0.9955 - loss: 0.0783\n",
      "Epoch 22/40\n",
      "\u001b[1m73/73\u001b[0m \u001b[32m━━━━━━━━━━━━━━━━━━━━\u001b[0m\u001b[37m\u001b[0m \u001b[1m7s\u001b[0m 100ms/step - accuracy: 0.9959 - loss: 0.0562\n",
      "Epoch 23/40\n",
      "\u001b[1m73/73\u001b[0m \u001b[32m━━━━━━━━━━━━━━━━━━━━\u001b[0m\u001b[37m\u001b[0m \u001b[1m10s\u001b[0m 97ms/step - accuracy: 0.9984 - loss: 0.0396\n",
      "Epoch 24/40\n",
      "\u001b[1m73/73\u001b[0m \u001b[32m━━━━━━━━━━━━━━━━━━━━\u001b[0m\u001b[37m\u001b[0m \u001b[1m7s\u001b[0m 98ms/step - accuracy: 0.9988 - loss: 0.0288\n",
      "Epoch 25/40\n",
      "\u001b[1m73/73\u001b[0m \u001b[32m━━━━━━━━━━━━━━━━━━━━\u001b[0m\u001b[37m\u001b[0m \u001b[1m8s\u001b[0m 103ms/step - accuracy: 0.9990 - loss: 0.0247\n",
      "Epoch 26/40\n",
      "\u001b[1m73/73\u001b[0m \u001b[32m━━━━━━━━━━━━━━━━━━━━\u001b[0m\u001b[37m\u001b[0m \u001b[1m8s\u001b[0m 105ms/step - accuracy: 0.9990 - loss: 0.0218\n",
      "Epoch 27/40\n",
      "\u001b[1m73/73\u001b[0m \u001b[32m━━━━━━━━━━━━━━━━━━━━\u001b[0m\u001b[37m\u001b[0m \u001b[1m7s\u001b[0m 99ms/step - accuracy: 0.9991 - loss: 0.0188\n",
      "Epoch 28/40\n",
      "\u001b[1m73/73\u001b[0m \u001b[32m━━━━━━━━━━━━━━━━━━━━\u001b[0m\u001b[37m\u001b[0m \u001b[1m7s\u001b[0m 98ms/step - accuracy: 0.9997 - loss: 0.0142\n",
      "Epoch 29/40\n",
      "\u001b[1m73/73\u001b[0m \u001b[32m━━━━━━━━━━━━━━━━━━━━\u001b[0m\u001b[37m\u001b[0m \u001b[1m7s\u001b[0m 97ms/step - accuracy: 0.9996 - loss: 0.0129\n",
      "Epoch 30/40\n",
      "\u001b[1m73/73\u001b[0m \u001b[32m━━━━━━━━━━━━━━━━━━━━\u001b[0m\u001b[37m\u001b[0m \u001b[1m7s\u001b[0m 99ms/step - accuracy: 0.9997 - loss: 0.0107\n",
      "Epoch 31/40\n",
      "\u001b[1m73/73\u001b[0m \u001b[32m━━━━━━━━━━━━━━━━━━━━\u001b[0m\u001b[37m\u001b[0m \u001b[1m7s\u001b[0m 101ms/step - accuracy: 0.9995 - loss: 0.0108\n",
      "Epoch 32/40\n",
      "\u001b[1m73/73\u001b[0m \u001b[32m━━━━━━━━━━━━━━━━━━━━\u001b[0m\u001b[37m\u001b[0m \u001b[1m7s\u001b[0m 99ms/step - accuracy: 0.9996 - loss: 0.0102\n",
      "Epoch 33/40\n",
      "\u001b[1m73/73\u001b[0m \u001b[32m━━━━━━━━━━━━━━━━━━━━\u001b[0m\u001b[37m\u001b[0m \u001b[1m7s\u001b[0m 100ms/step - accuracy: 0.9996 - loss: 0.0081\n",
      "Epoch 34/40\n",
      "\u001b[1m73/73\u001b[0m \u001b[32m━━━━━━━━━━━━━━━━━━━━\u001b[0m\u001b[37m\u001b[0m \u001b[1m7s\u001b[0m 99ms/step - accuracy: 0.9996 - loss: 0.0082\n",
      "Epoch 35/40\n",
      "\u001b[1m73/73\u001b[0m \u001b[32m━━━━━━━━━━━━━━━━━━━━\u001b[0m\u001b[37m\u001b[0m \u001b[1m7s\u001b[0m 101ms/step - accuracy: 0.9999 - loss: 0.0065\n",
      "Epoch 36/40\n",
      "\u001b[1m73/73\u001b[0m \u001b[32m━━━━━━━━━━━━━━━━━━━━\u001b[0m\u001b[37m\u001b[0m \u001b[1m7s\u001b[0m 99ms/step - accuracy: 0.9998 - loss: 0.0060\n",
      "Epoch 37/40\n",
      "\u001b[1m73/73\u001b[0m \u001b[32m━━━━━━━━━━━━━━━━━━━━\u001b[0m\u001b[37m\u001b[0m \u001b[1m7s\u001b[0m 101ms/step - accuracy: 0.9998 - loss: 0.0057\n",
      "Epoch 38/40\n",
      "\u001b[1m73/73\u001b[0m \u001b[32m━━━━━━━━━━━━━━━━━━━━\u001b[0m\u001b[37m\u001b[0m \u001b[1m7s\u001b[0m 98ms/step - accuracy: 0.9993 - loss: 0.0070\n",
      "Epoch 39/40\n",
      "\u001b[1m73/73\u001b[0m \u001b[32m━━━━━━━━━━━━━━━━━━━━\u001b[0m\u001b[37m\u001b[0m \u001b[1m7s\u001b[0m 100ms/step - accuracy: 0.9996 - loss: 0.0060\n",
      "Epoch 40/40\n",
      "\u001b[1m73/73\u001b[0m \u001b[32m━━━━━━━━━━━━━━━━━━━━\u001b[0m\u001b[37m\u001b[0m \u001b[1m7s\u001b[0m 101ms/step - accuracy: 0.9998 - loss: 0.0052\n"
     ]
    }
   ],
   "source": [
    "fit = model.fit(train_X,\n",
    "                    train_Y,\n",
    "                    epochs=40,\n",
    "                    batch_size=512,\n",
    "                    verbose=1)"
   ]
  },
  {
   "cell_type": "code",
   "execution_count": 59,
   "metadata": {
    "colab": {
     "base_uri": "https://localhost:8080/"
    },
    "id": "kKyzEcklV09D",
    "outputId": "ad738745-bad0-42a2-d1dd-14a83c46fe1b"
   },
   "outputs": [
    {
     "name": "stdout",
     "output_type": "stream",
     "text": [
      "387/387 - 1s - 3ms/step - accuracy: 0.8801 - loss: 0.5358\n",
      "[0.5358368158340454, 0.8801455497741699]\n"
     ]
    }
   ],
   "source": [
    "results = model.evaluate(test_X,  test_Y, verbose=2)\n",
    "\n",
    "print(results)"
   ]
  },
  {
   "cell_type": "code",
   "execution_count": 60,
   "metadata": {
    "colab": {
     "base_uri": "https://localhost:8080/"
    },
    "id": "Z6A87-BVV9zZ",
    "outputId": "a9813a5b-374a-41b4-9d21-5568e3eb4a00"
   },
   "outputs": [
    {
     "data": {
      "text/plain": [
       "dict_keys(['accuracy', 'loss'])"
      ]
     },
     "execution_count": 60,
     "metadata": {},
     "output_type": "execute_result"
    }
   ],
   "source": [
    "fit.history.keys()"
   ]
  },
  {
   "cell_type": "code",
   "execution_count": 61,
   "metadata": {
    "colab": {
     "base_uri": "https://localhost:8080/",
     "height": 472
    },
    "id": "6PlvGEXpWEWk",
    "outputId": "be5a2a95-546c-4619-e2a1-d79bf244c05e"
   },
   "outputs": [
    {
     "data": {
      "image/png": "[encoded data removed]",
      "text/plain": [
       "<Figure size 640x480 with 1 Axes>"
      ]
     },
     "metadata": {},
     "output_type": "display_data"
    }
   ],
   "source": [
    "import matplotlib.pyplot as plt\n",
    "\n",
    "acc = fit.history['accuracy']\n",
    "loss = fit.history['loss']\n",
    "\n",
    "epochs = range(1, len(acc) + 1)\n",
    "\n",
    "plt.plot(epochs, acc, 'r-', label='Training Accuracy')\n",
    "plt.plot(epochs, loss, 'b-', label='Training loss')\n",
    "plt.title('Training Accuracy and Loss')\n",
    "plt.xlabel('Epochs')\n",
    "plt.ylabel('Loss')\n",
    "plt.legend()\n",
    "plt.show()"
   ]
  }
 ],
 "metadata": {
  "colab": {
   "provenance": []
  },
  "kernelspec": {
   "display_name": "Python 3 (ipykernel)",
   "language": "python",
   "name": "python3"
  },
  "language_info": {
   "codemirror_mode": {
    "name": "ipython",
    "version": 3
   },
   "file_extension": ".py",
   "mimetype": "text/x-python",
   "name": "python",
   "nbconvert_exporter": "python",
   "pygments_lexer": "ipython3",
   "version": "3.10.9"
  }
 },
 "nbformat": 4,
 "nbformat_minor": 1
}
