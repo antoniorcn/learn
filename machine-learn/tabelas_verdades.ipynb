{
 "cells": [
  {
   "cell_type": "code",
   "execution_count": 24,
   "id": "6aab5496",
   "metadata": {},
   "outputs": [],
   "source": [
    "def processar( linhas, amplitude ):\n",
    "    lista = []\n",
    "    iteracoes = linhas // amplitude\n",
    "    termo = 1\n",
    "    for i in range(iteracoes):\n",
    "        termo = 0 if termo == 1 else 1\n",
    "        for j in range(amplitude):\n",
    "            lista.append(termo)\n",
    "    return lista"
   ]
  },
  {
   "cell_type": "code",
   "execution_count": 87,
   "id": "db39b3fd",
   "metadata": {},
   "outputs": [
    {
     "name": "stdout",
     "output_type": "stream",
     "text": [
      "quantas variaveis4\n"
     ]
    }
   ],
   "source": [
    "variaveis = int(input(\"quantas variaveis\"))\n",
    "saida = {}\n",
    "chave = \"A\"\n",
    "chaves = []"
   ]
  },
  {
   "cell_type": "code",
   "execution_count": 88,
   "id": "d4d6e034",
   "metadata": {},
   "outputs": [],
   "source": [
    "for v in range(variaveis, 0, -1):\n",
    "    chaves.append(chave)\n",
    "    saida[chave] = processar( 2**variaveis, (2**v)//2 )\n",
    "    chave = chr(ord(chave)+1)\n",
    "    "
   ]
  },
  {
   "cell_type": "code",
   "execution_count": 89,
   "id": "37d2207c",
   "metadata": {},
   "outputs": [],
   "source": [
    "arquivo = open(\"saida.csv\", \"w+\")"
   ]
  },
  {
   "cell_type": "code",
   "execution_count": 90,
   "id": "ac209cff",
   "metadata": {},
   "outputs": [],
   "source": [
    "for i, k in enumerate(chaves):\n",
    "    if i < len(chaves) - 1:\n",
    "        arquivo.write( k + \", \")\n",
    "    else:\n",
    "        arquivo.write( k + \"\\n\")"
   ]
  },
  {
   "cell_type": "code",
   "execution_count": 91,
   "id": "e6ec9da6",
   "metadata": {},
   "outputs": [],
   "source": [
    "for linha in range(2**variaveis):\n",
    "    for i, k in enumerate(chaves):\n",
    "        # print(\"K: \", k, \"I: \", i)\n",
    "        valor = saida[k][linha]\n",
    "        if i < len(chaves) - 1:\n",
    "            arquivo.write( str(valor) + \", \")\n",
    "        else:\n",
    "            arquivo.write( str(valor) + \"\\n\")"
   ]
  },
  {
   "cell_type": "code",
   "execution_count": 92,
   "id": "83c170fc",
   "metadata": {},
   "outputs": [],
   "source": [
    "arquivo.close()"
   ]
  },
  {
   "cell_type": "code",
   "execution_count": null,
   "id": "7a93a3a1",
   "metadata": {},
   "outputs": [],
   "source": []
  }
 ],
 "metadata": {
  "kernelspec": {
   "display_name": "Python 3 (ipykernel)",
   "language": "python",
   "name": "python3"
  },
  "language_info": {
   "codemirror_mode": {
    "name": "ipython",
    "version": 3
   },
   "file_extension": ".py",
   "mimetype": "text/x-python",
   "name": "python",
   "nbconvert_exporter": "python",
   "pygments_lexer": "ipython3",
   "version": "3.11.4"
  }
 },
 "nbformat": 4,
 "nbformat_minor": 5
}
