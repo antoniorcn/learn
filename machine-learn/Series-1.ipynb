{
 "cells": [
  {
   "cell_type": "code",
   "execution_count": 1,
   "id": "6bb8eeff",
   "metadata": {},
   "outputs": [],
   "source": [
    "import numpy as np\n",
    "\n",
    "import pandas as pd\n",
    "\n",
    "import matplotlib.pyplot as plt\n",
    "\n",
    "from sklearn.preprocessing import MinMaxScaler"
   ]
  },
  {
   "cell_type": "code",
   "execution_count": 2,
   "id": "e0c69eb2",
   "metadata": {},
   "outputs": [],
   "source": [
    "from tensorflow.keras.models import Sequential\n",
    "\n",
    "from tensorflow.keras.layers import Dense\n",
    "\n",
    "from tensorflow.keras.layers import LSTM\n",
    "\n",
    "from tensorflow.keras.layers import Dropout"
   ]
  },
  {
   "cell_type": "code",
   "execution_count": 3,
   "id": "a2695b7e",
   "metadata": {},
   "outputs": [],
   "source": [
    "total_data = pd.read_csv('./ibm.csv')"
   ]
  },
  {
   "cell_type": "code",
   "execution_count": 4,
   "id": "cb999226",
   "metadata": {},
   "outputs": [],
   "source": [
    "scaler = MinMaxScaler()"
   ]
  },
  {
   "cell_type": "code",
   "execution_count": 5,
   "id": "b5bcb5a9",
   "metadata": {
    "scrolled": true
   },
   "outputs": [],
   "source": [
    "# Pegando a serie de dados totais\n",
    "total_data = total_data.iloc[:, 1].values"
   ]
  },
  {
   "cell_type": "code",
   "execution_count": 6,
   "id": "4445743a",
   "metadata": {},
   "outputs": [],
   "source": [
    "total_data = scaler.fit_transform(total_data.reshape(-1, 1))"
   ]
  },
  {
   "cell_type": "code",
   "execution_count": 7,
   "id": "63b7acce",
   "metadata": {},
   "outputs": [
    {
     "name": "stdout",
     "output_type": "stream",
     "text": [
      "Numero total de registros:  1259\n",
      "Numero de registros para treinamento:  1133\n"
     ]
    }
   ],
   "source": [
    "print(\"Numero total de registros: \", len(total_data))\n",
    "registros_treinamento = int(len(total_data)*0.9)\n",
    "print(\"Numero de registros para treinamento: \", registros_treinamento)"
   ]
  },
  {
   "cell_type": "code",
   "execution_count": 8,
   "id": "15aa59e8",
   "metadata": {},
   "outputs": [],
   "source": [
    "# Pegando os primeiros 90% dos dados para servirem como treinamento\n",
    "training_data = total_data[:registros_treinamento]\n",
    "teste_data = total_data[registros_treinamento:]"
   ]
  },
  {
   "cell_type": "code",
   "execution_count": 9,
   "id": "e7691063",
   "metadata": {},
   "outputs": [
    {
     "name": "stdout",
     "output_type": "stream",
     "text": [
      "Numero Registros de treinamento:  1133\n",
      "Registros de treinamento:  [[0.84100289]\n",
      " [0.85142385]\n",
      " [0.8414156 ]\n",
      " ...\n",
      " [0.27383409]\n",
      " [0.27383409]\n",
      " [0.24288073]]\n"
     ]
    }
   ],
   "source": [
    "print(\"Numero Registros de treinamento: \", len(training_data))\n",
    "print(\"Registros de treinamento: \", training_data)"
   ]
  },
  {
   "cell_type": "code",
   "execution_count": 10,
   "id": "e4db8ee7",
   "metadata": {},
   "outputs": [
    {
     "name": "stdout",
     "output_type": "stream",
     "text": [
      "Numero Registros de teste:  126\n",
      "Registros de teste:  [[0.24030128]\n",
      " [0.23916632]\n",
      " [0.24752373]\n",
      " [0.24288073]\n",
      " [0.24855551]\n",
      " [0.24071399]\n",
      " [0.24824598]\n",
      " [0.23122163]\n",
      " [0.21801486]\n",
      " [0.22884853]\n",
      " [0.2294676 ]\n",
      " [0.24803962]\n",
      " [0.25629385]\n",
      " [0.26465126]\n",
      " [0.24391251]\n",
      " [0.25588114]\n",
      " [0.25340487]\n",
      " [0.25299216]\n",
      " [0.25835741]\n",
      " [0.26227817]\n",
      " [0.26454808]\n",
      " [0.25474618]\n",
      " [0.25877012]\n",
      " [0.27496905]\n",
      " [0.27744532]\n",
      " [0.28270739]\n",
      " [0.27197689]\n",
      " [0.27187371]\n",
      " [0.27166735]\n",
      " [0.27311184]\n",
      " [0.28054065]\n",
      " [0.27992158]\n",
      " [0.27507222]\n",
      " [0.28786628]\n",
      " [0.29116797]\n",
      " [0.27723896]\n",
      " [0.27847709]\n",
      " [0.27744532]\n",
      " [0.29127115]\n",
      " [0.29446967]\n",
      " [0.29116797]\n",
      " [0.29075526]\n",
      " [0.28931077]\n",
      " [0.3017953 ]\n",
      " [0.30891457]\n",
      " [0.30024763]\n",
      " [0.2994222 ]\n",
      " [0.29673958]\n",
      " [0.29065208]\n",
      " [0.39888568]\n",
      " [0.42653735]\n",
      " [0.43964094]\n",
      " [0.44975237]\n",
      " [0.42498968]\n",
      " [0.38743293]\n",
      " [0.3698927 ]\n",
      " [0.37226579]\n",
      " [0.36421791]\n",
      " [0.37009905]\n",
      " [0.36772596]\n",
      " [0.36855138]\n",
      " [0.36070986]\n",
      " [0.34368551]\n",
      " [0.3395584 ]\n",
      " [0.34193149]\n",
      " [0.32470078]\n",
      " [0.33212959]\n",
      " [0.31386711]\n",
      " [0.30427156]\n",
      " [0.30478745]\n",
      " [0.30200165]\n",
      " [0.31861329]\n",
      " [0.33202641]\n",
      " [0.33883615]\n",
      " [0.34605861]\n",
      " [0.34554272]\n",
      " [0.34667767]\n",
      " [0.34966983]\n",
      " [0.35441601]\n",
      " [0.36308296]\n",
      " [0.3708213 ]\n",
      " [0.38392489]\n",
      " [0.39197276]\n",
      " [0.38413124]\n",
      " [0.36700371]\n",
      " [0.36607511]\n",
      " [0.37670243]\n",
      " [0.37907553]\n",
      " [0.39352043]\n",
      " [0.37185307]\n",
      " [0.36411473]\n",
      " [0.36060669]\n",
      " [0.36808708]\n",
      " [0.36308296]\n",
      " [0.35813042]\n",
      " [0.34306645]\n",
      " [0.35132068]\n",
      " [0.3558605 ]\n",
      " [0.35843995]\n",
      " [0.3684482 ]\n",
      " [0.37185307]\n",
      " [0.40115559]\n",
      " [0.42498968]\n",
      " [0.45377631]\n",
      " [0.45604622]\n",
      " [0.46884028]\n",
      " [0.45862567]\n",
      " [0.47812629]\n",
      " [0.47007842]\n",
      " [0.48122163]\n",
      " [0.51124639]\n",
      " [0.53177879]\n",
      " [0.47461824]\n",
      " [0.44418077]\n",
      " [0.45769707]\n",
      " [0.49824598]\n",
      " [0.48957903]\n",
      " [0.49174577]\n",
      " [0.50546843]\n",
      " [0.49267437]\n",
      " [0.46729261]\n",
      " [0.46151465]\n",
      " [0.44614115]\n",
      " [0.40683038]\n",
      " [0.32841519]\n",
      " [0.3684482 ]]\n"
     ]
    }
   ],
   "source": [
    "print(\"Numero Registros de teste: \", len(teste_data))\n",
    "print(\"Registros de teste: \", teste_data)"
   ]
  },
  {
   "cell_type": "code",
   "execution_count": 11,
   "id": "32a1c50a",
   "metadata": {},
   "outputs": [],
   "source": [
    "x_training_data = []\n",
    "\n",
    "y_training_data =[]\n",
    "x_testing_data = []\n",
    "y_testing_data = []"
   ]
  },
  {
   "cell_type": "code",
   "execution_count": 12,
   "id": "2689638e",
   "metadata": {},
   "outputs": [],
   "source": [
    "# Gera as sequencias de 40 elementos para treinamento\n",
    "for i in range(40, len(training_data)):\n",
    "    x_training_data.append(training_data[i-40:i, 0])\n",
    "    y_training_data.append(training_data[i, 0])"
   ]
  },
  {
   "cell_type": "code",
   "execution_count": 13,
   "id": "0113c7de",
   "metadata": {},
   "outputs": [],
   "source": [
    "# Gera as sequencias de 40 elementos para confirmar a previsão\n",
    "for i in range(40, len(teste_data)):\n",
    "    x_testing_data.append(teste_data[i-40:i, 0])\n",
    "    y_testing_data.append(teste_data[i, 0])"
   ]
  },
  {
   "cell_type": "code",
   "execution_count": 14,
   "id": "08a95fb4",
   "metadata": {},
   "outputs": [],
   "source": [
    "# Converte os dados de treinamento para Numpy.Array\n",
    "x_training_data = np.array(x_training_data)\n",
    "y_training_data = np.array(y_training_data)\n",
    "\n",
    "# Converte os dados de teste para Numpy.Array\n",
    "x_testing_data = np.array(x_testing_data)\n",
    "y_testing_data = np.array(y_testing_data)"
   ]
  },
  {
   "cell_type": "code",
   "execution_count": 15,
   "id": "dde28cad",
   "metadata": {},
   "outputs": [
    {
     "name": "stdout",
     "output_type": "stream",
     "text": [
      "X Training Shape:  (1093, 40)\n",
      "Y Training Shape:  (1093,)\n",
      "X Teste Shape:  (86, 40)\n",
      "Y Training Shape:  (86,)\n"
     ]
    }
   ],
   "source": [
    "print(\"X Training Shape: \", x_training_data.shape)\n",
    "print(\"Y Training Shape: \", y_training_data.shape)\n",
    "print(\"X Teste Shape: \", x_testing_data.shape)\n",
    "print(\"Y Training Shape: \", y_testing_data.shape)"
   ]
  },
  {
   "cell_type": "code",
   "execution_count": 16,
   "id": "197320d6",
   "metadata": {},
   "outputs": [],
   "source": [
    "x_training_data = np.reshape(x_training_data, (x_training_data.shape[0], \n",
    "\n",
    "                                               x_training_data.shape[1], \n",
    "\n",
    "                                               1))"
   ]
  },
  {
   "cell_type": "code",
   "execution_count": 17,
   "id": "be01d99d",
   "metadata": {},
   "outputs": [],
   "source": [
    "x_testing_data = np.reshape(x_testing_data, (x_testing_data.shape[0], \n",
    "\n",
    "                                               x_testing_data.shape[1], \n",
    "\n",
    "                                               1))"
   ]
  },
  {
   "cell_type": "code",
   "execution_count": 18,
   "id": "936f7bc4",
   "metadata": {},
   "outputs": [],
   "source": [
    "y_testing_data = y_testing_data.reshape(-1, 1)"
   ]
  },
  {
   "cell_type": "code",
   "execution_count": 19,
   "id": "3a851912",
   "metadata": {},
   "outputs": [],
   "source": [
    "rnn = Sequential()"
   ]
  },
  {
   "cell_type": "code",
   "execution_count": 20,
   "id": "7a61fad8",
   "metadata": {},
   "outputs": [],
   "source": [
    "for i in [True, True, False]:\n",
    "\n",
    "    rnn.add(LSTM(units = 45, return_sequences = i))\n",
    "\n",
    "    rnn.add(Dropout(0.2))"
   ]
  },
  {
   "cell_type": "code",
   "execution_count": 21,
   "id": "72679df3",
   "metadata": {},
   "outputs": [],
   "source": [
    "rnn.add(Dense(units = 1))"
   ]
  },
  {
   "cell_type": "code",
   "execution_count": 22,
   "id": "4887bf40",
   "metadata": {},
   "outputs": [],
   "source": [
    "rnn.compile(optimizer = 'adam', loss = 'mean_squared_error')"
   ]
  },
  {
   "cell_type": "code",
   "execution_count": 23,
   "id": "c2c72993",
   "metadata": {},
   "outputs": [
    {
     "name": "stdout",
     "output_type": "stream",
     "text": [
      "Epoch 1/100\n",
      "35/35 [==============================] - 5s 24ms/step - loss: 0.0406\n",
      "Epoch 2/100\n",
      "35/35 [==============================] - 1s 24ms/step - loss: 0.0080\n",
      "Epoch 3/100\n",
      "35/35 [==============================] - 1s 24ms/step - loss: 0.0061\n",
      "Epoch 4/100\n",
      "35/35 [==============================] - 1s 24ms/step - loss: 0.0062\n",
      "Epoch 5/100\n",
      "35/35 [==============================] - 1s 24ms/step - loss: 0.0062\n",
      "Epoch 6/100\n",
      "35/35 [==============================] - 1s 24ms/step - loss: 0.0056\n",
      "Epoch 7/100\n",
      "35/35 [==============================] - 1s 24ms/step - loss: 0.0056\n",
      "Epoch 8/100\n",
      "35/35 [==============================] - 1s 25ms/step - loss: 0.0046\n",
      "Epoch 9/100\n",
      "35/35 [==============================] - 1s 24ms/step - loss: 0.0049\n",
      "Epoch 10/100\n",
      "35/35 [==============================] - 1s 24ms/step - loss: 0.0051\n",
      "Epoch 11/100\n",
      "35/35 [==============================] - 1s 24ms/step - loss: 0.0047\n",
      "Epoch 12/100\n",
      "35/35 [==============================] - 1s 24ms/step - loss: 0.0049\n",
      "Epoch 13/100\n",
      "35/35 [==============================] - 1s 24ms/step - loss: 0.0047\n",
      "Epoch 14/100\n",
      "35/35 [==============================] - 1s 24ms/step - loss: 0.0043\n",
      "Epoch 15/100\n",
      "35/35 [==============================] - 1s 24ms/step - loss: 0.0043\n",
      "Epoch 16/100\n",
      "35/35 [==============================] - 1s 24ms/step - loss: 0.0043\n",
      "Epoch 17/100\n",
      "35/35 [==============================] - 1s 24ms/step - loss: 0.0040\n",
      "Epoch 18/100\n",
      "35/35 [==============================] - 1s 24ms/step - loss: 0.0038\n",
      "Epoch 19/100\n",
      "35/35 [==============================] - 1s 24ms/step - loss: 0.0046\n",
      "Epoch 20/100\n",
      "35/35 [==============================] - 1s 24ms/step - loss: 0.0038\n",
      "Epoch 21/100\n",
      "35/35 [==============================] - 1s 25ms/step - loss: 0.0036\n",
      "Epoch 22/100\n",
      "35/35 [==============================] - 1s 24ms/step - loss: 0.0040\n",
      "Epoch 23/100\n",
      "35/35 [==============================] - 1s 24ms/step - loss: 0.0038\n",
      "Epoch 24/100\n",
      "35/35 [==============================] - 1s 24ms/step - loss: 0.0033\n",
      "Epoch 25/100\n",
      "35/35 [==============================] - 1s 24ms/step - loss: 0.0032\n",
      "Epoch 26/100\n",
      "35/35 [==============================] - 1s 25ms/step - loss: 0.0034\n",
      "Epoch 27/100\n",
      "35/35 [==============================] - 1s 24ms/step - loss: 0.0035\n",
      "Epoch 28/100\n",
      "35/35 [==============================] - 1s 24ms/step - loss: 0.0034\n",
      "Epoch 29/100\n",
      "35/35 [==============================] - 1s 25ms/step - loss: 0.0031\n",
      "Epoch 30/100\n",
      "35/35 [==============================] - 1s 25ms/step - loss: 0.0035\n",
      "Epoch 31/100\n",
      "35/35 [==============================] - 1s 25ms/step - loss: 0.0029\n",
      "Epoch 32/100\n",
      "35/35 [==============================] - 1s 27ms/step - loss: 0.0029\n",
      "Epoch 33/100\n",
      "35/35 [==============================] - 1s 25ms/step - loss: 0.0033\n",
      "Epoch 34/100\n",
      "35/35 [==============================] - 1s 25ms/step - loss: 0.0030\n",
      "Epoch 35/100\n",
      "35/35 [==============================] - 1s 26ms/step - loss: 0.0030\n",
      "Epoch 36/100\n",
      "35/35 [==============================] - 1s 26ms/step - loss: 0.0031\n",
      "Epoch 37/100\n",
      "35/35 [==============================] - 1s 26ms/step - loss: 0.0033\n",
      "Epoch 38/100\n",
      "35/35 [==============================] - 1s 26ms/step - loss: 0.0031\n",
      "Epoch 39/100\n",
      "35/35 [==============================] - 1s 26ms/step - loss: 0.0029\n",
      "Epoch 40/100\n",
      "35/35 [==============================] - 1s 26ms/step - loss: 0.0024\n",
      "Epoch 41/100\n",
      "35/35 [==============================] - 1s 26ms/step - loss: 0.0026\n",
      "Epoch 42/100\n",
      "35/35 [==============================] - 1s 27ms/step - loss: 0.0027\n",
      "Epoch 43/100\n",
      "35/35 [==============================] - 1s 26ms/step - loss: 0.0026\n",
      "Epoch 44/100\n",
      "35/35 [==============================] - 1s 26ms/step - loss: 0.0028\n",
      "Epoch 45/100\n",
      "35/35 [==============================] - 1s 26ms/step - loss: 0.0024\n",
      "Epoch 46/100\n",
      "35/35 [==============================] - 1s 26ms/step - loss: 0.0025\n",
      "Epoch 47/100\n",
      "35/35 [==============================] - 1s 26ms/step - loss: 0.0024\n",
      "Epoch 48/100\n",
      "35/35 [==============================] - 1s 26ms/step - loss: 0.0024\n",
      "Epoch 49/100\n",
      "35/35 [==============================] - 1s 26ms/step - loss: 0.0023\n",
      "Epoch 50/100\n",
      "35/35 [==============================] - 1s 26ms/step - loss: 0.0024\n",
      "Epoch 51/100\n",
      "35/35 [==============================] - 1s 26ms/step - loss: 0.0025\n",
      "Epoch 52/100\n",
      "35/35 [==============================] - 1s 26ms/step - loss: 0.0024\n",
      "Epoch 53/100\n",
      "35/35 [==============================] - 1s 27ms/step - loss: 0.0025\n",
      "Epoch 54/100\n",
      "35/35 [==============================] - 1s 26ms/step - loss: 0.0024\n",
      "Epoch 55/100\n",
      "35/35 [==============================] - 1s 26ms/step - loss: 0.0022\n",
      "Epoch 56/100\n",
      "35/35 [==============================] - 1s 27ms/step - loss: 0.0022\n",
      "Epoch 57/100\n",
      "35/35 [==============================] - 1s 27ms/step - loss: 0.0021\n",
      "Epoch 58/100\n",
      "35/35 [==============================] - 1s 26ms/step - loss: 0.0020\n",
      "Epoch 59/100\n",
      "35/35 [==============================] - 1s 27ms/step - loss: 0.0021\n",
      "Epoch 60/100\n",
      "35/35 [==============================] - 1s 26ms/step - loss: 0.0022\n",
      "Epoch 61/100\n",
      "35/35 [==============================] - 1s 26ms/step - loss: 0.0021\n",
      "Epoch 62/100\n",
      "35/35 [==============================] - 1s 27ms/step - loss: 0.0022\n",
      "Epoch 63/100\n",
      "35/35 [==============================] - 1s 27ms/step - loss: 0.0019\n",
      "Epoch 64/100\n",
      "35/35 [==============================] - 1s 27ms/step - loss: 0.0019\n",
      "Epoch 65/100\n",
      "35/35 [==============================] - 1s 27ms/step - loss: 0.0019\n",
      "Epoch 66/100\n",
      "35/35 [==============================] - 1s 26ms/step - loss: 0.0021\n",
      "Epoch 67/100\n",
      "35/35 [==============================] - 1s 27ms/step - loss: 0.0022\n",
      "Epoch 68/100\n",
      "35/35 [==============================] - 1s 27ms/step - loss: 0.0018\n",
      "Epoch 69/100\n",
      "35/35 [==============================] - 1s 27ms/step - loss: 0.0017\n",
      "Epoch 70/100\n",
      "35/35 [==============================] - 1s 26ms/step - loss: 0.0019\n",
      "Epoch 71/100\n",
      "35/35 [==============================] - 1s 26ms/step - loss: 0.0017\n",
      "Epoch 72/100\n",
      "35/35 [==============================] - 1s 27ms/step - loss: 0.0016\n",
      "Epoch 73/100\n",
      "35/35 [==============================] - 1s 29ms/step - loss: 0.0018\n",
      "Epoch 74/100\n",
      "35/35 [==============================] - 1s 26ms/step - loss: 0.0017\n",
      "Epoch 75/100\n",
      "35/35 [==============================] - 1s 26ms/step - loss: 0.0017\n",
      "Epoch 76/100\n",
      "35/35 [==============================] - 1s 28ms/step - loss: 0.0015\n",
      "Epoch 77/100\n",
      "35/35 [==============================] - 1s 27ms/step - loss: 0.0017\n",
      "Epoch 78/100\n",
      "35/35 [==============================] - 1s 27ms/step - loss: 0.0018\n",
      "Epoch 79/100\n",
      "35/35 [==============================] - 1s 27ms/step - loss: 0.0017\n",
      "Epoch 80/100\n",
      "35/35 [==============================] - 1s 31ms/step - loss: 0.0016\n",
      "Epoch 81/100\n",
      "35/35 [==============================] - 1s 28ms/step - loss: 0.0018\n",
      "Epoch 82/100\n",
      "35/35 [==============================] - 1s 28ms/step - loss: 0.0016\n",
      "Epoch 83/100\n",
      "35/35 [==============================] - 1s 29ms/step - loss: 0.0017\n",
      "Epoch 84/100\n",
      "35/35 [==============================] - 1s 28ms/step - loss: 0.0017\n",
      "Epoch 85/100\n",
      "35/35 [==============================] - 1s 27ms/step - loss: 0.0017\n",
      "Epoch 86/100\n",
      "35/35 [==============================] - 1s 29ms/step - loss: 0.0015\n",
      "Epoch 87/100\n",
      "35/35 [==============================] - 1s 29ms/step - loss: 0.0015\n",
      "Epoch 88/100\n",
      "35/35 [==============================] - 1s 29ms/step - loss: 0.0013\n",
      "Epoch 89/100\n",
      "35/35 [==============================] - 1s 28ms/step - loss: 0.0016\n",
      "Epoch 90/100\n",
      "35/35 [==============================] - 1s 30ms/step - loss: 0.0016\n",
      "Epoch 91/100\n",
      "35/35 [==============================] - 1s 27ms/step - loss: 0.0013\n",
      "Epoch 92/100\n",
      "35/35 [==============================] - 1s 27ms/step - loss: 0.0014\n",
      "Epoch 93/100\n",
      "35/35 [==============================] - 1s 26ms/step - loss: 0.0013\n",
      "Epoch 94/100\n",
      "35/35 [==============================] - 1s 26ms/step - loss: 0.0013\n",
      "Epoch 95/100\n",
      "35/35 [==============================] - 1s 27ms/step - loss: 0.0014\n",
      "Epoch 96/100\n",
      "35/35 [==============================] - 1s 27ms/step - loss: 0.0015\n",
      "Epoch 97/100\n",
      "35/35 [==============================] - 1s 28ms/step - loss: 0.0014\n",
      "Epoch 98/100\n",
      "35/35 [==============================] - 1s 27ms/step - loss: 0.0013\n",
      "Epoch 99/100\n",
      "35/35 [==============================] - 1s 27ms/step - loss: 0.0012\n",
      "Epoch 100/100\n",
      "35/35 [==============================] - 1s 27ms/step - loss: 0.0013\n"
     ]
    },
    {
     "data": {
      "text/plain": [
       "<keras.callbacks.History at 0x26c223f9750>"
      ]
     },
     "execution_count": 23,
     "metadata": {},
     "output_type": "execute_result"
    }
   ],
   "source": [
    "rnn.fit(x_training_data, y_training_data, epochs = 100, batch_size = 32)"
   ]
  },
  {
   "cell_type": "code",
   "execution_count": 24,
   "id": "28218b23",
   "metadata": {},
   "outputs": [
    {
     "name": "stdout",
     "output_type": "stream",
     "text": [
      "3/3 [==============================] - 1s 10ms/step\n"
     ]
    }
   ],
   "source": [
    "predictions = rnn.predict(x_testing_data)"
   ]
  },
  {
   "cell_type": "code",
   "execution_count": 25,
   "id": "18cf89e5",
   "metadata": {},
   "outputs": [
    {
     "data": {
      "image/png": "[encoded data removed]",
      "text/plain": [
       "<Figure size 640x480 with 1 Axes>"
      ]
     },
     "metadata": {},
     "output_type": "display_data"
    }
   ],
   "source": [
    "unscaled_predictions = scaler.inverse_transform(predictions)\n",
    "unscaled_y_testing_data = scaler.inverse_transform(y_testing_data)\n",
    "\n",
    "plt.clf() #This clears the first prediction plot from our canvas\n",
    "\n",
    "plt.plot(unscaled_predictions, label=\"Previsão\")\n",
    "plt.plot(unscaled_y_testing_data, label=\"Valores de Teste\")\n",
    "plt.legend()\n",
    "plt.show()"
   ]
  },
  {
   "cell_type": "code",
   "execution_count": 26,
   "id": "1cd15956",
   "metadata": {},
   "outputs": [],
   "source": [
    "error = abs(predictions - y_testing_data)\n",
    "error **= 2"
   ]
  },
  {
   "cell_type": "code",
   "execution_count": 27,
   "id": "4412cd30",
   "metadata": {},
   "outputs": [
    {
     "data": {
      "text/plain": [
       "array([[False],\n",
       "       [False],\n",
       "       [False],\n",
       "       [False],\n",
       "       [False],\n",
       "       [False],\n",
       "       [False],\n",
       "       [False],\n",
       "       [False],\n",
       "       [False],\n",
       "       [False],\n",
       "       [False],\n",
       "       [False],\n",
       "       [False],\n",
       "       [False],\n",
       "       [False],\n",
       "       [False],\n",
       "       [False],\n",
       "       [False],\n",
       "       [False],\n",
       "       [False],\n",
       "       [False],\n",
       "       [False],\n",
       "       [False],\n",
       "       [False],\n",
       "       [False],\n",
       "       [False],\n",
       "       [False],\n",
       "       [False],\n",
       "       [False],\n",
       "       [False],\n",
       "       [False],\n",
       "       [False],\n",
       "       [False],\n",
       "       [False],\n",
       "       [False],\n",
       "       [False],\n",
       "       [False],\n",
       "       [False],\n",
       "       [False],\n",
       "       [False],\n",
       "       [False],\n",
       "       [False],\n",
       "       [False],\n",
       "       [False],\n",
       "       [False],\n",
       "       [False],\n",
       "       [False],\n",
       "       [False],\n",
       "       [False],\n",
       "       [False],\n",
       "       [False],\n",
       "       [False],\n",
       "       [False],\n",
       "       [False],\n",
       "       [False],\n",
       "       [False],\n",
       "       [False],\n",
       "       [False],\n",
       "       [False],\n",
       "       [False],\n",
       "       [False],\n",
       "       [False],\n",
       "       [False],\n",
       "       [False],\n",
       "       [False],\n",
       "       [False],\n",
       "       [False],\n",
       "       [False],\n",
       "       [False],\n",
       "       [False],\n",
       "       [False],\n",
       "       [False],\n",
       "       [False],\n",
       "       [False],\n",
       "       [False],\n",
       "       [False],\n",
       "       [False],\n",
       "       [False],\n",
       "       [False],\n",
       "       [False],\n",
       "       [False],\n",
       "       [False],\n",
       "       [False],\n",
       "       [ True],\n",
       "       [False]])"
      ]
     },
     "execution_count": 27,
     "metadata": {},
     "output_type": "execute_result"
    }
   ],
   "source": [
    "error > 0.01"
   ]
  },
  {
   "cell_type": "code",
   "execution_count": null,
   "id": "0c7b6eed",
   "metadata": {},
   "outputs": [],
   "source": []
  }
 ],
 "metadata": {
  "kernelspec": {
   "display_name": "Python 3 (ipykernel)",
   "language": "python",
   "name": "python3"
  },
  "language_info": {
   "codemirror_mode": {
    "name": "ipython",
    "version": 3
   },
   "file_extension": ".py",
   "mimetype": "text/x-python",
   "name": "python",
   "nbconvert_exporter": "python",
   "pygments_lexer": "ipython3",
   "version": "3.11.4"
  }
 },
 "nbformat": 4,
 "nbformat_minor": 5
}
