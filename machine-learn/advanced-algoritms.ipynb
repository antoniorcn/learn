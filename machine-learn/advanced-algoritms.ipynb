{
 "cells": [
  {
   "cell_type": "code",
   "execution_count": 5,
   "id": "1617842a",
   "metadata": {},
   "outputs": [],
   "source": [
    "import numpy as np\n",
    "import math"
   ]
  },
  {
   "cell_type": "code",
   "execution_count": 2,
   "id": "2d3dc9e9",
   "metadata": {},
   "outputs": [],
   "source": [
    "W = np.array([\n",
    "    [1, -3, 5],\n",
    "    [2, 4, -6],\n",
    "])"
   ]
  },
  {
   "cell_type": "code",
   "execution_count": 3,
   "id": "2551c831",
   "metadata": {},
   "outputs": [],
   "source": [
    "b = np.array([-1, 1, 2])"
   ]
  },
  {
   "cell_type": "code",
   "execution_count": 4,
   "id": "f74618c3",
   "metadata": {},
   "outputs": [],
   "source": [
    "a_in = np.array([-2, 4])"
   ]
  },
  {
   "cell_type": "code",
   "execution_count": 12,
   "id": "b4d42ccf",
   "metadata": {},
   "outputs": [],
   "source": [
    "def sigmoid( z ):\n",
    "    return 1/(1 + np.exp(-z)) "
   ]
  },
  {
   "cell_type": "code",
   "execution_count": 13,
   "id": "311cf868",
   "metadata": {},
   "outputs": [],
   "source": [
    "def dense(a_in, W, b):\n",
    "    size = W.shape[1]\n",
    "    a_out = np.zeros(size)\n",
    "    for j in range(size):\n",
    "        w = W[:, j]\n",
    "        z = np.dot(w, a_in) + b[j]\n",
    "        g = sigmoid(z)\n",
    "        a_out[j] = g\n",
    "    return a_out"
   ]
  },
  {
   "cell_type": "code",
   "execution_count": 14,
   "id": "c9102236",
   "metadata": {},
   "outputs": [
    {
     "data": {
      "text/plain": [
       "array([9.93307149e-01, 1.00000000e+00, 1.26641655e-14])"
      ]
     },
     "execution_count": 14,
     "metadata": {},
     "output_type": "execute_result"
    }
   ],
   "source": [
    "dense(a_in, W, b)"
   ]
  },
  {
   "cell_type": "code",
   "execution_count": null,
   "id": "5e57e663",
   "metadata": {},
   "outputs": [],
   "source": []
  }
 ],
 "metadata": {
  "kernelspec": {
   "display_name": "Python 3 (ipykernel)",
   "language": "python",
   "name": "python3"
  },
  "language_info": {
   "codemirror_mode": {
    "name": "ipython",
    "version": 3
   },
   "file_extension": ".py",
   "mimetype": "text/x-python",
   "name": "python",
   "nbconvert_exporter": "python",
   "pygments_lexer": "ipython3",
   "version": "3.10.9"
  }
 },
 "nbformat": 4,
 "nbformat_minor": 5
}
