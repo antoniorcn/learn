{
 "cells": [
  {
   "cell_type": "code",
   "execution_count": 29,
   "id": "dab20244",
   "metadata": {},
   "outputs": [],
   "source": [
    "import math\n",
    "import matplotlib as plt\n",
    "from fractions import Fraction"
   ]
  },
  {
   "cell_type": "code",
   "execution_count": 32,
   "id": "71745b0b",
   "metadata": {},
   "outputs": [
    {
     "name": "stdout",
     "output_type": "stream",
     "text": [
      "Collecting gmpy2\n",
      "  Downloading gmpy2-2.1.5-cp311-cp311-win_amd64.whl (1.1 MB)\n",
      "     ---------------------------------------- 0.0/1.1 MB ? eta -:--:--\n",
      "     ------------------ --------------------- 0.5/1.1 MB 10.9 MB/s eta 0:00:01\n",
      "     -------------------------------------- - 1.1/1.1 MB 11.2 MB/s eta 0:00:01\n",
      "     ---------------------------------------- 1.1/1.1 MB 10.1 MB/s eta 0:00:00\n",
      "Installing collected packages: gmpy2\n",
      "Successfully installed gmpy2-2.1.5\n"
     ]
    }
   ],
   "source": [
    "!python -m pip install gmpy2"
   ]
  },
  {
   "cell_type": "code",
   "execution_count": 33,
   "id": "b469fc2a",
   "metadata": {},
   "outputs": [
    {
     "name": "stdout",
     "output_type": "stream",
     "text": [
      "2.718281828459045235360287471352662497757247093699959574966967627724076630353547594571382178525166427427466391932003059921817413596629043572900334295260595630738132328627943490763233829880753195251019011573834187930702154089149934884167509244761460668082264800168477411853742345442437107539077744992069551702761838606261331384583000752044933826560297606737113200709328709127443747047230696977209310141692836819025515108657463772111252389784425056953696770785449969967946864454905987931636889230098793127736178215424999229576351482208269895193668033182528869398496465105820939239829488793320362509443117303\n"
     ]
    }
   ],
   "source": [
    "import gmpy2\n",
    "with gmpy2.local_context(gmpy2.context(), precision=2000) as ctx:\n",
    "    e = gmpy2.exp(gmpy2.mpfr('1'))\n",
    "    print(e)"
   ]
  },
  {
   "cell_type": "code",
   "execution_count": 46,
   "id": "7ae3024b",
   "metadata": {},
   "outputs": [],
   "source": [
    "def euler5(n):\n",
    "    print('Potential is:', n)\n",
    "    inner = 1.0 + 1.0/n\n",
    "    print('inner value is:', inner)\n",
    "    e = inner**n\n",
    "    print('e = ', e)\n",
    "    return e"
   ]
  },
  {
   "cell_type": "code",
   "execution_count": 44,
   "id": "fe33af52",
   "metadata": {},
   "outputs": [],
   "source": [
    "x = 1\n",
    "n = 1\n",
    "\n",
    "for i in range(30000, 1, -1):\n",
    "    x *= i\n",
    "    n += x\n",
    "euler_4 = Fraction(n, x) + 1.0    "
   ]
  },
  {
   "cell_type": "code",
   "execution_count": 42,
   "id": "6307dc7b",
   "metadata": {},
   "outputs": [],
   "source": [
    "def calculate_euler_number(n):\n",
    "    return math.pow(1.0 + 1.0/float(n), float(n))\n",
    "\n",
    "def calculate_e(n):\n",
    "    \"\"\"\n",
    "    Calculate Euler's number (e) using a loop\n",
    "    \"\"\"\n",
    "    e = 1.0\n",
    "    factorial = 1.0\n",
    "\n",
    "    for i in range(1, n+1):\n",
    "        factorial *= i\n",
    "        e += 1.0 / factorial\n",
    "\n",
    "    return e"
   ]
  },
  {
   "cell_type": "code",
   "execution_count": 47,
   "id": "bcbeac11",
   "metadata": {},
   "outputs": [
    {
     "name": "stdout",
     "output_type": "stream",
     "text": [
      "Calculo do número de Euler por limites\n",
      "Euler number Original:  2.718281828459045\n",
      "Euler number 1:  2.7182815255731922\n",
      "Euler number 2:  2.7182804690957534\n",
      "Euler number 3:  2.7182818011463845\n",
      "Euler number 4:  2.7182818284590455\n",
      "Potential is: 1000000\n",
      "inner value is: 1.000001\n",
      "e =  2.7182804690957534\n",
      "Euler number 5:  2.7182804690957534\n"
     ]
    }
   ],
   "source": [
    "print(\"Calculo do número de Euler por limites\")\n",
    "# n = int(input(\"Informe o numero de casas desejadas: \"))\n",
    "# euler = calculo_numero_euler_limites(10 ** n)\n",
    "n = 1000000.0\n",
    "# euler = (1 + 1/n)**n\n",
    "euler = sum(1.0/math.factorial(n) for n in range(0, 10))\n",
    "\n",
    "print(\"Euler number Original: \", math.e)\n",
    "print(\"Euler number 1: \", float(euler))\n",
    "print(\"Euler number 2: \", float(calculate_euler_number(1000000)))\n",
    "print(\"Euler number 3: \", float(calculate_e(10)))\n",
    "print(\"Euler number 4: \", float(euler_4))\n",
    "print(\"Euler number 5: \", float(euler5(1000000)))"
   ]
  },
  {
   "cell_type": "code",
   "execution_count": null,
   "id": "0223e31e",
   "metadata": {},
   "outputs": [],
   "source": []
  }
 ],
 "metadata": {
  "kernelspec": {
   "display_name": "Python 3 (ipykernel)",
   "language": "python",
   "name": "python3"
  },
  "language_info": {
   "codemirror_mode": {
    "name": "ipython",
    "version": 3
   },
   "file_extension": ".py",
   "mimetype": "text/x-python",
   "name": "python",
   "nbconvert_exporter": "python",
   "pygments_lexer": "ipython3",
   "version": "3.11.4"
  }
 },
 "nbformat": 4,
 "nbformat_minor": 5
}
