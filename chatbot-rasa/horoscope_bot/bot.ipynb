{
 "cells": [
  {
   "cell_type": "code",
   "execution_count": 2,
   "id": "8d5aa797-0cb2-42df-8b35-1663708b5708",
   "metadata": {},
   "outputs": [
    {
     "ename": "ModuleNotFoundError",
     "evalue": "No module named 'rasa_nlu'",
     "output_type": "error",
     "traceback": [
      "\u001b[1;31m---------------------------------------------------------------------------\u001b[0m",
      "\u001b[1;31mModuleNotFoundError\u001b[0m                       Traceback (most recent call last)",
      "Cell \u001b[1;32mIn[2], line 1\u001b[0m\n\u001b[1;32m----> 1\u001b[0m \u001b[38;5;28;01mfrom\u001b[39;00m\u001b[38;5;250m \u001b[39m\u001b[38;5;21;01mrasa_nlu\u001b[39;00m\u001b[38;5;21;01m.\u001b[39;00m\u001b[38;5;21;01mtraining_data\u001b[39;00m\u001b[38;5;250m \u001b[39m\u001b[38;5;28;01mimport\u001b[39;00m load_data\n",
      "\u001b[1;31mModuleNotFoundError\u001b[0m: No module named 'rasa_nlu'"
     ]
    }
   ],
   "source": [
    "from rasa_nlu.training_data import load_data"
   ]
  },
  {
   "cell_type": "code",
   "execution_count": null,
   "id": "e2f54282-f1ef-4e0b-ae2d-b9e673356682",
   "metadata": {},
   "outputs": [],
   "source": [
    "from rasa_nlu.model import Trainer"
   ]
  },
  {
   "cell_type": "markdown",
   "id": "53ce0deb-d341-4a06-81f7-392923be124a",
   "metadata": {},
   "source": [
    "from rasa_nlu import config"
   ]
  },
  {
   "cell_type": "code",
   "execution_count": null,
   "id": "3d2dc484-1951-41d6-9997-7f2ee3f78f46",
   "metadata": {},
   "outputs": [],
   "source": [
    "from rasa_nlu.demol import Interpreter"
   ]
  },
  {
   "cell_type": "code",
   "execution_count": null,
   "id": "10799c30-1d28-4bd7-a0c0-d8d0b423548a",
   "metadata": {},
   "outputs": [],
   "source": [
    "def train_horoscope_bot(data_json, config_file, model_dir):\n",
    "    training_data = load_data(data_json)\n",
    "    trainer = Trainer(config.load(config_file))\n",
    "    trainer.train(training_data)\n",
    "    model_directory = trainer.persist(model_dir, fixed_model_name = \"horoscopebot\")"
   ]
  },
  {
   "cell_type": "code",
   "execution_count": null,
   "id": "63caf546-a630-4930-82aa-bf1c9c33ddc0",
   "metadata": {},
   "outputs": [],
   "source": [
    "def predict_intent(text):\n",
    "    interpreter = Interpreter.load(\"./models/nlu/default/horoscopebot\")\n",
    "    print(interpreter.parse(text))"
   ]
  },
  {
   "cell_type": "code",
   "execution_count": null,
   "id": "bfd68461-f0c3-4845-9d0a-89ba8928c524",
   "metadata": {},
   "outputs": [],
   "source": [
    "train_horoscopebot( \"./data/data.json\", \"./config.json\", \"./models/nlu\")"
   ]
  }
 ],
 "metadata": {
  "kernelspec": {
   "display_name": "rasa_env",
   "language": "python",
   "name": "python3"
  },
  "language_info": {
   "codemirror_mode": {
    "name": "ipython",
    "version": 3
   },
   "file_extension": ".py",
   "mimetype": "text/x-python",
   "name": "python",
   "nbconvert_exporter": "python",
   "pygments_lexer": "ipython3",
   "version": "3.9.13"
  }
 },
 "nbformat": 4,
 "nbformat_minor": 5
}
